{
  "cells": [
    {
      "cell_type": "markdown",
      "metadata": {
        "id": "4aHs27ZYPZl4"
      },
      "source": [
        "\n",
        "\n",
        "# **Introduction to the code**\n",
        "\n"
      ]
    },
    {
      "cell_type": "markdown",
      "metadata": {
        "id": "XWiih86YNbWn"
      },
      "source": [
        "\n",
        "***Below is the code implementing a Federated approach for a multiple linear regression model using the California Housing dataset. We have created a custom Regressor class that utilizes Stochastic Gradient Descent as its optimizer. Additionally, we have created a Federated class that acts as the server unit, collecting weights and biases from individual clients to produce new weight and bias.***\n",
        "\n",
        "***More on the Federated Class:***\n",
        "\n",
        "***The Federated class takes in several inputs including a global model, a local model, the number of cycles for training, the number of clients, and the x and y data. The class then splits the x and y data among the clients and trains the local model on each client's data. The local models are then aggregated to update the global model. The process is repeated for a specified number of cycles.***\n",
        "\n",
        "***The \"fed_learn\" method is responsible for iterating through the cycles, training the local models, and aggregating the global model. The \"client_data_split\" method is used to divide the input and output data among the clients. The code also keeps track of the mean squared error (MSE) for each cycle and stores it in a list. The final output of the Federated class is the trained global model, the list of MSE values, and a list of the cycle numbers.***\n",
        "\n",
        "***Finally, we compare our results with the results produced by scikit-learn functions for the same dataset.***"
      ]
    },
    {
      "cell_type": "markdown",
      "metadata": {
        "id": "o7rJeH8LJmbT"
      },
      "source": [
        "***Importing Required Libraries***"
      ]
    },
    {
      "cell_type": "code",
      "execution_count": null,
      "metadata": {
        "id": "q8VyE1Q5nrzj"
      },
      "outputs": [],
      "source": [
        "import numpy as np\n",
        "import random\n",
        "import pandas as pd\n",
        "import matplotlib.pyplot as plt\n",
        "from sklearn.model_selection import train_test_split\n",
        "import seaborn as sb\n",
        "from sklearn.metrics import mean_squared_error\n",
        "from sklearn.metrics import median_absolute_error\n",
        "from sklearn.cluster import DBSCAN\n",
        "from sklearn.metrics import r2_score\n",
        "from sklearn.linear_model import LinearRegression"
      ]
    },
    {
      "cell_type": "markdown",
      "metadata": {
        "id": "BjrEpPCYJu3Z"
      },
      "source": [
        "***importing the data and converting it to a Pandas DataFrame***"
      ]
    },
    {
      "cell_type": "code",
      "execution_count": null,
      "metadata": {
        "id": "1w3WeH2oY9zh",
        "colab": {
          "base_uri": "https://localhost:8080/"
        },
        "outputId": "05819365-687e-494f-813a-0d63a7d93b1e"
      },
      "outputs": [
        {
          "output_type": "stream",
          "name": "stdout",
          "text": [
            "Drive already mounted at /content/drive; to attempt to forcibly remount, call drive.mount(\"/content/drive\", force_remount=True).\n"
          ]
        }
      ],
      "source": [
        "from google.colab import drive\n",
        "drive.mount('/content/drive')\n",
        "path= \"/content/drive/MyDrive/Colab Notebooks/USA_Housing.csv\""
      ]
    },
    {
      "cell_type": "code",
      "execution_count": null,
      "metadata": {
        "id": "88j2PYC93Ota"
      },
      "outputs": [],
      "source": [
        "df  = pd.read_csv(path)"
      ]
    },
    {
      "cell_type": "markdown",
      "metadata": {
        "id": "GG5DHP7N2Eqg"
      },
      "source": [
        "# ***DATA ANALYSIS AND PREPROCESS***"
      ]
    },
    {
      "cell_type": "code",
      "execution_count": null,
      "metadata": {
        "id": "5okObXQZZuLB",
        "colab": {
          "base_uri": "https://localhost:8080/",
          "height": 206
        },
        "outputId": "d5a5be2c-c016-473e-e755-526aa1cd8633"
      },
      "outputs": [
        {
          "output_type": "execute_result",
          "data": {
            "text/plain": [
              "   Avg. Area Income  Avg. Area House Age  Avg. Area Number of Rooms  \\\n",
              "0      79545.458574             5.682861                   7.009188   \n",
              "1      79248.642455             6.002900                   6.730821   \n",
              "2      61287.067179             5.865890                   8.512727   \n",
              "3      63345.240046             7.188236                   5.586729   \n",
              "4      59982.197226             5.040555                   7.839388   \n",
              "\n",
              "   Avg. Area Number of Bedrooms  Area Population         Price  \\\n",
              "0                          4.09     23086.800503  1.059034e+06   \n",
              "1                          3.09     40173.072174  1.505891e+06   \n",
              "2                          5.13     36882.159400  1.058988e+06   \n",
              "3                          3.26     34310.242831  1.260617e+06   \n",
              "4                          4.23     26354.109472  6.309435e+05   \n",
              "\n",
              "                                             Address  \n",
              "0  208 Michael Ferry Apt. 674\\nLaurabury, NE 3701...  \n",
              "1  188 Johnson Views Suite 079\\nLake Kathleen, CA...  \n",
              "2  9127 Elizabeth Stravenue\\nDanieltown, WI 06482...  \n",
              "3                          USS Barnett\\nFPO AP 44820  \n",
              "4                         USNS Raymond\\nFPO AE 09386  "
            ],
            "text/html": [
              "\n",
              "  <div id=\"df-ed08f4d3-856a-4988-8f73-1825998d52ef\" class=\"colab-df-container\">\n",
              "    <div>\n",
              "<style scoped>\n",
              "    .dataframe tbody tr th:only-of-type {\n",
              "        vertical-align: middle;\n",
              "    }\n",
              "\n",
              "    .dataframe tbody tr th {\n",
              "        vertical-align: top;\n",
              "    }\n",
              "\n",
              "    .dataframe thead th {\n",
              "        text-align: right;\n",
              "    }\n",
              "</style>\n",
              "<table border=\"1\" class=\"dataframe\">\n",
              "  <thead>\n",
              "    <tr style=\"text-align: right;\">\n",
              "      <th></th>\n",
              "      <th>Avg. Area Income</th>\n",
              "      <th>Avg. Area House Age</th>\n",
              "      <th>Avg. Area Number of Rooms</th>\n",
              "      <th>Avg. Area Number of Bedrooms</th>\n",
              "      <th>Area Population</th>\n",
              "      <th>Price</th>\n",
              "      <th>Address</th>\n",
              "    </tr>\n",
              "  </thead>\n",
              "  <tbody>\n",
              "    <tr>\n",
              "      <th>0</th>\n",
              "      <td>79545.458574</td>\n",
              "      <td>5.682861</td>\n",
              "      <td>7.009188</td>\n",
              "      <td>4.09</td>\n",
              "      <td>23086.800503</td>\n",
              "      <td>1.059034e+06</td>\n",
              "      <td>208 Michael Ferry Apt. 674\\nLaurabury, NE 3701...</td>\n",
              "    </tr>\n",
              "    <tr>\n",
              "      <th>1</th>\n",
              "      <td>79248.642455</td>\n",
              "      <td>6.002900</td>\n",
              "      <td>6.730821</td>\n",
              "      <td>3.09</td>\n",
              "      <td>40173.072174</td>\n",
              "      <td>1.505891e+06</td>\n",
              "      <td>188 Johnson Views Suite 079\\nLake Kathleen, CA...</td>\n",
              "    </tr>\n",
              "    <tr>\n",
              "      <th>2</th>\n",
              "      <td>61287.067179</td>\n",
              "      <td>5.865890</td>\n",
              "      <td>8.512727</td>\n",
              "      <td>5.13</td>\n",
              "      <td>36882.159400</td>\n",
              "      <td>1.058988e+06</td>\n",
              "      <td>9127 Elizabeth Stravenue\\nDanieltown, WI 06482...</td>\n",
              "    </tr>\n",
              "    <tr>\n",
              "      <th>3</th>\n",
              "      <td>63345.240046</td>\n",
              "      <td>7.188236</td>\n",
              "      <td>5.586729</td>\n",
              "      <td>3.26</td>\n",
              "      <td>34310.242831</td>\n",
              "      <td>1.260617e+06</td>\n",
              "      <td>USS Barnett\\nFPO AP 44820</td>\n",
              "    </tr>\n",
              "    <tr>\n",
              "      <th>4</th>\n",
              "      <td>59982.197226</td>\n",
              "      <td>5.040555</td>\n",
              "      <td>7.839388</td>\n",
              "      <td>4.23</td>\n",
              "      <td>26354.109472</td>\n",
              "      <td>6.309435e+05</td>\n",
              "      <td>USNS Raymond\\nFPO AE 09386</td>\n",
              "    </tr>\n",
              "  </tbody>\n",
              "</table>\n",
              "</div>\n",
              "    <div class=\"colab-df-buttons\">\n",
              "\n",
              "  <div class=\"colab-df-container\">\n",
              "    <button class=\"colab-df-convert\" onclick=\"convertToInteractive('df-ed08f4d3-856a-4988-8f73-1825998d52ef')\"\n",
              "            title=\"Convert this dataframe to an interactive table.\"\n",
              "            style=\"display:none;\">\n",
              "\n",
              "  <svg xmlns=\"http://www.w3.org/2000/svg\" height=\"24px\" viewBox=\"0 -960 960 960\">\n",
              "    <path d=\"M120-120v-720h720v720H120Zm60-500h600v-160H180v160Zm220 220h160v-160H400v160Zm0 220h160v-160H400v160ZM180-400h160v-160H180v160Zm440 0h160v-160H620v160ZM180-180h160v-160H180v160Zm440 0h160v-160H620v160Z\"/>\n",
              "  </svg>\n",
              "    </button>\n",
              "\n",
              "  <style>\n",
              "    .colab-df-container {\n",
              "      display:flex;\n",
              "      gap: 12px;\n",
              "    }\n",
              "\n",
              "    .colab-df-convert {\n",
              "      background-color: #E8F0FE;\n",
              "      border: none;\n",
              "      border-radius: 50%;\n",
              "      cursor: pointer;\n",
              "      display: none;\n",
              "      fill: #1967D2;\n",
              "      height: 32px;\n",
              "      padding: 0 0 0 0;\n",
              "      width: 32px;\n",
              "    }\n",
              "\n",
              "    .colab-df-convert:hover {\n",
              "      background-color: #E2EBFA;\n",
              "      box-shadow: 0px 1px 2px rgba(60, 64, 67, 0.3), 0px 1px 3px 1px rgba(60, 64, 67, 0.15);\n",
              "      fill: #174EA6;\n",
              "    }\n",
              "\n",
              "    .colab-df-buttons div {\n",
              "      margin-bottom: 4px;\n",
              "    }\n",
              "\n",
              "    [theme=dark] .colab-df-convert {\n",
              "      background-color: #3B4455;\n",
              "      fill: #D2E3FC;\n",
              "    }\n",
              "\n",
              "    [theme=dark] .colab-df-convert:hover {\n",
              "      background-color: #434B5C;\n",
              "      box-shadow: 0px 1px 3px 1px rgba(0, 0, 0, 0.15);\n",
              "      filter: drop-shadow(0px 1px 2px rgba(0, 0, 0, 0.3));\n",
              "      fill: #FFFFFF;\n",
              "    }\n",
              "  </style>\n",
              "\n",
              "    <script>\n",
              "      const buttonEl =\n",
              "        document.querySelector('#df-ed08f4d3-856a-4988-8f73-1825998d52ef button.colab-df-convert');\n",
              "      buttonEl.style.display =\n",
              "        google.colab.kernel.accessAllowed ? 'block' : 'none';\n",
              "\n",
              "      async function convertToInteractive(key) {\n",
              "        const element = document.querySelector('#df-ed08f4d3-856a-4988-8f73-1825998d52ef');\n",
              "        const dataTable =\n",
              "          await google.colab.kernel.invokeFunction('convertToInteractive',\n",
              "                                                    [key], {});\n",
              "        if (!dataTable) return;\n",
              "\n",
              "        const docLinkHtml = 'Like what you see? Visit the ' +\n",
              "          '<a target=\"_blank\" href=https://colab.research.google.com/notebooks/data_table.ipynb>data table notebook</a>'\n",
              "          + ' to learn more about interactive tables.';\n",
              "        element.innerHTML = '';\n",
              "        dataTable['output_type'] = 'display_data';\n",
              "        await google.colab.output.renderOutput(dataTable, element);\n",
              "        const docLink = document.createElement('div');\n",
              "        docLink.innerHTML = docLinkHtml;\n",
              "        element.appendChild(docLink);\n",
              "      }\n",
              "    </script>\n",
              "  </div>\n",
              "\n",
              "\n",
              "<div id=\"df-6efdb3f9-6adf-4b6f-be19-7d2d6d293bfe\">\n",
              "  <button class=\"colab-df-quickchart\" onclick=\"quickchart('df-6efdb3f9-6adf-4b6f-be19-7d2d6d293bfe')\"\n",
              "            title=\"Suggest charts\"\n",
              "            style=\"display:none;\">\n",
              "\n",
              "<svg xmlns=\"http://www.w3.org/2000/svg\" height=\"24px\"viewBox=\"0 0 24 24\"\n",
              "     width=\"24px\">\n",
              "    <g>\n",
              "        <path d=\"M19 3H5c-1.1 0-2 .9-2 2v14c0 1.1.9 2 2 2h14c1.1 0 2-.9 2-2V5c0-1.1-.9-2-2-2zM9 17H7v-7h2v7zm4 0h-2V7h2v10zm4 0h-2v-4h2v4z\"/>\n",
              "    </g>\n",
              "</svg>\n",
              "  </button>\n",
              "\n",
              "<style>\n",
              "  .colab-df-quickchart {\n",
              "      --bg-color: #E8F0FE;\n",
              "      --fill-color: #1967D2;\n",
              "      --hover-bg-color: #E2EBFA;\n",
              "      --hover-fill-color: #174EA6;\n",
              "      --disabled-fill-color: #AAA;\n",
              "      --disabled-bg-color: #DDD;\n",
              "  }\n",
              "\n",
              "  [theme=dark] .colab-df-quickchart {\n",
              "      --bg-color: #3B4455;\n",
              "      --fill-color: #D2E3FC;\n",
              "      --hover-bg-color: #434B5C;\n",
              "      --hover-fill-color: #FFFFFF;\n",
              "      --disabled-bg-color: #3B4455;\n",
              "      --disabled-fill-color: #666;\n",
              "  }\n",
              "\n",
              "  .colab-df-quickchart {\n",
              "    background-color: var(--bg-color);\n",
              "    border: none;\n",
              "    border-radius: 50%;\n",
              "    cursor: pointer;\n",
              "    display: none;\n",
              "    fill: var(--fill-color);\n",
              "    height: 32px;\n",
              "    padding: 0;\n",
              "    width: 32px;\n",
              "  }\n",
              "\n",
              "  .colab-df-quickchart:hover {\n",
              "    background-color: var(--hover-bg-color);\n",
              "    box-shadow: 0 1px 2px rgba(60, 64, 67, 0.3), 0 1px 3px 1px rgba(60, 64, 67, 0.15);\n",
              "    fill: var(--button-hover-fill-color);\n",
              "  }\n",
              "\n",
              "  .colab-df-quickchart-complete:disabled,\n",
              "  .colab-df-quickchart-complete:disabled:hover {\n",
              "    background-color: var(--disabled-bg-color);\n",
              "    fill: var(--disabled-fill-color);\n",
              "    box-shadow: none;\n",
              "  }\n",
              "\n",
              "  .colab-df-spinner {\n",
              "    border: 2px solid var(--fill-color);\n",
              "    border-color: transparent;\n",
              "    border-bottom-color: var(--fill-color);\n",
              "    animation:\n",
              "      spin 1s steps(1) infinite;\n",
              "  }\n",
              "\n",
              "  @keyframes spin {\n",
              "    0% {\n",
              "      border-color: transparent;\n",
              "      border-bottom-color: var(--fill-color);\n",
              "      border-left-color: var(--fill-color);\n",
              "    }\n",
              "    20% {\n",
              "      border-color: transparent;\n",
              "      border-left-color: var(--fill-color);\n",
              "      border-top-color: var(--fill-color);\n",
              "    }\n",
              "    30% {\n",
              "      border-color: transparent;\n",
              "      border-left-color: var(--fill-color);\n",
              "      border-top-color: var(--fill-color);\n",
              "      border-right-color: var(--fill-color);\n",
              "    }\n",
              "    40% {\n",
              "      border-color: transparent;\n",
              "      border-right-color: var(--fill-color);\n",
              "      border-top-color: var(--fill-color);\n",
              "    }\n",
              "    60% {\n",
              "      border-color: transparent;\n",
              "      border-right-color: var(--fill-color);\n",
              "    }\n",
              "    80% {\n",
              "      border-color: transparent;\n",
              "      border-right-color: var(--fill-color);\n",
              "      border-bottom-color: var(--fill-color);\n",
              "    }\n",
              "    90% {\n",
              "      border-color: transparent;\n",
              "      border-bottom-color: var(--fill-color);\n",
              "    }\n",
              "  }\n",
              "</style>\n",
              "\n",
              "  <script>\n",
              "    async function quickchart(key) {\n",
              "      const quickchartButtonEl =\n",
              "        document.querySelector('#' + key + ' button');\n",
              "      quickchartButtonEl.disabled = true;  // To prevent multiple clicks.\n",
              "      quickchartButtonEl.classList.add('colab-df-spinner');\n",
              "      try {\n",
              "        const charts = await google.colab.kernel.invokeFunction(\n",
              "            'suggestCharts', [key], {});\n",
              "      } catch (error) {\n",
              "        console.error('Error during call to suggestCharts:', error);\n",
              "      }\n",
              "      quickchartButtonEl.classList.remove('colab-df-spinner');\n",
              "      quickchartButtonEl.classList.add('colab-df-quickchart-complete');\n",
              "    }\n",
              "    (() => {\n",
              "      let quickchartButtonEl =\n",
              "        document.querySelector('#df-6efdb3f9-6adf-4b6f-be19-7d2d6d293bfe button');\n",
              "      quickchartButtonEl.style.display =\n",
              "        google.colab.kernel.accessAllowed ? 'block' : 'none';\n",
              "    })();\n",
              "  </script>\n",
              "</div>\n",
              "\n",
              "    </div>\n",
              "  </div>\n"
            ],
            "application/vnd.google.colaboratory.intrinsic+json": {
              "type": "dataframe",
              "variable_name": "df",
              "summary": "{\n  \"name\": \"df\",\n  \"rows\": 5000,\n  \"fields\": [\n    {\n      \"column\": \"Avg. Area Income\",\n      \"properties\": {\n        \"dtype\": \"number\",\n        \"std\": 10657.991213830363,\n        \"min\": 17796.631189543397,\n        \"max\": 107701.74837763936,\n        \"num_unique_values\": 5000,\n        \"samples\": [\n          61907.59334528668,\n          57160.20224330715,\n          70190.79644494488\n        ],\n        \"semantic_type\": \"\",\n        \"description\": \"\"\n      }\n    },\n    {\n      \"column\": \"Avg. Area House Age\",\n      \"properties\": {\n        \"dtype\": \"number\",\n        \"std\": 0.9914561798281712,\n        \"min\": 2.644304186036705,\n        \"max\": 9.51908806613594,\n        \"num_unique_values\": 5000,\n        \"samples\": [\n          7.017837824742983,\n          6.893260095195835,\n          6.745053761849909\n        ],\n        \"semantic_type\": \"\",\n        \"description\": \"\"\n      }\n    },\n    {\n      \"column\": \"Avg. Area Number of Rooms\",\n      \"properties\": {\n        \"dtype\": \"number\",\n        \"std\": 1.0058332312773872,\n        \"min\": 3.2361940234262048,\n        \"max\": 10.759588335938624,\n        \"num_unique_values\": 5000,\n        \"samples\": [\n          6.440255754985625,\n          6.921532164642504,\n          6.6625667327280365\n        ],\n        \"semantic_type\": \"\",\n        \"description\": \"\"\n      }\n    },\n    {\n      \"column\": \"Avg. Area Number of Bedrooms\",\n      \"properties\": {\n        \"dtype\": \"number\",\n        \"std\": 1.2341372654846827,\n        \"min\": 2.0,\n        \"max\": 6.5,\n        \"num_unique_values\": 255,\n        \"samples\": [\n          3.5,\n          3.41,\n          3.33\n        ],\n        \"semantic_type\": \"\",\n        \"description\": \"\"\n      }\n    },\n    {\n      \"column\": \"Area Population\",\n      \"properties\": {\n        \"dtype\": \"number\",\n        \"std\": 9925.650113501244,\n        \"min\": 172.61068627290044,\n        \"max\": 69621.7133777904,\n        \"num_unique_values\": 5000,\n        \"samples\": [\n          43828.947207425765,\n          43467.14703549413,\n          29215.13611183857\n        ],\n        \"semantic_type\": \"\",\n        \"description\": \"\"\n      }\n    },\n    {\n      \"column\": \"Price\",\n      \"properties\": {\n        \"dtype\": \"number\",\n        \"std\": 353117.6265810608,\n        \"min\": 15938.657923287848,\n        \"max\": 2469065.5941747027,\n        \"num_unique_values\": 5000,\n        \"samples\": [\n          1339096.0772451318,\n          1251794.178836864,\n          1340094.9662054193\n        ],\n        \"semantic_type\": \"\",\n        \"description\": \"\"\n      }\n    },\n    {\n      \"column\": \"Address\",\n      \"properties\": {\n        \"dtype\": \"string\",\n        \"num_unique_values\": 5000,\n        \"samples\": [\n          \"7521 Gregory Meadows\\nEast Johntown, CO 93230-5255\",\n          \"15828 Marshall Stravenue Suite 199\\nEast Matthewmouth, TN 71861-6319\",\n          \"USNS Brandt\\nFPO AE 72594\"\n        ],\n        \"semantic_type\": \"\",\n        \"description\": \"\"\n      }\n    }\n  ]\n}"
            }
          },
          "metadata": {},
          "execution_count": 1077
        }
      ],
      "source": [
        "df.head()"
      ]
    },
    {
      "cell_type": "code",
      "execution_count": null,
      "metadata": {
        "id": "jmfr8nL727ws",
        "colab": {
          "base_uri": "https://localhost:8080/"
        },
        "outputId": "7f55e342-2a79-41a2-a992-afc6e7c85546"
      },
      "outputs": [
        {
          "output_type": "stream",
          "name": "stdout",
          "text": [
            "<class 'pandas.core.frame.DataFrame'>\n",
            "RangeIndex: 5000 entries, 0 to 4999\n",
            "Data columns (total 7 columns):\n",
            " #   Column                        Non-Null Count  Dtype  \n",
            "---  ------                        --------------  -----  \n",
            " 0   Avg. Area Income              5000 non-null   float64\n",
            " 1   Avg. Area House Age           5000 non-null   float64\n",
            " 2   Avg. Area Number of Rooms     5000 non-null   float64\n",
            " 3   Avg. Area Number of Bedrooms  5000 non-null   float64\n",
            " 4   Area Population               5000 non-null   float64\n",
            " 5   Price                         5000 non-null   float64\n",
            " 6   Address                       5000 non-null   object \n",
            "dtypes: float64(6), object(1)\n",
            "memory usage: 273.6+ KB\n"
          ]
        }
      ],
      "source": [
        "df.info()"
      ]
    },
    {
      "cell_type": "markdown",
      "metadata": {
        "id": "np1yB04fJ344"
      },
      "source": [
        "***Checking for Null Values***"
      ]
    },
    {
      "cell_type": "code",
      "execution_count": null,
      "metadata": {
        "id": "iqpk_qwcZz7F",
        "colab": {
          "base_uri": "https://localhost:8080/",
          "height": 304
        },
        "outputId": "c77f89fc-b0f8-455c-82a2-094fbc3e4b9b"
      },
      "outputs": [
        {
          "output_type": "execute_result",
          "data": {
            "text/plain": [
              "Avg. Area Income                0\n",
              "Avg. Area House Age             0\n",
              "Avg. Area Number of Rooms       0\n",
              "Avg. Area Number of Bedrooms    0\n",
              "Area Population                 0\n",
              "Price                           0\n",
              "Address                         0\n",
              "dtype: int64"
            ],
            "text/html": [
              "<div>\n",
              "<style scoped>\n",
              "    .dataframe tbody tr th:only-of-type {\n",
              "        vertical-align: middle;\n",
              "    }\n",
              "\n",
              "    .dataframe tbody tr th {\n",
              "        vertical-align: top;\n",
              "    }\n",
              "\n",
              "    .dataframe thead th {\n",
              "        text-align: right;\n",
              "    }\n",
              "</style>\n",
              "<table border=\"1\" class=\"dataframe\">\n",
              "  <thead>\n",
              "    <tr style=\"text-align: right;\">\n",
              "      <th></th>\n",
              "      <th>0</th>\n",
              "    </tr>\n",
              "  </thead>\n",
              "  <tbody>\n",
              "    <tr>\n",
              "      <th>Avg. Area Income</th>\n",
              "      <td>0</td>\n",
              "    </tr>\n",
              "    <tr>\n",
              "      <th>Avg. Area House Age</th>\n",
              "      <td>0</td>\n",
              "    </tr>\n",
              "    <tr>\n",
              "      <th>Avg. Area Number of Rooms</th>\n",
              "      <td>0</td>\n",
              "    </tr>\n",
              "    <tr>\n",
              "      <th>Avg. Area Number of Bedrooms</th>\n",
              "      <td>0</td>\n",
              "    </tr>\n",
              "    <tr>\n",
              "      <th>Area Population</th>\n",
              "      <td>0</td>\n",
              "    </tr>\n",
              "    <tr>\n",
              "      <th>Price</th>\n",
              "      <td>0</td>\n",
              "    </tr>\n",
              "    <tr>\n",
              "      <th>Address</th>\n",
              "      <td>0</td>\n",
              "    </tr>\n",
              "  </tbody>\n",
              "</table>\n",
              "</div><br><label><b>dtype:</b> int64</label>"
            ]
          },
          "metadata": {},
          "execution_count": 1079
        }
      ],
      "source": [
        "df.isnull().sum()"
      ]
    },
    {
      "cell_type": "markdown",
      "metadata": {
        "id": "uCw_kb9uJ9Yo"
      },
      "source": [
        "***Dropping irrelevant Data***"
      ]
    },
    {
      "cell_type": "code",
      "execution_count": null,
      "metadata": {
        "id": "Kj4z4q97Z6CI"
      },
      "outputs": [],
      "source": [
        "# df = df.drop('longitude',axis = 1)\n",
        "# df = df.drop('latitude',axis = 1)\n",
        "df = df.drop('Address',axis = 1)"
      ]
    },
    {
      "cell_type": "code",
      "execution_count": null,
      "metadata": {
        "id": "mzEIcyJzV9bG",
        "colab": {
          "base_uri": "https://localhost:8080/",
          "height": 424
        },
        "outputId": "a7023e1f-a1a3-4a48-c5c9-2871e6318cfe"
      },
      "outputs": [
        {
          "output_type": "execute_result",
          "data": {
            "text/plain": [
              "      Avg. Area Income  Avg. Area House Age  Avg. Area Number of Rooms  \\\n",
              "0         79545.458574             5.682861                   7.009188   \n",
              "1         79248.642455             6.002900                   6.730821   \n",
              "2         61287.067179             5.865890                   8.512727   \n",
              "3         63345.240046             7.188236                   5.586729   \n",
              "4         59982.197226             5.040555                   7.839388   \n",
              "...                ...                  ...                        ...   \n",
              "4995      60567.944140             7.830362                   6.137356   \n",
              "4996      78491.275435             6.999135                   6.576763   \n",
              "4997      63390.686886             7.250591                   4.805081   \n",
              "4998      68001.331235             5.534388                   7.130144   \n",
              "4999      65510.581804             5.992305                   6.792336   \n",
              "\n",
              "      Avg. Area Number of Bedrooms  Area Population         Price  \n",
              "0                             4.09     23086.800503  1.059034e+06  \n",
              "1                             3.09     40173.072174  1.505891e+06  \n",
              "2                             5.13     36882.159400  1.058988e+06  \n",
              "3                             3.26     34310.242831  1.260617e+06  \n",
              "4                             4.23     26354.109472  6.309435e+05  \n",
              "...                            ...              ...           ...  \n",
              "4995                          3.46     22837.361035  1.060194e+06  \n",
              "4996                          4.02     25616.115489  1.482618e+06  \n",
              "4997                          2.13     33266.145490  1.030730e+06  \n",
              "4998                          5.44     42625.620156  1.198657e+06  \n",
              "4999                          4.07     46501.283803  1.298950e+06  \n",
              "\n",
              "[5000 rows x 6 columns]"
            ],
            "text/html": [
              "\n",
              "  <div id=\"df-2bef4413-7d96-4532-b483-d7f02155c65c\" class=\"colab-df-container\">\n",
              "    <div>\n",
              "<style scoped>\n",
              "    .dataframe tbody tr th:only-of-type {\n",
              "        vertical-align: middle;\n",
              "    }\n",
              "\n",
              "    .dataframe tbody tr th {\n",
              "        vertical-align: top;\n",
              "    }\n",
              "\n",
              "    .dataframe thead th {\n",
              "        text-align: right;\n",
              "    }\n",
              "</style>\n",
              "<table border=\"1\" class=\"dataframe\">\n",
              "  <thead>\n",
              "    <tr style=\"text-align: right;\">\n",
              "      <th></th>\n",
              "      <th>Avg. Area Income</th>\n",
              "      <th>Avg. Area House Age</th>\n",
              "      <th>Avg. Area Number of Rooms</th>\n",
              "      <th>Avg. Area Number of Bedrooms</th>\n",
              "      <th>Area Population</th>\n",
              "      <th>Price</th>\n",
              "    </tr>\n",
              "  </thead>\n",
              "  <tbody>\n",
              "    <tr>\n",
              "      <th>0</th>\n",
              "      <td>79545.458574</td>\n",
              "      <td>5.682861</td>\n",
              "      <td>7.009188</td>\n",
              "      <td>4.09</td>\n",
              "      <td>23086.800503</td>\n",
              "      <td>1.059034e+06</td>\n",
              "    </tr>\n",
              "    <tr>\n",
              "      <th>1</th>\n",
              "      <td>79248.642455</td>\n",
              "      <td>6.002900</td>\n",
              "      <td>6.730821</td>\n",
              "      <td>3.09</td>\n",
              "      <td>40173.072174</td>\n",
              "      <td>1.505891e+06</td>\n",
              "    </tr>\n",
              "    <tr>\n",
              "      <th>2</th>\n",
              "      <td>61287.067179</td>\n",
              "      <td>5.865890</td>\n",
              "      <td>8.512727</td>\n",
              "      <td>5.13</td>\n",
              "      <td>36882.159400</td>\n",
              "      <td>1.058988e+06</td>\n",
              "    </tr>\n",
              "    <tr>\n",
              "      <th>3</th>\n",
              "      <td>63345.240046</td>\n",
              "      <td>7.188236</td>\n",
              "      <td>5.586729</td>\n",
              "      <td>3.26</td>\n",
              "      <td>34310.242831</td>\n",
              "      <td>1.260617e+06</td>\n",
              "    </tr>\n",
              "    <tr>\n",
              "      <th>4</th>\n",
              "      <td>59982.197226</td>\n",
              "      <td>5.040555</td>\n",
              "      <td>7.839388</td>\n",
              "      <td>4.23</td>\n",
              "      <td>26354.109472</td>\n",
              "      <td>6.309435e+05</td>\n",
              "    </tr>\n",
              "    <tr>\n",
              "      <th>...</th>\n",
              "      <td>...</td>\n",
              "      <td>...</td>\n",
              "      <td>...</td>\n",
              "      <td>...</td>\n",
              "      <td>...</td>\n",
              "      <td>...</td>\n",
              "    </tr>\n",
              "    <tr>\n",
              "      <th>4995</th>\n",
              "      <td>60567.944140</td>\n",
              "      <td>7.830362</td>\n",
              "      <td>6.137356</td>\n",
              "      <td>3.46</td>\n",
              "      <td>22837.361035</td>\n",
              "      <td>1.060194e+06</td>\n",
              "    </tr>\n",
              "    <tr>\n",
              "      <th>4996</th>\n",
              "      <td>78491.275435</td>\n",
              "      <td>6.999135</td>\n",
              "      <td>6.576763</td>\n",
              "      <td>4.02</td>\n",
              "      <td>25616.115489</td>\n",
              "      <td>1.482618e+06</td>\n",
              "    </tr>\n",
              "    <tr>\n",
              "      <th>4997</th>\n",
              "      <td>63390.686886</td>\n",
              "      <td>7.250591</td>\n",
              "      <td>4.805081</td>\n",
              "      <td>2.13</td>\n",
              "      <td>33266.145490</td>\n",
              "      <td>1.030730e+06</td>\n",
              "    </tr>\n",
              "    <tr>\n",
              "      <th>4998</th>\n",
              "      <td>68001.331235</td>\n",
              "      <td>5.534388</td>\n",
              "      <td>7.130144</td>\n",
              "      <td>5.44</td>\n",
              "      <td>42625.620156</td>\n",
              "      <td>1.198657e+06</td>\n",
              "    </tr>\n",
              "    <tr>\n",
              "      <th>4999</th>\n",
              "      <td>65510.581804</td>\n",
              "      <td>5.992305</td>\n",
              "      <td>6.792336</td>\n",
              "      <td>4.07</td>\n",
              "      <td>46501.283803</td>\n",
              "      <td>1.298950e+06</td>\n",
              "    </tr>\n",
              "  </tbody>\n",
              "</table>\n",
              "<p>5000 rows × 6 columns</p>\n",
              "</div>\n",
              "    <div class=\"colab-df-buttons\">\n",
              "\n",
              "  <div class=\"colab-df-container\">\n",
              "    <button class=\"colab-df-convert\" onclick=\"convertToInteractive('df-2bef4413-7d96-4532-b483-d7f02155c65c')\"\n",
              "            title=\"Convert this dataframe to an interactive table.\"\n",
              "            style=\"display:none;\">\n",
              "\n",
              "  <svg xmlns=\"http://www.w3.org/2000/svg\" height=\"24px\" viewBox=\"0 -960 960 960\">\n",
              "    <path d=\"M120-120v-720h720v720H120Zm60-500h600v-160H180v160Zm220 220h160v-160H400v160Zm0 220h160v-160H400v160ZM180-400h160v-160H180v160Zm440 0h160v-160H620v160ZM180-180h160v-160H180v160Zm440 0h160v-160H620v160Z\"/>\n",
              "  </svg>\n",
              "    </button>\n",
              "\n",
              "  <style>\n",
              "    .colab-df-container {\n",
              "      display:flex;\n",
              "      gap: 12px;\n",
              "    }\n",
              "\n",
              "    .colab-df-convert {\n",
              "      background-color: #E8F0FE;\n",
              "      border: none;\n",
              "      border-radius: 50%;\n",
              "      cursor: pointer;\n",
              "      display: none;\n",
              "      fill: #1967D2;\n",
              "      height: 32px;\n",
              "      padding: 0 0 0 0;\n",
              "      width: 32px;\n",
              "    }\n",
              "\n",
              "    .colab-df-convert:hover {\n",
              "      background-color: #E2EBFA;\n",
              "      box-shadow: 0px 1px 2px rgba(60, 64, 67, 0.3), 0px 1px 3px 1px rgba(60, 64, 67, 0.15);\n",
              "      fill: #174EA6;\n",
              "    }\n",
              "\n",
              "    .colab-df-buttons div {\n",
              "      margin-bottom: 4px;\n",
              "    }\n",
              "\n",
              "    [theme=dark] .colab-df-convert {\n",
              "      background-color: #3B4455;\n",
              "      fill: #D2E3FC;\n",
              "    }\n",
              "\n",
              "    [theme=dark] .colab-df-convert:hover {\n",
              "      background-color: #434B5C;\n",
              "      box-shadow: 0px 1px 3px 1px rgba(0, 0, 0, 0.15);\n",
              "      filter: drop-shadow(0px 1px 2px rgba(0, 0, 0, 0.3));\n",
              "      fill: #FFFFFF;\n",
              "    }\n",
              "  </style>\n",
              "\n",
              "    <script>\n",
              "      const buttonEl =\n",
              "        document.querySelector('#df-2bef4413-7d96-4532-b483-d7f02155c65c button.colab-df-convert');\n",
              "      buttonEl.style.display =\n",
              "        google.colab.kernel.accessAllowed ? 'block' : 'none';\n",
              "\n",
              "      async function convertToInteractive(key) {\n",
              "        const element = document.querySelector('#df-2bef4413-7d96-4532-b483-d7f02155c65c');\n",
              "        const dataTable =\n",
              "          await google.colab.kernel.invokeFunction('convertToInteractive',\n",
              "                                                    [key], {});\n",
              "        if (!dataTable) return;\n",
              "\n",
              "        const docLinkHtml = 'Like what you see? Visit the ' +\n",
              "          '<a target=\"_blank\" href=https://colab.research.google.com/notebooks/data_table.ipynb>data table notebook</a>'\n",
              "          + ' to learn more about interactive tables.';\n",
              "        element.innerHTML = '';\n",
              "        dataTable['output_type'] = 'display_data';\n",
              "        await google.colab.output.renderOutput(dataTable, element);\n",
              "        const docLink = document.createElement('div');\n",
              "        docLink.innerHTML = docLinkHtml;\n",
              "        element.appendChild(docLink);\n",
              "      }\n",
              "    </script>\n",
              "  </div>\n",
              "\n",
              "\n",
              "<div id=\"df-6f1fb2b5-0841-4251-8b74-9af17572bf07\">\n",
              "  <button class=\"colab-df-quickchart\" onclick=\"quickchart('df-6f1fb2b5-0841-4251-8b74-9af17572bf07')\"\n",
              "            title=\"Suggest charts\"\n",
              "            style=\"display:none;\">\n",
              "\n",
              "<svg xmlns=\"http://www.w3.org/2000/svg\" height=\"24px\"viewBox=\"0 0 24 24\"\n",
              "     width=\"24px\">\n",
              "    <g>\n",
              "        <path d=\"M19 3H5c-1.1 0-2 .9-2 2v14c0 1.1.9 2 2 2h14c1.1 0 2-.9 2-2V5c0-1.1-.9-2-2-2zM9 17H7v-7h2v7zm4 0h-2V7h2v10zm4 0h-2v-4h2v4z\"/>\n",
              "    </g>\n",
              "</svg>\n",
              "  </button>\n",
              "\n",
              "<style>\n",
              "  .colab-df-quickchart {\n",
              "      --bg-color: #E8F0FE;\n",
              "      --fill-color: #1967D2;\n",
              "      --hover-bg-color: #E2EBFA;\n",
              "      --hover-fill-color: #174EA6;\n",
              "      --disabled-fill-color: #AAA;\n",
              "      --disabled-bg-color: #DDD;\n",
              "  }\n",
              "\n",
              "  [theme=dark] .colab-df-quickchart {\n",
              "      --bg-color: #3B4455;\n",
              "      --fill-color: #D2E3FC;\n",
              "      --hover-bg-color: #434B5C;\n",
              "      --hover-fill-color: #FFFFFF;\n",
              "      --disabled-bg-color: #3B4455;\n",
              "      --disabled-fill-color: #666;\n",
              "  }\n",
              "\n",
              "  .colab-df-quickchart {\n",
              "    background-color: var(--bg-color);\n",
              "    border: none;\n",
              "    border-radius: 50%;\n",
              "    cursor: pointer;\n",
              "    display: none;\n",
              "    fill: var(--fill-color);\n",
              "    height: 32px;\n",
              "    padding: 0;\n",
              "    width: 32px;\n",
              "  }\n",
              "\n",
              "  .colab-df-quickchart:hover {\n",
              "    background-color: var(--hover-bg-color);\n",
              "    box-shadow: 0 1px 2px rgba(60, 64, 67, 0.3), 0 1px 3px 1px rgba(60, 64, 67, 0.15);\n",
              "    fill: var(--button-hover-fill-color);\n",
              "  }\n",
              "\n",
              "  .colab-df-quickchart-complete:disabled,\n",
              "  .colab-df-quickchart-complete:disabled:hover {\n",
              "    background-color: var(--disabled-bg-color);\n",
              "    fill: var(--disabled-fill-color);\n",
              "    box-shadow: none;\n",
              "  }\n",
              "\n",
              "  .colab-df-spinner {\n",
              "    border: 2px solid var(--fill-color);\n",
              "    border-color: transparent;\n",
              "    border-bottom-color: var(--fill-color);\n",
              "    animation:\n",
              "      spin 1s steps(1) infinite;\n",
              "  }\n",
              "\n",
              "  @keyframes spin {\n",
              "    0% {\n",
              "      border-color: transparent;\n",
              "      border-bottom-color: var(--fill-color);\n",
              "      border-left-color: var(--fill-color);\n",
              "    }\n",
              "    20% {\n",
              "      border-color: transparent;\n",
              "      border-left-color: var(--fill-color);\n",
              "      border-top-color: var(--fill-color);\n",
              "    }\n",
              "    30% {\n",
              "      border-color: transparent;\n",
              "      border-left-color: var(--fill-color);\n",
              "      border-top-color: var(--fill-color);\n",
              "      border-right-color: var(--fill-color);\n",
              "    }\n",
              "    40% {\n",
              "      border-color: transparent;\n",
              "      border-right-color: var(--fill-color);\n",
              "      border-top-color: var(--fill-color);\n",
              "    }\n",
              "    60% {\n",
              "      border-color: transparent;\n",
              "      border-right-color: var(--fill-color);\n",
              "    }\n",
              "    80% {\n",
              "      border-color: transparent;\n",
              "      border-right-color: var(--fill-color);\n",
              "      border-bottom-color: var(--fill-color);\n",
              "    }\n",
              "    90% {\n",
              "      border-color: transparent;\n",
              "      border-bottom-color: var(--fill-color);\n",
              "    }\n",
              "  }\n",
              "</style>\n",
              "\n",
              "  <script>\n",
              "    async function quickchart(key) {\n",
              "      const quickchartButtonEl =\n",
              "        document.querySelector('#' + key + ' button');\n",
              "      quickchartButtonEl.disabled = true;  // To prevent multiple clicks.\n",
              "      quickchartButtonEl.classList.add('colab-df-spinner');\n",
              "      try {\n",
              "        const charts = await google.colab.kernel.invokeFunction(\n",
              "            'suggestCharts', [key], {});\n",
              "      } catch (error) {\n",
              "        console.error('Error during call to suggestCharts:', error);\n",
              "      }\n",
              "      quickchartButtonEl.classList.remove('colab-df-spinner');\n",
              "      quickchartButtonEl.classList.add('colab-df-quickchart-complete');\n",
              "    }\n",
              "    (() => {\n",
              "      let quickchartButtonEl =\n",
              "        document.querySelector('#df-6f1fb2b5-0841-4251-8b74-9af17572bf07 button');\n",
              "      quickchartButtonEl.style.display =\n",
              "        google.colab.kernel.accessAllowed ? 'block' : 'none';\n",
              "    })();\n",
              "  </script>\n",
              "</div>\n",
              "\n",
              "  <div id=\"id_9b1e0cac-110e-41a8-9020-65399c3122f7\">\n",
              "    <style>\n",
              "      .colab-df-generate {\n",
              "        background-color: #E8F0FE;\n",
              "        border: none;\n",
              "        border-radius: 50%;\n",
              "        cursor: pointer;\n",
              "        display: none;\n",
              "        fill: #1967D2;\n",
              "        height: 32px;\n",
              "        padding: 0 0 0 0;\n",
              "        width: 32px;\n",
              "      }\n",
              "\n",
              "      .colab-df-generate:hover {\n",
              "        background-color: #E2EBFA;\n",
              "        box-shadow: 0px 1px 2px rgba(60, 64, 67, 0.3), 0px 1px 3px 1px rgba(60, 64, 67, 0.15);\n",
              "        fill: #174EA6;\n",
              "      }\n",
              "\n",
              "      [theme=dark] .colab-df-generate {\n",
              "        background-color: #3B4455;\n",
              "        fill: #D2E3FC;\n",
              "      }\n",
              "\n",
              "      [theme=dark] .colab-df-generate:hover {\n",
              "        background-color: #434B5C;\n",
              "        box-shadow: 0px 1px 3px 1px rgba(0, 0, 0, 0.15);\n",
              "        filter: drop-shadow(0px 1px 2px rgba(0, 0, 0, 0.3));\n",
              "        fill: #FFFFFF;\n",
              "      }\n",
              "    </style>\n",
              "    <button class=\"colab-df-generate\" onclick=\"generateWithVariable('df')\"\n",
              "            title=\"Generate code using this dataframe.\"\n",
              "            style=\"display:none;\">\n",
              "\n",
              "  <svg xmlns=\"http://www.w3.org/2000/svg\" height=\"24px\"viewBox=\"0 0 24 24\"\n",
              "       width=\"24px\">\n",
              "    <path d=\"M7,19H8.4L18.45,9,17,7.55,7,17.6ZM5,21V16.75L18.45,3.32a2,2,0,0,1,2.83,0l1.4,1.43a1.91,1.91,0,0,1,.58,1.4,1.91,1.91,0,0,1-.58,1.4L9.25,21ZM18.45,9,17,7.55Zm-12,3A5.31,5.31,0,0,0,4.9,8.1,5.31,5.31,0,0,0,1,6.5,5.31,5.31,0,0,0,4.9,4.9,5.31,5.31,0,0,0,6.5,1,5.31,5.31,0,0,0,8.1,4.9,5.31,5.31,0,0,0,12,6.5,5.46,5.46,0,0,0,6.5,12Z\"/>\n",
              "  </svg>\n",
              "    </button>\n",
              "    <script>\n",
              "      (() => {\n",
              "      const buttonEl =\n",
              "        document.querySelector('#id_9b1e0cac-110e-41a8-9020-65399c3122f7 button.colab-df-generate');\n",
              "      buttonEl.style.display =\n",
              "        google.colab.kernel.accessAllowed ? 'block' : 'none';\n",
              "\n",
              "      buttonEl.onclick = () => {\n",
              "        google.colab.notebook.generateWithVariable('df');\n",
              "      }\n",
              "      })();\n",
              "    </script>\n",
              "  </div>\n",
              "\n",
              "    </div>\n",
              "  </div>\n"
            ],
            "application/vnd.google.colaboratory.intrinsic+json": {
              "type": "dataframe",
              "variable_name": "df",
              "summary": "{\n  \"name\": \"df\",\n  \"rows\": 5000,\n  \"fields\": [\n    {\n      \"column\": \"Avg. Area Income\",\n      \"properties\": {\n        \"dtype\": \"number\",\n        \"std\": 10657.991213830363,\n        \"min\": 17796.631189543397,\n        \"max\": 107701.74837763936,\n        \"num_unique_values\": 5000,\n        \"samples\": [\n          61907.59334528668,\n          57160.20224330715,\n          70190.79644494488\n        ],\n        \"semantic_type\": \"\",\n        \"description\": \"\"\n      }\n    },\n    {\n      \"column\": \"Avg. Area House Age\",\n      \"properties\": {\n        \"dtype\": \"number\",\n        \"std\": 0.9914561798281712,\n        \"min\": 2.644304186036705,\n        \"max\": 9.51908806613594,\n        \"num_unique_values\": 5000,\n        \"samples\": [\n          7.017837824742983,\n          6.893260095195835,\n          6.745053761849909\n        ],\n        \"semantic_type\": \"\",\n        \"description\": \"\"\n      }\n    },\n    {\n      \"column\": \"Avg. Area Number of Rooms\",\n      \"properties\": {\n        \"dtype\": \"number\",\n        \"std\": 1.0058332312773872,\n        \"min\": 3.2361940234262048,\n        \"max\": 10.759588335938624,\n        \"num_unique_values\": 5000,\n        \"samples\": [\n          6.440255754985625,\n          6.921532164642504,\n          6.6625667327280365\n        ],\n        \"semantic_type\": \"\",\n        \"description\": \"\"\n      }\n    },\n    {\n      \"column\": \"Avg. Area Number of Bedrooms\",\n      \"properties\": {\n        \"dtype\": \"number\",\n        \"std\": 1.2341372654846827,\n        \"min\": 2.0,\n        \"max\": 6.5,\n        \"num_unique_values\": 255,\n        \"samples\": [\n          3.5,\n          3.41,\n          3.33\n        ],\n        \"semantic_type\": \"\",\n        \"description\": \"\"\n      }\n    },\n    {\n      \"column\": \"Area Population\",\n      \"properties\": {\n        \"dtype\": \"number\",\n        \"std\": 9925.650113501244,\n        \"min\": 172.61068627290044,\n        \"max\": 69621.7133777904,\n        \"num_unique_values\": 5000,\n        \"samples\": [\n          43828.947207425765,\n          43467.14703549413,\n          29215.13611183857\n        ],\n        \"semantic_type\": \"\",\n        \"description\": \"\"\n      }\n    },\n    {\n      \"column\": \"Price\",\n      \"properties\": {\n        \"dtype\": \"number\",\n        \"std\": 353117.6265810608,\n        \"min\": 15938.657923287848,\n        \"max\": 2469065.5941747027,\n        \"num_unique_values\": 5000,\n        \"samples\": [\n          1339096.0772451318,\n          1251794.178836864,\n          1340094.9662054193\n        ],\n        \"semantic_type\": \"\",\n        \"description\": \"\"\n      }\n    }\n  ]\n}"
            }
          },
          "metadata": {},
          "execution_count": 1081
        }
      ],
      "source": [
        "df"
      ]
    },
    {
      "cell_type": "markdown",
      "metadata": {
        "id": "rDW25YWkKEoE"
      },
      "source": [
        "***Obtaining basic statistical information of the data***"
      ]
    },
    {
      "cell_type": "code",
      "execution_count": null,
      "metadata": {
        "id": "yccLBKUeakJX",
        "colab": {
          "base_uri": "https://localhost:8080/",
          "height": 300
        },
        "outputId": "7c7a5ba5-58cc-4624-a39f-3cb235b94799"
      },
      "outputs": [
        {
          "output_type": "execute_result",
          "data": {
            "text/plain": [
              "       Avg. Area Income  Avg. Area House Age  Avg. Area Number of Rooms  \\\n",
              "count       5000.000000          5000.000000                5000.000000   \n",
              "mean       68583.108984             5.977222                   6.987792   \n",
              "std        10657.991214             0.991456                   1.005833   \n",
              "min        17796.631190             2.644304                   3.236194   \n",
              "25%        61480.562388             5.322283                   6.299250   \n",
              "50%        68804.286404             5.970429                   7.002902   \n",
              "75%        75783.338666             6.650808                   7.665871   \n",
              "max       107701.748378             9.519088                  10.759588   \n",
              "\n",
              "       Avg. Area Number of Bedrooms  Area Population         Price  \n",
              "count                   5000.000000      5000.000000  5.000000e+03  \n",
              "mean                       3.981330     36163.516039  1.232073e+06  \n",
              "std                        1.234137      9925.650114  3.531176e+05  \n",
              "min                        2.000000       172.610686  1.593866e+04  \n",
              "25%                        3.140000     29403.928702  9.975771e+05  \n",
              "50%                        4.050000     36199.406689  1.232669e+06  \n",
              "75%                        4.490000     42861.290769  1.471210e+06  \n",
              "max                        6.500000     69621.713378  2.469066e+06  "
            ],
            "text/html": [
              "\n",
              "  <div id=\"df-c42a2706-966b-4bf8-b740-40f627f223cb\" class=\"colab-df-container\">\n",
              "    <div>\n",
              "<style scoped>\n",
              "    .dataframe tbody tr th:only-of-type {\n",
              "        vertical-align: middle;\n",
              "    }\n",
              "\n",
              "    .dataframe tbody tr th {\n",
              "        vertical-align: top;\n",
              "    }\n",
              "\n",
              "    .dataframe thead th {\n",
              "        text-align: right;\n",
              "    }\n",
              "</style>\n",
              "<table border=\"1\" class=\"dataframe\">\n",
              "  <thead>\n",
              "    <tr style=\"text-align: right;\">\n",
              "      <th></th>\n",
              "      <th>Avg. Area Income</th>\n",
              "      <th>Avg. Area House Age</th>\n",
              "      <th>Avg. Area Number of Rooms</th>\n",
              "      <th>Avg. Area Number of Bedrooms</th>\n",
              "      <th>Area Population</th>\n",
              "      <th>Price</th>\n",
              "    </tr>\n",
              "  </thead>\n",
              "  <tbody>\n",
              "    <tr>\n",
              "      <th>count</th>\n",
              "      <td>5000.000000</td>\n",
              "      <td>5000.000000</td>\n",
              "      <td>5000.000000</td>\n",
              "      <td>5000.000000</td>\n",
              "      <td>5000.000000</td>\n",
              "      <td>5.000000e+03</td>\n",
              "    </tr>\n",
              "    <tr>\n",
              "      <th>mean</th>\n",
              "      <td>68583.108984</td>\n",
              "      <td>5.977222</td>\n",
              "      <td>6.987792</td>\n",
              "      <td>3.981330</td>\n",
              "      <td>36163.516039</td>\n",
              "      <td>1.232073e+06</td>\n",
              "    </tr>\n",
              "    <tr>\n",
              "      <th>std</th>\n",
              "      <td>10657.991214</td>\n",
              "      <td>0.991456</td>\n",
              "      <td>1.005833</td>\n",
              "      <td>1.234137</td>\n",
              "      <td>9925.650114</td>\n",
              "      <td>3.531176e+05</td>\n",
              "    </tr>\n",
              "    <tr>\n",
              "      <th>min</th>\n",
              "      <td>17796.631190</td>\n",
              "      <td>2.644304</td>\n",
              "      <td>3.236194</td>\n",
              "      <td>2.000000</td>\n",
              "      <td>172.610686</td>\n",
              "      <td>1.593866e+04</td>\n",
              "    </tr>\n",
              "    <tr>\n",
              "      <th>25%</th>\n",
              "      <td>61480.562388</td>\n",
              "      <td>5.322283</td>\n",
              "      <td>6.299250</td>\n",
              "      <td>3.140000</td>\n",
              "      <td>29403.928702</td>\n",
              "      <td>9.975771e+05</td>\n",
              "    </tr>\n",
              "    <tr>\n",
              "      <th>50%</th>\n",
              "      <td>68804.286404</td>\n",
              "      <td>5.970429</td>\n",
              "      <td>7.002902</td>\n",
              "      <td>4.050000</td>\n",
              "      <td>36199.406689</td>\n",
              "      <td>1.232669e+06</td>\n",
              "    </tr>\n",
              "    <tr>\n",
              "      <th>75%</th>\n",
              "      <td>75783.338666</td>\n",
              "      <td>6.650808</td>\n",
              "      <td>7.665871</td>\n",
              "      <td>4.490000</td>\n",
              "      <td>42861.290769</td>\n",
              "      <td>1.471210e+06</td>\n",
              "    </tr>\n",
              "    <tr>\n",
              "      <th>max</th>\n",
              "      <td>107701.748378</td>\n",
              "      <td>9.519088</td>\n",
              "      <td>10.759588</td>\n",
              "      <td>6.500000</td>\n",
              "      <td>69621.713378</td>\n",
              "      <td>2.469066e+06</td>\n",
              "    </tr>\n",
              "  </tbody>\n",
              "</table>\n",
              "</div>\n",
              "    <div class=\"colab-df-buttons\">\n",
              "\n",
              "  <div class=\"colab-df-container\">\n",
              "    <button class=\"colab-df-convert\" onclick=\"convertToInteractive('df-c42a2706-966b-4bf8-b740-40f627f223cb')\"\n",
              "            title=\"Convert this dataframe to an interactive table.\"\n",
              "            style=\"display:none;\">\n",
              "\n",
              "  <svg xmlns=\"http://www.w3.org/2000/svg\" height=\"24px\" viewBox=\"0 -960 960 960\">\n",
              "    <path d=\"M120-120v-720h720v720H120Zm60-500h600v-160H180v160Zm220 220h160v-160H400v160Zm0 220h160v-160H400v160ZM180-400h160v-160H180v160Zm440 0h160v-160H620v160ZM180-180h160v-160H180v160Zm440 0h160v-160H620v160Z\"/>\n",
              "  </svg>\n",
              "    </button>\n",
              "\n",
              "  <style>\n",
              "    .colab-df-container {\n",
              "      display:flex;\n",
              "      gap: 12px;\n",
              "    }\n",
              "\n",
              "    .colab-df-convert {\n",
              "      background-color: #E8F0FE;\n",
              "      border: none;\n",
              "      border-radius: 50%;\n",
              "      cursor: pointer;\n",
              "      display: none;\n",
              "      fill: #1967D2;\n",
              "      height: 32px;\n",
              "      padding: 0 0 0 0;\n",
              "      width: 32px;\n",
              "    }\n",
              "\n",
              "    .colab-df-convert:hover {\n",
              "      background-color: #E2EBFA;\n",
              "      box-shadow: 0px 1px 2px rgba(60, 64, 67, 0.3), 0px 1px 3px 1px rgba(60, 64, 67, 0.15);\n",
              "      fill: #174EA6;\n",
              "    }\n",
              "\n",
              "    .colab-df-buttons div {\n",
              "      margin-bottom: 4px;\n",
              "    }\n",
              "\n",
              "    [theme=dark] .colab-df-convert {\n",
              "      background-color: #3B4455;\n",
              "      fill: #D2E3FC;\n",
              "    }\n",
              "\n",
              "    [theme=dark] .colab-df-convert:hover {\n",
              "      background-color: #434B5C;\n",
              "      box-shadow: 0px 1px 3px 1px rgba(0, 0, 0, 0.15);\n",
              "      filter: drop-shadow(0px 1px 2px rgba(0, 0, 0, 0.3));\n",
              "      fill: #FFFFFF;\n",
              "    }\n",
              "  </style>\n",
              "\n",
              "    <script>\n",
              "      const buttonEl =\n",
              "        document.querySelector('#df-c42a2706-966b-4bf8-b740-40f627f223cb button.colab-df-convert');\n",
              "      buttonEl.style.display =\n",
              "        google.colab.kernel.accessAllowed ? 'block' : 'none';\n",
              "\n",
              "      async function convertToInteractive(key) {\n",
              "        const element = document.querySelector('#df-c42a2706-966b-4bf8-b740-40f627f223cb');\n",
              "        const dataTable =\n",
              "          await google.colab.kernel.invokeFunction('convertToInteractive',\n",
              "                                                    [key], {});\n",
              "        if (!dataTable) return;\n",
              "\n",
              "        const docLinkHtml = 'Like what you see? Visit the ' +\n",
              "          '<a target=\"_blank\" href=https://colab.research.google.com/notebooks/data_table.ipynb>data table notebook</a>'\n",
              "          + ' to learn more about interactive tables.';\n",
              "        element.innerHTML = '';\n",
              "        dataTable['output_type'] = 'display_data';\n",
              "        await google.colab.output.renderOutput(dataTable, element);\n",
              "        const docLink = document.createElement('div');\n",
              "        docLink.innerHTML = docLinkHtml;\n",
              "        element.appendChild(docLink);\n",
              "      }\n",
              "    </script>\n",
              "  </div>\n",
              "\n",
              "\n",
              "<div id=\"df-e6358736-74d8-4a14-8ad0-fcaa88eb928c\">\n",
              "  <button class=\"colab-df-quickchart\" onclick=\"quickchart('df-e6358736-74d8-4a14-8ad0-fcaa88eb928c')\"\n",
              "            title=\"Suggest charts\"\n",
              "            style=\"display:none;\">\n",
              "\n",
              "<svg xmlns=\"http://www.w3.org/2000/svg\" height=\"24px\"viewBox=\"0 0 24 24\"\n",
              "     width=\"24px\">\n",
              "    <g>\n",
              "        <path d=\"M19 3H5c-1.1 0-2 .9-2 2v14c0 1.1.9 2 2 2h14c1.1 0 2-.9 2-2V5c0-1.1-.9-2-2-2zM9 17H7v-7h2v7zm4 0h-2V7h2v10zm4 0h-2v-4h2v4z\"/>\n",
              "    </g>\n",
              "</svg>\n",
              "  </button>\n",
              "\n",
              "<style>\n",
              "  .colab-df-quickchart {\n",
              "      --bg-color: #E8F0FE;\n",
              "      --fill-color: #1967D2;\n",
              "      --hover-bg-color: #E2EBFA;\n",
              "      --hover-fill-color: #174EA6;\n",
              "      --disabled-fill-color: #AAA;\n",
              "      --disabled-bg-color: #DDD;\n",
              "  }\n",
              "\n",
              "  [theme=dark] .colab-df-quickchart {\n",
              "      --bg-color: #3B4455;\n",
              "      --fill-color: #D2E3FC;\n",
              "      --hover-bg-color: #434B5C;\n",
              "      --hover-fill-color: #FFFFFF;\n",
              "      --disabled-bg-color: #3B4455;\n",
              "      --disabled-fill-color: #666;\n",
              "  }\n",
              "\n",
              "  .colab-df-quickchart {\n",
              "    background-color: var(--bg-color);\n",
              "    border: none;\n",
              "    border-radius: 50%;\n",
              "    cursor: pointer;\n",
              "    display: none;\n",
              "    fill: var(--fill-color);\n",
              "    height: 32px;\n",
              "    padding: 0;\n",
              "    width: 32px;\n",
              "  }\n",
              "\n",
              "  .colab-df-quickchart:hover {\n",
              "    background-color: var(--hover-bg-color);\n",
              "    box-shadow: 0 1px 2px rgba(60, 64, 67, 0.3), 0 1px 3px 1px rgba(60, 64, 67, 0.15);\n",
              "    fill: var(--button-hover-fill-color);\n",
              "  }\n",
              "\n",
              "  .colab-df-quickchart-complete:disabled,\n",
              "  .colab-df-quickchart-complete:disabled:hover {\n",
              "    background-color: var(--disabled-bg-color);\n",
              "    fill: var(--disabled-fill-color);\n",
              "    box-shadow: none;\n",
              "  }\n",
              "\n",
              "  .colab-df-spinner {\n",
              "    border: 2px solid var(--fill-color);\n",
              "    border-color: transparent;\n",
              "    border-bottom-color: var(--fill-color);\n",
              "    animation:\n",
              "      spin 1s steps(1) infinite;\n",
              "  }\n",
              "\n",
              "  @keyframes spin {\n",
              "    0% {\n",
              "      border-color: transparent;\n",
              "      border-bottom-color: var(--fill-color);\n",
              "      border-left-color: var(--fill-color);\n",
              "    }\n",
              "    20% {\n",
              "      border-color: transparent;\n",
              "      border-left-color: var(--fill-color);\n",
              "      border-top-color: var(--fill-color);\n",
              "    }\n",
              "    30% {\n",
              "      border-color: transparent;\n",
              "      border-left-color: var(--fill-color);\n",
              "      border-top-color: var(--fill-color);\n",
              "      border-right-color: var(--fill-color);\n",
              "    }\n",
              "    40% {\n",
              "      border-color: transparent;\n",
              "      border-right-color: var(--fill-color);\n",
              "      border-top-color: var(--fill-color);\n",
              "    }\n",
              "    60% {\n",
              "      border-color: transparent;\n",
              "      border-right-color: var(--fill-color);\n",
              "    }\n",
              "    80% {\n",
              "      border-color: transparent;\n",
              "      border-right-color: var(--fill-color);\n",
              "      border-bottom-color: var(--fill-color);\n",
              "    }\n",
              "    90% {\n",
              "      border-color: transparent;\n",
              "      border-bottom-color: var(--fill-color);\n",
              "    }\n",
              "  }\n",
              "</style>\n",
              "\n",
              "  <script>\n",
              "    async function quickchart(key) {\n",
              "      const quickchartButtonEl =\n",
              "        document.querySelector('#' + key + ' button');\n",
              "      quickchartButtonEl.disabled = true;  // To prevent multiple clicks.\n",
              "      quickchartButtonEl.classList.add('colab-df-spinner');\n",
              "      try {\n",
              "        const charts = await google.colab.kernel.invokeFunction(\n",
              "            'suggestCharts', [key], {});\n",
              "      } catch (error) {\n",
              "        console.error('Error during call to suggestCharts:', error);\n",
              "      }\n",
              "      quickchartButtonEl.classList.remove('colab-df-spinner');\n",
              "      quickchartButtonEl.classList.add('colab-df-quickchart-complete');\n",
              "    }\n",
              "    (() => {\n",
              "      let quickchartButtonEl =\n",
              "        document.querySelector('#df-e6358736-74d8-4a14-8ad0-fcaa88eb928c button');\n",
              "      quickchartButtonEl.style.display =\n",
              "        google.colab.kernel.accessAllowed ? 'block' : 'none';\n",
              "    })();\n",
              "  </script>\n",
              "</div>\n",
              "\n",
              "    </div>\n",
              "  </div>\n"
            ],
            "application/vnd.google.colaboratory.intrinsic+json": {
              "type": "dataframe",
              "summary": "{\n  \"name\": \"df\",\n  \"rows\": 8,\n  \"fields\": [\n    {\n      \"column\": \"Avg. Area Income\",\n      \"properties\": {\n        \"dtype\": \"number\",\n        \"std\": 36652.07864544069,\n        \"min\": 5000.0,\n        \"max\": 107701.74837763936,\n        \"num_unique_values\": 8,\n        \"samples\": [\n          68583.10898395974,\n          68804.28640371616,\n          5000.0\n        ],\n        \"semantic_type\": \"\",\n        \"description\": \"\"\n      }\n    },\n    {\n      \"column\": \"Avg. Area House Age\",\n      \"properties\": {\n        \"dtype\": \"number\",\n        \"std\": 1765.8962195665245,\n        \"min\": 0.9914561798281712,\n        \"max\": 5000.0,\n        \"num_unique_values\": 8,\n        \"samples\": [\n          5.977222035280273,\n          5.970428947124802,\n          5000.0\n        ],\n        \"semantic_type\": \"\",\n        \"description\": \"\"\n      }\n    },\n    {\n      \"column\": \"Avg. Area Number of Rooms\",\n      \"properties\": {\n        \"dtype\": \"number\",\n        \"std\": 1765.5997003475702,\n        \"min\": 1.0058332312773872,\n        \"max\": 5000.0,\n        \"num_unique_values\": 8,\n        \"samples\": [\n          6.987791850907944,\n          7.002901987201934,\n          5000.0\n        ],\n        \"semantic_type\": \"\",\n        \"description\": \"\"\n      }\n    },\n    {\n      \"column\": \"Avg. Area Number of Bedrooms\",\n      \"properties\": {\n        \"dtype\": \"number\",\n        \"std\": 1766.4850125109951,\n        \"min\": 1.2341372654846827,\n        \"max\": 5000.0,\n        \"num_unique_values\": 8,\n        \"samples\": [\n          3.9813300000000003,\n          4.05,\n          5000.0\n        ],\n        \"semantic_type\": \"\",\n        \"description\": \"\"\n      }\n    },\n    {\n      \"column\": \"Area Population\",\n      \"properties\": {\n        \"dtype\": \"number\",\n        \"std\": 23038.910235975498,\n        \"min\": 172.61068627290044,\n        \"max\": 69621.7133777904,\n        \"num_unique_values\": 8,\n        \"samples\": [\n          36163.51603857466,\n          36199.406689260555,\n          5000.0\n        ],\n        \"semantic_type\": \"\",\n        \"description\": \"\"\n      }\n    },\n    {\n      \"column\": \"Price\",\n      \"properties\": {\n        \"dtype\": \"number\",\n        \"std\": 833136.4448409891,\n        \"min\": 5000.0,\n        \"max\": 2469065.5941747027,\n        \"num_unique_values\": 8,\n        \"samples\": [\n          1232072.654142357,\n          1232669.3779657914,\n          5000.0\n        ],\n        \"semantic_type\": \"\",\n        \"description\": \"\"\n      }\n    }\n  ]\n}"
            }
          },
          "metadata": {},
          "execution_count": 1082
        }
      ],
      "source": [
        "df.describe()"
      ]
    },
    {
      "cell_type": "markdown",
      "metadata": {
        "id": "rtlNxKhwKNAG"
      },
      "source": [
        "***Replacing null values with the mean of the respective feature***"
      ]
    },
    {
      "cell_type": "code",
      "execution_count": null,
      "metadata": {
        "id": "8CtydYvBNrss"
      },
      "outputs": [],
      "source": [
        "# mean_bedroom = df['total_bedrooms'].mean()\n",
        "# df['total_bedrooms'].fillna(mean_bedroom, inplace=True)"
      ]
    },
    {
      "cell_type": "markdown",
      "metadata": {
        "id": "-Fn2molyKcKb"
      },
      "source": [
        "***Plotting the distribution of the target data***"
      ]
    },
    {
      "cell_type": "code",
      "execution_count": null,
      "metadata": {
        "id": "LZSVJcq9Sps6",
        "colab": {
          "base_uri": "https://localhost:8080/",
          "height": 466
        },
        "outputId": "fd32a1d4-e523-4080-a922-3c1b0b5263b5"
      },
      "outputs": [
        {
          "output_type": "execute_result",
          "data": {
            "text/plain": [
              "<Axes: >"
            ]
          },
          "metadata": {},
          "execution_count": 1084
        },
        {
          "output_type": "display_data",
          "data": {
            "text/plain": [
              "<Figure size 640x480 with 1 Axes>"
            ],
            "image/png": "[encoded data removed]"
          },
          "metadata": {}
        }
      ],
      "source": [
        "df['Price'].hist()"
      ]
    },
    {
      "cell_type": "markdown",
      "metadata": {
        "id": "P1LV4offKpt2"
      },
      "source": [
        "***Plotting the distribution of all the features***"
      ]
    },
    {
      "cell_type": "code",
      "execution_count": null,
      "metadata": {
        "id": "lmJNaxTuYGRP"
      },
      "outputs": [],
      "source": [
        "features = list(df.columns)"
      ]
    },
    {
      "cell_type": "code",
      "execution_count": null,
      "metadata": {
        "id": "M-0NbUi5SqPB",
        "colab": {
          "base_uri": "https://localhost:8080/",
          "height": 978
        },
        "outputId": "dbcb0e7c-8160-414d-a7be-bfb52384203e"
      },
      "outputs": [
        {
          "output_type": "execute_result",
          "data": {
            "text/plain": [
              "array([[<Axes: title={'center': 'Avg. Area Income'}>,\n",
              "        <Axes: title={'center': 'Avg. Area House Age'}>],\n",
              "       [<Axes: title={'center': 'Avg. Area Number of Rooms'}>,\n",
              "        <Axes: title={'center': 'Avg. Area Number of Bedrooms'}>],\n",
              "       [<Axes: title={'center': 'Area Population'}>,\n",
              "        <Axes: title={'center': 'Price'}>]], dtype=object)"
            ]
          },
          "metadata": {},
          "execution_count": 1086
        },
        {
          "output_type": "display_data",
          "data": {
            "text/plain": [
              "<Figure size 1000x1000 with 6 Axes>"
            ],
            "image/png": "[encoded data removed]"
          },
          "metadata": {}
        }
      ],
      "source": [
        "df[features].hist(bins=50, figsize=(10, 10))"
      ]
    },
    {
      "cell_type": "markdown",
      "metadata": {
        "id": "TJiGDadvKz9I"
      },
      "source": [
        "***Plotting to visualize the outliers in the data***"
      ]
    },
    {
      "cell_type": "code",
      "execution_count": null,
      "metadata": {
        "id": "Dr3vtrrat4_k",
        "colab": {
          "base_uri": "https://localhost:8080/",
          "height": 923
        },
        "outputId": "50c36844-bf6c-40c0-cafb-fd3366742a83"
      },
      "outputs": [
        {
          "output_type": "display_data",
          "data": {
            "text/plain": [
              "<Figure size 3000x1500 with 6 Axes>"
            ],
            "image/png": "[encoded data removed]"
          },
          "metadata": {}
        }
      ],
      "source": [
        "df_rows = 1\n",
        "df_cols = 6\n",
        "\n",
        "fig, ax = plt.subplots(nrows = df_rows, ncols=df_cols, figsize = (30,15) )\n",
        "index=0\n",
        "ax= ax.flatten()\n",
        "for col,value in df.items():\n",
        "    sb.boxplot(data = df, y= col, ax = ax[index])\n",
        "    index += 1\n",
        "plt.tight_layout(pad = 0.5,w_pad =0.7 , h_pad =5)"
      ]
    },
    {
      "cell_type": "markdown",
      "metadata": {
        "id": "lOTygkLtLPrm"
      },
      "source": [
        "***Finding the correlation matrix of the data***"
      ]
    },
    {
      "cell_type": "code",
      "execution_count": null,
      "metadata": {
        "id": "hjHF_nQ2t99q",
        "colab": {
          "base_uri": "https://localhost:8080/",
          "height": 238
        },
        "outputId": "74e77436-d15a-4304-a167-e408839e3b75"
      },
      "outputs": [
        {
          "output_type": "execute_result",
          "data": {
            "text/plain": [
              "                              Avg. Area Income  Avg. Area House Age  \\\n",
              "Avg. Area Income                      1.000000            -0.002007   \n",
              "Avg. Area House Age                  -0.002007             1.000000   \n",
              "Avg. Area Number of Rooms            -0.011032            -0.009428   \n",
              "Avg. Area Number of Bedrooms          0.019788             0.006149   \n",
              "Area Population                      -0.016234            -0.018743   \n",
              "Price                                 0.639734             0.452543   \n",
              "\n",
              "                              Avg. Area Number of Rooms  \\\n",
              "Avg. Area Income                              -0.011032   \n",
              "Avg. Area House Age                           -0.009428   \n",
              "Avg. Area Number of Rooms                      1.000000   \n",
              "Avg. Area Number of Bedrooms                   0.462695   \n",
              "Area Population                                0.002040   \n",
              "Price                                          0.335664   \n",
              "\n",
              "                              Avg. Area Number of Bedrooms  Area Population  \\\n",
              "Avg. Area Income                                  0.019788        -0.016234   \n",
              "Avg. Area House Age                               0.006149        -0.018743   \n",
              "Avg. Area Number of Rooms                         0.462695         0.002040   \n",
              "Avg. Area Number of Bedrooms                      1.000000        -0.022168   \n",
              "Area Population                                  -0.022168         1.000000   \n",
              "Price                                             0.171071         0.408556   \n",
              "\n",
              "                                 Price  \n",
              "Avg. Area Income              0.639734  \n",
              "Avg. Area House Age           0.452543  \n",
              "Avg. Area Number of Rooms     0.335664  \n",
              "Avg. Area Number of Bedrooms  0.171071  \n",
              "Area Population               0.408556  \n",
              "Price                         1.000000  "
            ],
            "text/html": [
              "\n",
              "  <div id=\"df-0eb13027-7a5a-4dce-9417-0140c8cb0da2\" class=\"colab-df-container\">\n",
              "    <div>\n",
              "<style scoped>\n",
              "    .dataframe tbody tr th:only-of-type {\n",
              "        vertical-align: middle;\n",
              "    }\n",
              "\n",
              "    .dataframe tbody tr th {\n",
              "        vertical-align: top;\n",
              "    }\n",
              "\n",
              "    .dataframe thead th {\n",
              "        text-align: right;\n",
              "    }\n",
              "</style>\n",
              "<table border=\"1\" class=\"dataframe\">\n",
              "  <thead>\n",
              "    <tr style=\"text-align: right;\">\n",
              "      <th></th>\n",
              "      <th>Avg. Area Income</th>\n",
              "      <th>Avg. Area House Age</th>\n",
              "      <th>Avg. Area Number of Rooms</th>\n",
              "      <th>Avg. Area Number of Bedrooms</th>\n",
              "      <th>Area Population</th>\n",
              "      <th>Price</th>\n",
              "    </tr>\n",
              "  </thead>\n",
              "  <tbody>\n",
              "    <tr>\n",
              "      <th>Avg. Area Income</th>\n",
              "      <td>1.000000</td>\n",
              "      <td>-0.002007</td>\n",
              "      <td>-0.011032</td>\n",
              "      <td>0.019788</td>\n",
              "      <td>-0.016234</td>\n",
              "      <td>0.639734</td>\n",
              "    </tr>\n",
              "    <tr>\n",
              "      <th>Avg. Area House Age</th>\n",
              "      <td>-0.002007</td>\n",
              "      <td>1.000000</td>\n",
              "      <td>-0.009428</td>\n",
              "      <td>0.006149</td>\n",
              "      <td>-0.018743</td>\n",
              "      <td>0.452543</td>\n",
              "    </tr>\n",
              "    <tr>\n",
              "      <th>Avg. Area Number of Rooms</th>\n",
              "      <td>-0.011032</td>\n",
              "      <td>-0.009428</td>\n",
              "      <td>1.000000</td>\n",
              "      <td>0.462695</td>\n",
              "      <td>0.002040</td>\n",
              "      <td>0.335664</td>\n",
              "    </tr>\n",
              "    <tr>\n",
              "      <th>Avg. Area Number of Bedrooms</th>\n",
              "      <td>0.019788</td>\n",
              "      <td>0.006149</td>\n",
              "      <td>0.462695</td>\n",
              "      <td>1.000000</td>\n",
              "      <td>-0.022168</td>\n",
              "      <td>0.171071</td>\n",
              "    </tr>\n",
              "    <tr>\n",
              "      <th>Area Population</th>\n",
              "      <td>-0.016234</td>\n",
              "      <td>-0.018743</td>\n",
              "      <td>0.002040</td>\n",
              "      <td>-0.022168</td>\n",
              "      <td>1.000000</td>\n",
              "      <td>0.408556</td>\n",
              "    </tr>\n",
              "    <tr>\n",
              "      <th>Price</th>\n",
              "      <td>0.639734</td>\n",
              "      <td>0.452543</td>\n",
              "      <td>0.335664</td>\n",
              "      <td>0.171071</td>\n",
              "      <td>0.408556</td>\n",
              "      <td>1.000000</td>\n",
              "    </tr>\n",
              "  </tbody>\n",
              "</table>\n",
              "</div>\n",
              "    <div class=\"colab-df-buttons\">\n",
              "\n",
              "  <div class=\"colab-df-container\">\n",
              "    <button class=\"colab-df-convert\" onclick=\"convertToInteractive('df-0eb13027-7a5a-4dce-9417-0140c8cb0da2')\"\n",
              "            title=\"Convert this dataframe to an interactive table.\"\n",
              "            style=\"display:none;\">\n",
              "\n",
              "  <svg xmlns=\"http://www.w3.org/2000/svg\" height=\"24px\" viewBox=\"0 -960 960 960\">\n",
              "    <path d=\"M120-120v-720h720v720H120Zm60-500h600v-160H180v160Zm220 220h160v-160H400v160Zm0 220h160v-160H400v160ZM180-400h160v-160H180v160Zm440 0h160v-160H620v160ZM180-180h160v-160H180v160Zm440 0h160v-160H620v160Z\"/>\n",
              "  </svg>\n",
              "    </button>\n",
              "\n",
              "  <style>\n",
              "    .colab-df-container {\n",
              "      display:flex;\n",
              "      gap: 12px;\n",
              "    }\n",
              "\n",
              "    .colab-df-convert {\n",
              "      background-color: #E8F0FE;\n",
              "      border: none;\n",
              "      border-radius: 50%;\n",
              "      cursor: pointer;\n",
              "      display: none;\n",
              "      fill: #1967D2;\n",
              "      height: 32px;\n",
              "      padding: 0 0 0 0;\n",
              "      width: 32px;\n",
              "    }\n",
              "\n",
              "    .colab-df-convert:hover {\n",
              "      background-color: #E2EBFA;\n",
              "      box-shadow: 0px 1px 2px rgba(60, 64, 67, 0.3), 0px 1px 3px 1px rgba(60, 64, 67, 0.15);\n",
              "      fill: #174EA6;\n",
              "    }\n",
              "\n",
              "    .colab-df-buttons div {\n",
              "      margin-bottom: 4px;\n",
              "    }\n",
              "\n",
              "    [theme=dark] .colab-df-convert {\n",
              "      background-color: #3B4455;\n",
              "      fill: #D2E3FC;\n",
              "    }\n",
              "\n",
              "    [theme=dark] .colab-df-convert:hover {\n",
              "      background-color: #434B5C;\n",
              "      box-shadow: 0px 1px 3px 1px rgba(0, 0, 0, 0.15);\n",
              "      filter: drop-shadow(0px 1px 2px rgba(0, 0, 0, 0.3));\n",
              "      fill: #FFFFFF;\n",
              "    }\n",
              "  </style>\n",
              "\n",
              "    <script>\n",
              "      const buttonEl =\n",
              "        document.querySelector('#df-0eb13027-7a5a-4dce-9417-0140c8cb0da2 button.colab-df-convert');\n",
              "      buttonEl.style.display =\n",
              "        google.colab.kernel.accessAllowed ? 'block' : 'none';\n",
              "\n",
              "      async function convertToInteractive(key) {\n",
              "        const element = document.querySelector('#df-0eb13027-7a5a-4dce-9417-0140c8cb0da2');\n",
              "        const dataTable =\n",
              "          await google.colab.kernel.invokeFunction('convertToInteractive',\n",
              "                                                    [key], {});\n",
              "        if (!dataTable) return;\n",
              "\n",
              "        const docLinkHtml = 'Like what you see? Visit the ' +\n",
              "          '<a target=\"_blank\" href=https://colab.research.google.com/notebooks/data_table.ipynb>data table notebook</a>'\n",
              "          + ' to learn more about interactive tables.';\n",
              "        element.innerHTML = '';\n",
              "        dataTable['output_type'] = 'display_data';\n",
              "        await google.colab.output.renderOutput(dataTable, element);\n",
              "        const docLink = document.createElement('div');\n",
              "        docLink.innerHTML = docLinkHtml;\n",
              "        element.appendChild(docLink);\n",
              "      }\n",
              "    </script>\n",
              "  </div>\n",
              "\n",
              "\n",
              "<div id=\"df-376e4c21-fa40-4593-81ef-096eacaa6180\">\n",
              "  <button class=\"colab-df-quickchart\" onclick=\"quickchart('df-376e4c21-fa40-4593-81ef-096eacaa6180')\"\n",
              "            title=\"Suggest charts\"\n",
              "            style=\"display:none;\">\n",
              "\n",
              "<svg xmlns=\"http://www.w3.org/2000/svg\" height=\"24px\"viewBox=\"0 0 24 24\"\n",
              "     width=\"24px\">\n",
              "    <g>\n",
              "        <path d=\"M19 3H5c-1.1 0-2 .9-2 2v14c0 1.1.9 2 2 2h14c1.1 0 2-.9 2-2V5c0-1.1-.9-2-2-2zM9 17H7v-7h2v7zm4 0h-2V7h2v10zm4 0h-2v-4h2v4z\"/>\n",
              "    </g>\n",
              "</svg>\n",
              "  </button>\n",
              "\n",
              "<style>\n",
              "  .colab-df-quickchart {\n",
              "      --bg-color: #E8F0FE;\n",
              "      --fill-color: #1967D2;\n",
              "      --hover-bg-color: #E2EBFA;\n",
              "      --hover-fill-color: #174EA6;\n",
              "      --disabled-fill-color: #AAA;\n",
              "      --disabled-bg-color: #DDD;\n",
              "  }\n",
              "\n",
              "  [theme=dark] .colab-df-quickchart {\n",
              "      --bg-color: #3B4455;\n",
              "      --fill-color: #D2E3FC;\n",
              "      --hover-bg-color: #434B5C;\n",
              "      --hover-fill-color: #FFFFFF;\n",
              "      --disabled-bg-color: #3B4455;\n",
              "      --disabled-fill-color: #666;\n",
              "  }\n",
              "\n",
              "  .colab-df-quickchart {\n",
              "    background-color: var(--bg-color);\n",
              "    border: none;\n",
              "    border-radius: 50%;\n",
              "    cursor: pointer;\n",
              "    display: none;\n",
              "    fill: var(--fill-color);\n",
              "    height: 32px;\n",
              "    padding: 0;\n",
              "    width: 32px;\n",
              "  }\n",
              "\n",
              "  .colab-df-quickchart:hover {\n",
              "    background-color: var(--hover-bg-color);\n",
              "    box-shadow: 0 1px 2px rgba(60, 64, 67, 0.3), 0 1px 3px 1px rgba(60, 64, 67, 0.15);\n",
              "    fill: var(--button-hover-fill-color);\n",
              "  }\n",
              "\n",
              "  .colab-df-quickchart-complete:disabled,\n",
              "  .colab-df-quickchart-complete:disabled:hover {\n",
              "    background-color: var(--disabled-bg-color);\n",
              "    fill: var(--disabled-fill-color);\n",
              "    box-shadow: none;\n",
              "  }\n",
              "\n",
              "  .colab-df-spinner {\n",
              "    border: 2px solid var(--fill-color);\n",
              "    border-color: transparent;\n",
              "    border-bottom-color: var(--fill-color);\n",
              "    animation:\n",
              "      spin 1s steps(1) infinite;\n",
              "  }\n",
              "\n",
              "  @keyframes spin {\n",
              "    0% {\n",
              "      border-color: transparent;\n",
              "      border-bottom-color: var(--fill-color);\n",
              "      border-left-color: var(--fill-color);\n",
              "    }\n",
              "    20% {\n",
              "      border-color: transparent;\n",
              "      border-left-color: var(--fill-color);\n",
              "      border-top-color: var(--fill-color);\n",
              "    }\n",
              "    30% {\n",
              "      border-color: transparent;\n",
              "      border-left-color: var(--fill-color);\n",
              "      border-top-color: var(--fill-color);\n",
              "      border-right-color: var(--fill-color);\n",
              "    }\n",
              "    40% {\n",
              "      border-color: transparent;\n",
              "      border-right-color: var(--fill-color);\n",
              "      border-top-color: var(--fill-color);\n",
              "    }\n",
              "    60% {\n",
              "      border-color: transparent;\n",
              "      border-right-color: var(--fill-color);\n",
              "    }\n",
              "    80% {\n",
              "      border-color: transparent;\n",
              "      border-right-color: var(--fill-color);\n",
              "      border-bottom-color: var(--fill-color);\n",
              "    }\n",
              "    90% {\n",
              "      border-color: transparent;\n",
              "      border-bottom-color: var(--fill-color);\n",
              "    }\n",
              "  }\n",
              "</style>\n",
              "\n",
              "  <script>\n",
              "    async function quickchart(key) {\n",
              "      const quickchartButtonEl =\n",
              "        document.querySelector('#' + key + ' button');\n",
              "      quickchartButtonEl.disabled = true;  // To prevent multiple clicks.\n",
              "      quickchartButtonEl.classList.add('colab-df-spinner');\n",
              "      try {\n",
              "        const charts = await google.colab.kernel.invokeFunction(\n",
              "            'suggestCharts', [key], {});\n",
              "      } catch (error) {\n",
              "        console.error('Error during call to suggestCharts:', error);\n",
              "      }\n",
              "      quickchartButtonEl.classList.remove('colab-df-spinner');\n",
              "      quickchartButtonEl.classList.add('colab-df-quickchart-complete');\n",
              "    }\n",
              "    (() => {\n",
              "      let quickchartButtonEl =\n",
              "        document.querySelector('#df-376e4c21-fa40-4593-81ef-096eacaa6180 button');\n",
              "      quickchartButtonEl.style.display =\n",
              "        google.colab.kernel.accessAllowed ? 'block' : 'none';\n",
              "    })();\n",
              "  </script>\n",
              "</div>\n",
              "\n",
              "  <div id=\"id_76c36436-8af0-4154-816e-472274288206\">\n",
              "    <style>\n",
              "      .colab-df-generate {\n",
              "        background-color: #E8F0FE;\n",
              "        border: none;\n",
              "        border-radius: 50%;\n",
              "        cursor: pointer;\n",
              "        display: none;\n",
              "        fill: #1967D2;\n",
              "        height: 32px;\n",
              "        padding: 0 0 0 0;\n",
              "        width: 32px;\n",
              "      }\n",
              "\n",
              "      .colab-df-generate:hover {\n",
              "        background-color: #E2EBFA;\n",
              "        box-shadow: 0px 1px 2px rgba(60, 64, 67, 0.3), 0px 1px 3px 1px rgba(60, 64, 67, 0.15);\n",
              "        fill: #174EA6;\n",
              "      }\n",
              "\n",
              "      [theme=dark] .colab-df-generate {\n",
              "        background-color: #3B4455;\n",
              "        fill: #D2E3FC;\n",
              "      }\n",
              "\n",
              "      [theme=dark] .colab-df-generate:hover {\n",
              "        background-color: #434B5C;\n",
              "        box-shadow: 0px 1px 3px 1px rgba(0, 0, 0, 0.15);\n",
              "        filter: drop-shadow(0px 1px 2px rgba(0, 0, 0, 0.3));\n",
              "        fill: #FFFFFF;\n",
              "      }\n",
              "    </style>\n",
              "    <button class=\"colab-df-generate\" onclick=\"generateWithVariable('df_corr')\"\n",
              "            title=\"Generate code using this dataframe.\"\n",
              "            style=\"display:none;\">\n",
              "\n",
              "  <svg xmlns=\"http://www.w3.org/2000/svg\" height=\"24px\"viewBox=\"0 0 24 24\"\n",
              "       width=\"24px\">\n",
              "    <path d=\"M7,19H8.4L18.45,9,17,7.55,7,17.6ZM5,21V16.75L18.45,3.32a2,2,0,0,1,2.83,0l1.4,1.43a1.91,1.91,0,0,1,.58,1.4,1.91,1.91,0,0,1-.58,1.4L9.25,21ZM18.45,9,17,7.55Zm-12,3A5.31,5.31,0,0,0,4.9,8.1,5.31,5.31,0,0,0,1,6.5,5.31,5.31,0,0,0,4.9,4.9,5.31,5.31,0,0,0,6.5,1,5.31,5.31,0,0,0,8.1,4.9,5.31,5.31,0,0,0,12,6.5,5.46,5.46,0,0,0,6.5,12Z\"/>\n",
              "  </svg>\n",
              "    </button>\n",
              "    <script>\n",
              "      (() => {\n",
              "      const buttonEl =\n",
              "        document.querySelector('#id_76c36436-8af0-4154-816e-472274288206 button.colab-df-generate');\n",
              "      buttonEl.style.display =\n",
              "        google.colab.kernel.accessAllowed ? 'block' : 'none';\n",
              "\n",
              "      buttonEl.onclick = () => {\n",
              "        google.colab.notebook.generateWithVariable('df_corr');\n",
              "      }\n",
              "      })();\n",
              "    </script>\n",
              "  </div>\n",
              "\n",
              "    </div>\n",
              "  </div>\n"
            ],
            "application/vnd.google.colaboratory.intrinsic+json": {
              "type": "dataframe",
              "variable_name": "df_corr",
              "summary": "{\n  \"name\": \"df_corr\",\n  \"rows\": 6,\n  \"fields\": [\n    {\n      \"column\": \"Avg. Area Income\",\n      \"properties\": {\n        \"dtype\": \"number\",\n        \"std\": 0.4397926222685175,\n        \"min\": -0.016233739927565122,\n        \"max\": 1.0,\n        \"num_unique_values\": 6,\n        \"samples\": [\n          1.0,\n          -0.002006826428996918,\n          0.6397337782498983\n        ],\n        \"semantic_type\": \"\",\n        \"description\": \"\"\n      }\n    },\n    {\n      \"column\": \"Avg. Area House Age\",\n      \"properties\": {\n        \"dtype\": \"number\",\n        \"std\": 0.41597313864914587,\n        \"min\": -0.018742761942119622,\n        \"max\": 1.0,\n        \"num_unique_values\": 6,\n        \"samples\": [\n          -0.002006826428996918,\n          1.0,\n          0.4525425371787552\n        ],\n        \"semantic_type\": \"\",\n        \"description\": \"\"\n      }\n    },\n    {\n      \"column\": \"Avg. Area Number of Rooms\",\n      \"properties\": {\n        \"dtype\": \"number\",\n        \"std\": 0.39973522856614196,\n        \"min\": -0.011031660286870896,\n        \"max\": 1.0,\n        \"num_unique_values\": 6,\n        \"samples\": [\n          -0.011031660286870896,\n          -0.009428292244464195,\n          0.3356644533667598\n        ],\n        \"semantic_type\": \"\",\n        \"description\": \"\"\n      }\n    },\n    {\n      \"column\": \"Avg. Area Number of Bedrooms\",\n      \"properties\": {\n        \"dtype\": \"number\",\n        \"std\": 0.39933751591135763,\n        \"min\": -0.0221676418702468,\n        \"max\": 1.0,\n        \"num_unique_values\": 6,\n        \"samples\": [\n          0.019788221120947695,\n          0.006148923348343049,\n          0.17107102765855647\n        ],\n        \"semantic_type\": \"\",\n        \"description\": \"\"\n      }\n    },\n    {\n      \"column\": \"Area Population\",\n      \"properties\": {\n        \"dtype\": \"number\",\n        \"std\": 0.4153848970113969,\n        \"min\": -0.0221676418702468,\n        \"max\": 1.0,\n        \"num_unique_values\": 6,\n        \"samples\": [\n          -0.016233739927565122,\n          -0.018742761942119622,\n          0.40855587931655574\n        ],\n        \"semantic_type\": \"\",\n        \"description\": \"\"\n      }\n    },\n    {\n      \"column\": \"Price\",\n      \"properties\": {\n        \"dtype\": \"number\",\n        \"std\": 0.28821195761073914,\n        \"min\": 0.17107102765855647,\n        \"max\": 1.0,\n        \"num_unique_values\": 6,\n        \"samples\": [\n          0.6397337782498983,\n          0.4525425371787552,\n          1.0\n        ],\n        \"semantic_type\": \"\",\n        \"description\": \"\"\n      }\n    }\n  ]\n}"
            }
          },
          "metadata": {},
          "execution_count": 1088
        }
      ],
      "source": [
        "df_corr = df.corr()\n",
        "df_corr"
      ]
    },
    {
      "cell_type": "markdown",
      "metadata": {
        "id": "gn45cvV2pyNT"
      },
      "source": [
        "***finding outliers***"
      ]
    },
    {
      "cell_type": "code",
      "execution_count": null,
      "metadata": {
        "id": "mvshiCDdpxXD",
        "colab": {
          "base_uri": "https://localhost:8080/"
        },
        "outputId": "ecbbaaf4-54b8-4ddc-cb81-0c9571987676"
      },
      "outputs": [
        {
          "output_type": "stream",
          "name": "stdout",
          "text": [
            "Average of lower bound outliers: 36880.998756109846\n",
            "Average of upper bound outliers: 100862.59978791366\n"
          ]
        }
      ],
      "source": [
        "\n",
        "\n",
        "feature_name = 'Avg. Area Income'\n",
        "\n",
        "Q1 = df[feature_name].quantile(0.25)\n",
        "Q3 = df[feature_name].quantile(0.75)\n",
        "IQR = Q3 - Q1\n",
        "\n",
        "\n",
        "lower_bound = Q1 - (1.5 * IQR)\n",
        "upper_bound = Q3 + (1.5 * IQR)\n",
        "\n",
        "\n",
        "lower_outliers = df[df[feature_name] < lower_bound]\n",
        "upper_outliers = df[df[feature_name] > upper_bound]\n",
        "\n",
        "\n",
        "lower_outliers_avg = lower_outliers[feature_name].mean()\n",
        "\n",
        "upper_outliers_avg = upper_outliers[feature_name].mean()\n",
        "\n",
        "\n",
        "print(\"Average of lower bound outliers:\", lower_outliers_avg)\n",
        "print(\"Average of upper bound outliers:\", upper_outliers_avg)\n"
      ]
    },
    {
      "cell_type": "code",
      "execution_count": null,
      "metadata": {
        "id": "ltiFMWY-rE57",
        "colab": {
          "base_uri": "https://localhost:8080/"
        },
        "outputId": "6843331d-f8e8-4221-92ef-1fd236c16cd5"
      },
      "outputs": [
        {
          "output_type": "stream",
          "name": "stdout",
          "text": [
            "\n",
            " Outlier upper value: -0.6458994001994169\n",
            "\n",
            " Outlier lower value: -0.5483136964336497\n"
          ]
        }
      ],
      "source": [
        "feature_name = 'Avg. Area Income'\n",
        "\n",
        "Q1 = df[feature_name].quantile(0.25)\n",
        "Q3 = df[feature_name].quantile(0.75)\n",
        "IQR = Q3 - Q1\n",
        "\n",
        "lower_bound = Q1 - (1.5 * IQR)\n",
        "upper_bound = Q3 + (1.5 * IQR)\n",
        "\n",
        "lower_outliers = df[df[feature_name] < lower_bound]\n",
        "upper_outliers = df[df[feature_name] > upper_bound]\n",
        "\n",
        "outliers_array_low = lower_outliers[feature_name].values\n",
        "outliers_array_up = upper_outliers[feature_name].values\n",
        "\n",
        "normalized_outliers_up = 1.2 * (outliers_array_up - np.mean(outliers_array_up)) / np.std(outliers_array_up)\n",
        "normalized_outliers_low = -1.2 * (outliers_array_low - np.mean(outliers_array_low)) / np.std(outliers_array_low)\n",
        "\n",
        "selected_value_up = np.random.choice(normalized_outliers_up)\n",
        "selected_value_low = np.random.choice(normalized_outliers_low)\n",
        "\n",
        "print(\"\\n Outlier upper value:\", selected_value_up)\n",
        "print(\"\\n Outlier lower value:\", selected_value_low)"
      ]
    },
    {
      "cell_type": "markdown",
      "metadata": {
        "id": "IrOu4pyHLYaO"
      },
      "source": [
        "***Storing the dependent data in the y variable***"
      ]
    },
    {
      "cell_type": "code",
      "execution_count": null,
      "metadata": {
        "id": "UTYpe_Olano7"
      },
      "outputs": [],
      "source": [
        "y = np.asarray(df['Price'].values.tolist())"
      ]
    },
    {
      "cell_type": "markdown",
      "metadata": {
        "id": "c9JmnU2-LhVx"
      },
      "source": [
        "***Droppping the dependent data from the main dataframe***"
      ]
    },
    {
      "cell_type": "code",
      "execution_count": null,
      "metadata": {
        "id": "tM_CvGB1arz9"
      },
      "outputs": [],
      "source": [
        "df1 = df.drop('Price',axis = 1)"
      ]
    },
    {
      "cell_type": "markdown",
      "metadata": {
        "id": "wZJiRnqLLnnV"
      },
      "source": [
        "***Storing the independent data in the x variable***"
      ]
    },
    {
      "cell_type": "code",
      "execution_count": null,
      "metadata": {
        "id": "0OKpJ0oXavB_"
      },
      "outputs": [],
      "source": [
        "x = np.asarray(df1.values.tolist())"
      ]
    },
    {
      "cell_type": "markdown",
      "metadata": {
        "id": "AmYV4u1JLyRl"
      },
      "source": [
        "***Reshaping the y variable for matrix operations in prediction calculations***"
      ]
    },
    {
      "cell_type": "code",
      "execution_count": null,
      "metadata": {
        "id": "dCSRj8zvaxBM"
      },
      "outputs": [],
      "source": [
        "y = y.reshape(len(y),1)"
      ]
    },
    {
      "cell_type": "code",
      "execution_count": null,
      "metadata": {
        "id": "Temeooqza1F4",
        "colab": {
          "base_uri": "https://localhost:8080/"
        },
        "outputId": "9449390f-a3e8-4fc4-e645-6423eb23b38f"
      },
      "outputs": [
        {
          "output_type": "execute_result",
          "data": {
            "text/plain": [
              "(5000, 5)"
            ]
          },
          "metadata": {},
          "execution_count": 1095
        }
      ],
      "source": [
        "x.shape"
      ]
    },
    {
      "cell_type": "code",
      "execution_count": null,
      "metadata": {
        "id": "sPMOHc_5dqgh",
        "colab": {
          "base_uri": "https://localhost:8080/"
        },
        "outputId": "5a6c400b-087e-4de3-9253-467927e13b4b"
      },
      "outputs": [
        {
          "output_type": "execute_result",
          "data": {
            "text/plain": [
              "(5000, 1)"
            ]
          },
          "metadata": {},
          "execution_count": 1096
        }
      ],
      "source": [
        "y.shape"
      ]
    },
    {
      "cell_type": "markdown",
      "metadata": {
        "id": "5oyX-oQeDeLm"
      },
      "source": [
        "***Standardizing the x and y data***"
      ]
    },
    {
      "cell_type": "code",
      "execution_count": null,
      "metadata": {
        "id": "OCqTB8lYEtVF"
      },
      "outputs": [],
      "source": [
        "y_mean = np.mean(y,axis = 0)\n",
        "y_std = np.std(y,axis = 0)"
      ]
    },
    {
      "cell_type": "code",
      "execution_count": null,
      "metadata": {
        "id": "7os82MdhdrRX"
      },
      "outputs": [],
      "source": [
        "x = (x - np.mean(x, axis=0)) / np.std(x, axis=0)"
      ]
    },
    {
      "cell_type": "code",
      "execution_count": null,
      "metadata": {
        "id": "MhY2Oye4-Y30"
      },
      "outputs": [],
      "source": [
        "y = (y - np.mean(y, axis=0)) / np.std(y, axis=0)"
      ]
    },
    {
      "cell_type": "markdown",
      "metadata": {
        "id": "1HFYj9pUDd4y"
      },
      "source": [
        "***Adding a coloumn of ones to the numpy array for the Bias term***"
      ]
    },
    {
      "cell_type": "code",
      "execution_count": null,
      "metadata": {
        "id": "ybos_T8pdwDD"
      },
      "outputs": [],
      "source": [
        "x = np.hstack((np.ones((x.shape[0], 1)), x))"
      ]
    },
    {
      "cell_type": "markdown",
      "metadata": {
        "id": "HDypfTJ3D4U4"
      },
      "source": [
        "***Splitting the Data test into train set test set***"
      ]
    },
    {
      "cell_type": "code",
      "execution_count": null,
      "metadata": {
        "id": "nU7gtvyJV8rV"
      },
      "outputs": [],
      "source": [
        "def split_data(X, y, test_size=0.2, random_state=None):\n",
        "    X_train, X_test, y_train, y_test = train_test_split(X, y, test_size=test_size, random_state=random_state)\n",
        "    return X_train, X_test, y_train, y_test\n"
      ]
    },
    {
      "cell_type": "code",
      "execution_count": null,
      "metadata": {
        "id": "3fjzOHitWAwP"
      },
      "outputs": [],
      "source": [
        "X_train, X_test, y_train, y_test = split_data(x, y, test_size=0.2)"
      ]
    },
    {
      "cell_type": "markdown",
      "metadata": {
        "id": "Y0fA6tGfC8dY"
      },
      "source": [
        "***Declaring initial weight and Bias***"
      ]
    },
    {
      "cell_type": "code",
      "execution_count": null,
      "metadata": {
        "id": "WKP-O0A0WC4h"
      },
      "outputs": [],
      "source": [
        "num_features = X_train.shape[1]\n",
        "w = np.ones((num_features, 1))\n",
        "b = 0"
      ]
    },
    {
      "cell_type": "markdown",
      "metadata": {
        "id": "5RLj81vqDFPX"
      },
      "source": [
        "# **Multiple Linear Regression Class using SGD as an optimizer**"
      ]
    },
    {
      "cell_type": "code",
      "execution_count": null,
      "metadata": {
        "id": "Gets1RSfkLQ_"
      },
      "outputs": [],
      "source": [
        "class Regressor:\n",
        "    def __init__(self, w, b,batch_size, learning_rate, num_epochs):\n",
        "        self.learning_rate = learning_rate\n",
        "        self.num_epochs = num_epochs\n",
        "        self.batch_size = batch_size\n",
        "        self.w = w\n",
        "        self.b = b\n",
        "        self.mse_values = None\n",
        "        self.epoch_values = None\n",
        "\n",
        "    def train(self, X, y):\n",
        "\n",
        "        self.mse_values = []\n",
        "        self.epoch_values = []\n",
        "        self.batch_msevalues = []\n",
        "        self.batch_epoch_values = []\n",
        "\n",
        "        for epoch in range(self.num_epochs):\n",
        "\n",
        "            indices = np.random.permutation(len(X))\n",
        "            X_shuffled, y_shuffled = X[indices], y[indices]\n",
        "\n",
        "            num_batches = len(X) // self.batch_size\n",
        "            if len(X) % self.batch_size != 0:\n",
        "                num_batches += 1\n",
        "\n",
        "            random_batch_index = random.randint(0, num_batches - 1)\n",
        "\n",
        "            start = random_batch_index * self.batch_size\n",
        "            end = start + self.batch_size\n",
        "            X_batch = X_shuffled[start:end]\n",
        "            y_batch = y_shuffled[start:end]\n",
        "\n",
        "            y_pred = self.predict(X_batch)\n",
        "            error = y_batch - y_pred\n",
        "\n",
        "            mse = np.mean(error ** 2)\n",
        "            self.batch_msevalues.append(mse)\n",
        "            self.batch_epoch_values.append(epoch)\n",
        "\n",
        "            dw = -(2 / self.batch_size) * np.dot(X_batch.T, error)\n",
        "            db = -(2 / self.batch_size) * np.sum(error)\n",
        "\n",
        "            self.w = self.w - self.learning_rate * dw\n",
        "            self.b = self.b - self.learning_rate * db\n",
        "\n",
        "            self.mse_values.append(mse)\n",
        "            self.epoch_values.append(epoch)\n",
        "\n",
        "        return (\n",
        "            self.w,\n",
        "            self.b,\n",
        "            self.mse_values,\n",
        "            self.epoch_values,\n",
        "            self.batch_epoch_values,\n",
        "            self.batch_msevalues,\n",
        "        )\n",
        "\n",
        "    def test(self, X, y):\n",
        "        y_pred = self.predict(X)\n",
        "        mse = np.mean((y - y_pred)**2)\n",
        "        return mse\n",
        "\n",
        "    def predict(self, X):\n",
        "        y_pred = np.dot(X, self.w) + self.b\n",
        "        return y_pred\n"
      ]
    },
    {
      "cell_type": "markdown",
      "metadata": {
        "id": "mNZNW3uaELcC"
      },
      "source": [
        "***Function for calculating the r squared values***"
      ]
    },
    {
      "cell_type": "code",
      "execution_count": null,
      "metadata": {
        "id": "8HdXa0tyFbzQ"
      },
      "outputs": [],
      "source": [
        "def r2_sgd(regressor, x, y):\n",
        "\n",
        "    y_pred = regressor.predict(x)\n",
        "    y_mean = np.mean(y)\n",
        "    tss = np.sum((y - y_mean)**2)\n",
        "    rss = np.sum((y - y_pred)**2)\n",
        "    r2 = 1 - (rss / tss)\n",
        "\n",
        "    return r2\n"
      ]
    },
    {
      "cell_type": "markdown",
      "metadata": {
        "id": "vwCCgkfqES63"
      },
      "source": [
        "***Declaring an Object of Regressor class and calling the train function***"
      ]
    },
    {
      "cell_type": "code",
      "execution_count": null,
      "metadata": {
        "id": "4Wq_qa0pvrRV"
      },
      "outputs": [],
      "source": [
        "reg = Regressor(w, b,500,0.1,50)\n",
        "\n",
        "w1, b1, mse_values, epoch_values,batch_epoch_values, batch_msevalues = reg.train(X_train, y_train)"
      ]
    },
    {
      "cell_type": "markdown",
      "metadata": {
        "id": "gg9WbbgTEmmh"
      },
      "source": [
        "***The Mean Squared Error Value of reg object***"
      ]
    },
    {
      "cell_type": "code",
      "execution_count": null,
      "metadata": {
        "id": "FCMReSFfu-65",
        "colab": {
          "base_uri": "https://localhost:8080/"
        },
        "outputId": "fd47137b-751f-475f-998e-aab718de9ca1"
      },
      "outputs": [
        {
          "output_type": "execute_result",
          "data": {
            "text/plain": [
              "np.float64(0.07894236254099313)"
            ]
          },
          "metadata": {},
          "execution_count": 1107
        }
      ],
      "source": [
        "mse = reg.test(X_test,y_test)\n",
        "mse"
      ]
    },
    {
      "cell_type": "code",
      "execution_count": null,
      "metadata": {
        "id": "hfqg3ocyuUiC",
        "colab": {
          "base_uri": "https://localhost:8080/",
          "height": 472
        },
        "outputId": "5895be63-8d85-45cc-aade-c857c632391e"
      },
      "outputs": [
        {
          "output_type": "display_data",
          "data": {
            "text/plain": [
              "<Figure size 640x480 with 1 Axes>"
            ],
            "image/png": "[encoded data removed]"
          },
          "metadata": {}
        }
      ],
      "source": [
        "plt.plot(epoch_values, mse_values)\n",
        "plt.xlabel('Epoch')\n",
        "plt.ylabel('MSE Loss')\n",
        "plt.title('Training Loss')\n",
        "plt.show()"
      ]
    },
    {
      "cell_type": "code",
      "execution_count": null,
      "metadata": {
        "id": "ONhkhKa3bw0U",
        "colab": {
          "base_uri": "https://localhost:8080/",
          "height": 472
        },
        "outputId": "62e0805b-ddcb-4403-dbdb-f1861f2325a1"
      },
      "outputs": [
        {
          "output_type": "display_data",
          "data": {
            "text/plain": [
              "<Figure size 640x480 with 1 Axes>"
            ],
            "image/png": "[encoded data removed]"
          },
          "metadata": {}
        }
      ],
      "source": [
        "plt.plot(batch_epoch_values, batch_msevalues)\n",
        "plt.xlabel('Epoch')\n",
        "plt.ylabel('MSE Loss across Batches')\n",
        "plt.title('Training Loss across Batches')\n",
        "plt.show()\n"
      ]
    },
    {
      "cell_type": "markdown",
      "metadata": {
        "id": "NnJI3rnaF-N4"
      },
      "source": [
        "***R2 value of the reg object***"
      ]
    },
    {
      "cell_type": "code",
      "execution_count": null,
      "metadata": {
        "id": "N7LLF5larQse",
        "colab": {
          "base_uri": "https://localhost:8080/"
        },
        "outputId": "76f20df4-7858-49e7-9e1e-008e2e3a2f57"
      },
      "outputs": [
        {
          "output_type": "stream",
          "name": "stdout",
          "text": [
            "R-squared value: 0.9191\n"
          ]
        }
      ],
      "source": [
        "r2 = r2_sgd(reg, X_test, y_test)\n",
        "r2_train = r2_sgd(reg,X_train,y_train)\n",
        "print(f'R-squared value: {r2:.4f}')\n",
        "# print(f'R-squared value: {r2_train:.4f}')"
      ]
    },
    {
      "cell_type": "markdown",
      "metadata": {
        "id": "TPfXYBkyBkZ3"
      },
      "source": [
        "#**Federated approach of multiple linear regression**"
      ]
    },
    {
      "cell_type": "markdown",
      "metadata": {
        "id": "4FCHlBS_Ck_A"
      },
      "source": [
        "***Declaring the hyperparameters for Federated Model***"
      ]
    },
    {
      "cell_type": "code",
      "execution_count": null,
      "metadata": {
        "id": "geYX_zBq6MRh"
      },
      "outputs": [],
      "source": [
        "local_batch = 10\n",
        "epoch = 20\n",
        "learning_rate = 0.001\n",
        "n_clients = 10\n",
        "cycles = 100\n",
        "\n",
        "enable_noise=False\n",
        "client_index=2\n",
        "feature_index=1\n",
        "noise_value= 5\n",
        "change_percentage=0.5\n",
        "cycle_threshold=1\n",
        "# contribution_threshold=0"
      ]
    },
    {
      "cell_type": "markdown",
      "metadata": {
        "id": "qBe_MASEE-sc"
      },
      "source": [
        "***Declaring the global_object (as Server unit) and Local objects (as Mobile Devices)***"
      ]
    },
    {
      "cell_type": "code",
      "execution_count": null,
      "metadata": {
        "id": "CidMnfCuBvlx"
      },
      "outputs": [],
      "source": [
        "local_model = Regressor(w,b,local_batch,learning_rate,epoch)\n",
        "global_model = Regressor(w,b,0,0,0)"
      ]
    },
    {
      "cell_type": "markdown",
      "metadata": {
        "id": "PWUlXFrTFJo2"
      },
      "source": [
        "***Federated Class***"
      ]
    },
    {
      "cell_type": "code",
      "execution_count": null,
      "metadata": {
        "id": "qA4oa3k-mgnW"
      },
      "outputs": [],
      "source": [
        "class Federated:\n",
        "    def __init__(self, global_model, local_model, cycles, n_clients, X, y, enable_noise=False,\n",
        "                 client_index=None, feature_index=None, noise_value=None, change_percentage=None):\n",
        "        self.n_clients = n_clients\n",
        "        self.X = X\n",
        "        self.y = y\n",
        "        self.local_model = local_model\n",
        "        self.global_model = global_model\n",
        "        self.cycles = cycles\n",
        "        self.enable_noise = enable_noise\n",
        "        self.client_index = client_index\n",
        "        self.feature_index = feature_index\n",
        "        self.noise_value = noise_value\n",
        "        self.change_percentage = change_percentage\n",
        "        self.client_metrics_log = []\n",
        "\n",
        "\n",
        "    def fed_learn(self, X_test, y_test):\n",
        "        client_data, client_targets = self.client_data_split()\n",
        "        self.mse_list = []\n",
        "        self.cycles_list = []\n",
        "        self.client_contributions = []  # Track client contributions across cycles\n",
        "\n",
        "        for cycle_idx in range(self.cycles):\n",
        "            cycle_contributions = []  # Track contributions for this cycle\n",
        "\n",
        "            # Reset local model to global model parameters\n",
        "            self.local_model.w = self.global_model.w.copy()\n",
        "            self.local_model.b = self.global_model.b\n",
        "\n",
        "            client_weights = []  # Store each client's weights\n",
        "            client_biases = []   # Store each client's biases\n",
        "\n",
        "            # First, train all clients and evaluate their contributions\n",
        "            for client_idx in range(self.n_clients):\n",
        "                # Train the local model on client data\n",
        "                self.local_model.train(client_data[client_idx], client_targets[client_idx])\n",
        "\n",
        "                # Evaluate this client's contribution\n",
        "                contribution = self.evaluate_client_contribution(\n",
        "                    self.local_model, client_data[client_idx], client_targets[client_idx])\n",
        "                cycle_contributions.append(contribution)\n",
        "\n",
        "                # Store trained weights and biases\n",
        "                client_weights.append(self.local_model.w.copy())\n",
        "                client_biases.append(self.local_model.b)\n",
        "\n",
        "                # Reset local model for next client\n",
        "                if client_idx < self.n_clients - 1:\n",
        "                    self.local_model.w = self.global_model.w.copy()\n",
        "                    self.local_model.b = self.global_model.b\n",
        "            # Store all client contributions for this cycle\n",
        "            self.client_contributions.append(cycle_contributions)\n",
        "\n",
        "\n",
        "\n",
        "\n",
        "\n",
        "            # Now aggregate all client models to update global model\n",
        "            # Simple average aggregation (can be modified to use contribution scores)\n",
        "            self.global_model.w = np.mean(client_weights, axis=0)\n",
        "            self.global_model.b = np.mean(client_biases)\n",
        "\n",
        "            # Evaluate global model\n",
        "            mse_global = self.global_model.test(X_test, y_test)\n",
        "            self.mse_list.append(mse_global)\n",
        "            self.cycles_list.append(cycle_idx)\n",
        "\n",
        "            if cycle_idx >= cycle_threshold - 1:\n",
        "                self.flag_low_contribution_clients(cycle_idx + 1)\n",
        "\n",
        "\n",
        "            # print(f\"Cycle {cycle_idx+1}/{self.cycles}, Global MSE: {mse_global:.4f}\")\n",
        "            # print(f\"Client contributions: {[f'{c:.4f}' for c in cycle_contributions]}\")\n",
        "\n",
        "        return self.global_model, self.mse_list, self.cycles_list, self.client_contributions\n",
        "\n",
        "    def client_data_split(self):\n",
        "        client_d = np.array_split(self.X, self.n_clients)\n",
        "        client_t = np.array_split(self.y, self.n_clients)\n",
        "        return client_d, client_t\n",
        "\n",
        "    def evaluate_client_contribution(self, model, X, y):\n",
        "        \"\"\"\n",
        "        Evaluates the contribution quality of a client's model update.\n",
        "\n",
        "        This function calculates multiple metrics to assess how valuable a client's\n",
        "        model update is to the federation. It considers both performance on the client's\n",
        "        local data and the magnitude of parameter updates.\n",
        "\n",
        "        Parameters:\n",
        "        -----------\n",
        "        model : object\n",
        "            The local model that has been trained on the client's data\n",
        "        X : numpy.ndarray\n",
        "            Features of the client's dataset\n",
        "        y : numpy.ndarray\n",
        "            Target values of the client's dataset\n",
        "\n",
        "        Returns:\n",
        "        --------\n",
        "        float\n",
        "            A contribution score where higher values indicate better contribution\n",
        "        \"\"\"\n",
        "        # Calculate prediction error on client's own data\n",
        "        y_pred = model.predict(X)\n",
        "        mse = np.mean((y_pred - y) ** 2)\n",
        "\n",
        "        # Calculate R-squared (coefficient of determination)\n",
        "        # R-squared measures how well the model explains the variance in the data\n",
        "        y_mean = np.mean(y)\n",
        "        ss_total = np.sum((y - y_mean) ** 2)\n",
        "        ss_residual = np.sum((y - y_pred) ** 2)\n",
        "        r_squared = 1 - (ss_residual / (ss_total + 1e-10))\n",
        "\n",
        "        # Calculate parameter update magnitude\n",
        "        # This measures how much the client's model parameters changed during training\n",
        "        param_change_magnitude = np.linalg.norm(model.w - self.global_model.w)\n",
        "\n",
        "        # Penalize extremely large parameter changes as they may indicate overfitting\n",
        "        # or adversarial updates\n",
        "        update_penalty = 1.0 / (1.0 + 0.1 * param_change_magnitude)\n",
        "\n",
        "        # Calculate data diversity score\n",
        "        # Higher variance in features indicates more diverse data\n",
        "        feature_variance = np.mean(np.var(X, axis=0))\n",
        "        diversity_score = np.tanh(feature_variance)  # Normalize to 0-1 range\n",
        "\n",
        "        # Combine metrics into a single score\n",
        "        # We can adjust these weights based on what aspects we want to emphasize\n",
        "        score_weights = {\n",
        "            'mse': 0.75,        # Emphasize prediction accuracy\n",
        "            'r_squared': 0.2,  # Consider fit quality\n",
        "            'update': 0.2,     # Consider parameter update quality\n",
        "            'diversity': 0.1   # Consider data diversity\n",
        "        }\n",
        "\n",
        "        # Calculate weighted score (negative MSE so higher values are better)\n",
        "        contribution_score = (\n",
        "            score_weights['mse'] * (-mse) +\n",
        "            score_weights['r_squared'] * r_squared +\n",
        "            score_weights['update'] * update_penalty +\n",
        "            score_weights['diversity'] * diversity_score\n",
        "        )\n",
        "\n",
        "        # Log detailed metrics for research analysis\n",
        "        if hasattr(self, 'client_metrics_log'):\n",
        "            self.client_metrics_log.append({\n",
        "                'client_id': len(X),  # Use data size as proxy for client ID\n",
        "                'mse': mse,\n",
        "                'r_squared': r_squared,\n",
        "                'param_change': param_change_magnitude,\n",
        "                'diversity': diversity_score,\n",
        "                'final_score': contribution_score\n",
        "            })\n",
        "\n",
        "        return contribution_score\n",
        "\n",
        "    def visualize_client_contributions(self):\n",
        "        \"\"\"\n",
        "        Visualizes the contribution of each client over training cycles.\n",
        "        \"\"\"\n",
        "        import matplotlib.pyplot as plt\n",
        "\n",
        "        if not hasattr(self, 'client_contributions') or not self.client_contributions:\n",
        "            print(\"No client contribution data available.\")\n",
        "            return\n",
        "\n",
        "        plt.figure(figsize=(10, 6))\n",
        "        cycles = range(1, len(self.client_contributions) + 1)\n",
        "\n",
        "        # Plot each client's contribution over cycles\n",
        "        for client_idx in range(self.n_clients):\n",
        "            client_scores = [self.client_contributions[cycle][client_idx]\n",
        "                            for cycle in range(len(self.client_contributions))]\n",
        "            plt.plot(cycles, client_scores, marker='o', label=f'Client {client_idx+1}')\n",
        "\n",
        "        plt.xlabel('Cycle')\n",
        "        plt.ylabel('Contribution Score')\n",
        "        plt.title('Client Contribution Scores Over Training Cycles')\n",
        "        plt.legend()\n",
        "        plt.grid(True)\n",
        "        plt.show()\n",
        "\n",
        "        # Also plot the global model MSE\n",
        "        plt.figure(figsize=(10, 6))\n",
        "        plt.plot(cycles, self.mse_list, marker='s', color='red', linewidth=2)\n",
        "        plt.xlabel('Cycle')\n",
        "        plt.ylabel('Global Model MSE')\n",
        "        plt.title('Global Model Performance Over Training Cycles')\n",
        "        plt.grid(True)\n",
        "        plt.show()\n",
        "\n",
        "    # def flag_low_contribution_clients(self, current_cycle, contribution_threshold):\n",
        "    #     \"\"\"Flags clients with consistently low contribution scores.\"\"\"\n",
        "\n",
        "    #     # Calculate average contribution for each client up to current_cycle\n",
        "    #     avg_contributions = np.mean(self.client_contributions[:current_cycle], axis=0)\n",
        "\n",
        "    #     # Identify clients below the threshold\n",
        "    #     low_contribution_clients = np.where(avg_contributions < contribution_threshold)[0]\n",
        "\n",
        "    #     # Print and notify\n",
        "    #     if low_contribution_clients.size > 0:\n",
        "    #         print(f\"Cycle {current_cycle}: Clients with low contribution scores:\")\n",
        "    #         for client_idx in low_contribution_clients:\n",
        "    #             print(f\"Client {client_idx + 1}\")\n",
        "\n",
        "    def flag_low_contribution_clients(self, current_cycle):\n",
        "      \"\"\"\n",
        "      Categorizes and prints client scores into low, medium, and high for each cycle.\n",
        "      Normalizes scores to 0-1 range using min-max scaling and statistical categorization.\n",
        "      Prints output only every 10 cycles.\n",
        "\n",
        "      Args:\n",
        "          current_cycle (int): The current training cycle number (1-based index)\n",
        "      \"\"\"\n",
        "      # Check if we have contributions for this cycle\n",
        "      if current_cycle > len(self.client_contributions):\n",
        "          print(f\"Cycle {current_cycle} data not available yet\")\n",
        "          return\n",
        "\n",
        "      # Get contributions for the current cycle (using 0-based index)\n",
        "      current_contributions = np.array(self.client_contributions[current_cycle-1])\n",
        "\n",
        "      # Handle case where all scores are identical\n",
        "      if np.all(current_contributions == current_contributions[0]):\n",
        "          normalized_scores = np.zeros_like(current_contributions)\n",
        "      else:\n",
        "          # Min-max normalization to 0-1 range\n",
        "          min_score = np.min(current_contributions)\n",
        "          max_score = np.max(current_contributions)\n",
        "\n",
        "          # Avoid division by zero\n",
        "          if min_score == max_score:\n",
        "              normalized_scores = np.zeros_like(current_contributions)\n",
        "          else:\n",
        "              normalized_scores = (current_contributions - min_score) / (max_score - min_score)\n",
        "\n",
        "      # Calculate thresholds for categorization\n",
        "      # Using percentile-based approach for more robust categorization\n",
        "      low_threshold = np.percentile(normalized_scores, 25)\n",
        "      high_threshold = np.percentile(normalized_scores, 75)\n",
        "\n",
        "      # Categorize clients\n",
        "      low_scorers = np.where(normalized_scores < low_threshold)[0]\n",
        "      medium_scorers = np.where((normalized_scores >= low_threshold) &\n",
        "                              (normalized_scores < high_threshold))[0]\n",
        "      high_scorers = np.where(normalized_scores >= high_threshold)[0]\n",
        "\n",
        "      # Only print for every 10th cycle\n",
        "      if current_cycle % 10 == 0:\n",
        "          # Print the categorization table\n",
        "          print(f\"\\nCycle {current_cycle} Client Categorization:\")\n",
        "          print(f\"{'Category':<10} | {'Clients':<15} | {'Normalized Score Range':<25} | {'Raw Score Range':<20}\")\n",
        "          print(\"-\" * 80)\n",
        "\n",
        "          # Helper function to format client lists\n",
        "          def format_clients(indices):\n",
        "              return str([c+1 for c in indices]) if len(indices) > 0 else \"None\"\n",
        "\n",
        "          # Print categories\n",
        "          def print_category(category, indices, norm_low, norm_high):\n",
        "              if len(indices) > 0:\n",
        "                  category_contributions = current_contributions[indices]\n",
        "                  print(f\"{category:<10} | {format_clients(indices):<15} | \"\n",
        "                        f\"{norm_low:.4f} to {norm_high:.4f} {' '*6} | \"\n",
        "                        f\"{np.min(category_contributions):.4f} to {np.max(category_contributions):.4f}\")\n",
        "              else:\n",
        "                  print(f\"{category:<10} | {'None':<15} | {'N/A':<25} | {'N/A':<20}\")\n",
        "\n",
        "          print_category('Low', low_scorers, 0, low_threshold)\n",
        "          print_category('Medium', medium_scorers, low_threshold, high_threshold)\n",
        "          print_category('High', high_scorers, high_threshold, 1)\n",
        "\n",
        "          # Print statistics\n",
        "          print(\"\\nStatistics:\")\n",
        "          print(f\"Min raw score: {np.min(current_contributions):.4f}\")\n",
        "          print(f\"Max raw score: {np.max(current_contributions):.4f}\")\n",
        "          print(f\"Mean raw score: {np.mean(current_contributions):.4f}\")\n",
        "          print(f\"Standard deviation: {np.std(current_contributions):.4f}\")\n",
        "          print(\"-\" * 80)\n",
        "\n",
        "          # Additional insights: raw normalized scores for each client\n",
        "          print(\"\\nNormalized Scores per Client:\")\n",
        "          for idx, (raw_score, norm_score) in enumerate(zip(current_contributions, normalized_scores), 1):\n",
        "              print(f\"Client {idx}: Raw Score = {raw_score:.4f}, Normalized Score = {norm_score:.4f}\")"
      ]
    },
    {
      "cell_type": "markdown",
      "metadata": {
        "id": "LG2dbp2vFPHR"
      },
      "source": [
        "***Declaring an Object of the Federated Class***"
      ]
    },
    {
      "cell_type": "code",
      "execution_count": null,
      "metadata": {
        "id": "Yqo2Jdi005GS",
        "collapsed": true,
        "colab": {
          "base_uri": "https://localhost:8080/"
        },
        "outputId": "22ec3b77-8bb4-448a-888c-5622eb22b0c9"
      },
      "outputs": [
        {
          "output_type": "stream",
          "name": "stdout",
          "text": [
            "\n",
            "Cycle 10 Client Categorization:\n",
            "Category   | Clients         | Normalized Score Range    | Raw Score Range     \n",
            "--------------------------------------------------------------------------------\n",
            "Low        | [np.int64(2), np.int64(5), np.int64(9)] | 0.0000 to 0.4940        | -0.8487 to -0.7439\n",
            "Medium     | [np.int64(1), np.int64(3), np.int64(4), np.int64(6)] | 0.4940 to 0.7640        | -0.7327 to -0.6862\n",
            "High       | [np.int64(7), np.int64(8), np.int64(10)] | 0.7640 to 1.0000        | -0.6809 to -0.6308\n",
            "\n",
            "Statistics:\n",
            "Min raw score: -0.8487\n",
            "Max raw score: -0.6308\n",
            "Mean raw score: -0.7142\n",
            "Standard deviation: 0.0597\n",
            "--------------------------------------------------------------------------------\n",
            "\n",
            "Normalized Scores per Client:\n",
            "Client 1: Raw Score = -0.6897, Normalized Score = 0.7296\n",
            "Client 2: Raw Score = -0.7439, Normalized Score = 0.4811\n",
            "Client 3: Raw Score = -0.6862, Normalized Score = 0.7456\n",
            "Client 4: Raw Score = -0.7327, Normalized Score = 0.5326\n",
            "Client 5: Raw Score = -0.8487, Normalized Score = 0.0000\n",
            "Client 6: Raw Score = -0.6992, Normalized Score = 0.6863\n",
            "Client 7: Raw Score = -0.6308, Normalized Score = 1.0000\n",
            "Client 8: Raw Score = -0.6809, Normalized Score = 0.7701\n",
            "Client 9: Raw Score = -0.7726, Normalized Score = 0.3492\n",
            "Client 10: Raw Score = -0.6575, Normalized Score = 0.8774\n",
            "\n",
            "Cycle 20 Client Categorization:\n",
            "Category   | Clients         | Normalized Score Range    | Raw Score Range     \n",
            "--------------------------------------------------------------------------------\n",
            "Low        | [np.int64(2), np.int64(5), np.int64(9)] | 0.0000 to 0.3806        | -0.0255 to -0.0018\n",
            "Medium     | [np.int64(1), np.int64(3), np.int64(4), np.int64(8)] | 0.3806 to 0.7569        | 0.0087 to 0.0248\n",
            "High       | [np.int64(6), np.int64(7), np.int64(10)] | 0.7569 to 1.0000        | 0.0276 to 0.0437\n",
            "\n",
            "Statistics:\n",
            "Min raw score: -0.0255\n",
            "Max raw score: 0.0437\n",
            "Mean raw score: 0.0135\n",
            "Standard deviation: 0.0220\n",
            "--------------------------------------------------------------------------------\n",
            "\n",
            "Normalized Scores per Client:\n",
            "Client 1: Raw Score = 0.0231, Normalized Score = 0.7030\n",
            "Client 2: Raw Score = -0.0018, Normalized Score = 0.3428\n",
            "Client 3: Raw Score = 0.0232, Normalized Score = 0.7035\n",
            "Client 4: Raw Score = 0.0087, Normalized Score = 0.4941\n",
            "Client 5: Raw Score = -0.0217, Normalized Score = 0.0555\n",
            "Client 6: Raw Score = 0.0333, Normalized Score = 0.8503\n",
            "Client 7: Raw Score = 0.0276, Normalized Score = 0.7670\n",
            "Client 8: Raw Score = 0.0248, Normalized Score = 0.7266\n",
            "Client 9: Raw Score = -0.0255, Normalized Score = 0.0000\n",
            "Client 10: Raw Score = 0.0437, Normalized Score = 1.0000\n",
            "\n",
            "Cycle 30 Client Categorization:\n",
            "Category   | Clients         | Normalized Score Range    | Raw Score Range     \n",
            "--------------------------------------------------------------------------------\n",
            "Low        | [np.int64(2), np.int64(5), np.int64(9)] | 0.0000 to 0.4312        | 0.2307 to 0.2448\n",
            "Medium     | [np.int64(1), np.int64(3), np.int64(4), np.int64(7)] | 0.4312 to 0.8287        | 0.2553 to 0.2596\n",
            "High       | [np.int64(6), np.int64(8), np.int64(10)] | 0.8287 to 1.0000        | 0.2639 to 0.2695\n",
            "\n",
            "Statistics:\n",
            "Min raw score: 0.2307\n",
            "Max raw score: 0.2695\n",
            "Mean raw score: 0.2545\n",
            "Standard deviation: 0.0118\n",
            "--------------------------------------------------------------------------------\n",
            "\n",
            "Normalized Scores per Client:\n",
            "Client 1: Raw Score = 0.2572, Normalized Score = 0.6837\n",
            "Client 2: Raw Score = 0.2391, Normalized Score = 0.2168\n",
            "Client 3: Raw Score = 0.2586, Normalized Score = 0.7202\n",
            "Client 4: Raw Score = 0.2553, Normalized Score = 0.6339\n",
            "Client 5: Raw Score = 0.2448, Normalized Score = 0.3637\n",
            "Client 6: Raw Score = 0.2659, Normalized Score = 0.9080\n",
            "Client 7: Raw Score = 0.2596, Normalized Score = 0.7456\n",
            "Client 8: Raw Score = 0.2639, Normalized Score = 0.8564\n",
            "Client 9: Raw Score = 0.2307, Normalized Score = 0.0000\n",
            "Client 10: Raw Score = 0.2695, Normalized Score = 1.0000\n",
            "\n",
            "Cycle 40 Client Categorization:\n",
            "Category   | Clients         | Normalized Score Range    | Raw Score Range     \n",
            "--------------------------------------------------------------------------------\n",
            "Low        | [np.int64(2), np.int64(4), np.int64(9)] | 0.0000 to 0.4911        | 0.3204 to 0.3331\n",
            "Medium     | [np.int64(1), np.int64(3), np.int64(5), np.int64(7)] | 0.4911 to 0.7555        | 0.3358 to 0.3387\n",
            "High       | [np.int64(6), np.int64(8), np.int64(10)] | 0.7555 to 1.0000        | 0.3416 to 0.3476\n",
            "\n",
            "Statistics:\n",
            "Min raw score: 0.3204\n",
            "Max raw score: 0.3476\n",
            "Mean raw score: 0.3362\n",
            "Standard deviation: 0.0075\n",
            "--------------------------------------------------------------------------------\n",
            "\n",
            "Normalized Scores per Client:\n",
            "Client 1: Raw Score = 0.3358, Normalized Score = 0.5655\n",
            "Client 2: Raw Score = 0.3279, Normalized Score = 0.2769\n",
            "Client 3: Raw Score = 0.3387, Normalized Score = 0.6749\n",
            "Client 4: Raw Score = 0.3331, Normalized Score = 0.4663\n",
            "Client 5: Raw Score = 0.3367, Normalized Score = 0.5991\n",
            "Client 6: Raw Score = 0.3416, Normalized Score = 0.7824\n",
            "Client 7: Raw Score = 0.3364, Normalized Score = 0.5881\n",
            "Client 8: Raw Score = 0.3441, Normalized Score = 0.8737\n",
            "Client 9: Raw Score = 0.3204, Normalized Score = 0.0000\n",
            "Client 10: Raw Score = 0.3476, Normalized Score = 1.0000\n",
            "\n",
            "Cycle 50 Client Categorization:\n",
            "Category   | Clients         | Normalized Score Range    | Raw Score Range     \n",
            "--------------------------------------------------------------------------------\n",
            "Low        | [np.int64(2), np.int64(4), np.int64(9)] | 0.0000 to 0.4194        | 0.3575 to 0.3646\n",
            "Medium     | [np.int64(1), np.int64(3), np.int64(6), np.int64(7)] | 0.4194 to 0.7578        | 0.3656 to 0.3704\n",
            "High       | [np.int64(5), np.int64(8), np.int64(10)] | 0.7578 to 1.0000        | 0.3709 to 0.3750\n",
            "\n",
            "Statistics:\n",
            "Min raw score: 0.3575\n",
            "Max raw score: 0.3750\n",
            "Mean raw score: 0.3673\n",
            "Standard deviation: 0.0050\n",
            "--------------------------------------------------------------------------------\n",
            "\n",
            "Normalized Scores per Client:\n",
            "Client 1: Raw Score = 0.3656, Normalized Score = 0.4599\n",
            "Client 2: Raw Score = 0.3618, Normalized Score = 0.2459\n",
            "Client 3: Raw Score = 0.3680, Normalized Score = 0.5994\n",
            "Client 4: Raw Score = 0.3646, Normalized Score = 0.4059\n",
            "Client 5: Raw Score = 0.3709, Normalized Score = 0.7655\n",
            "Client 6: Raw Score = 0.3704, Normalized Score = 0.7350\n",
            "Client 7: Raw Score = 0.3668, Normalized Score = 0.5283\n",
            "Client 8: Raw Score = 0.3727, Normalized Score = 0.8664\n",
            "Client 9: Raw Score = 0.3575, Normalized Score = 0.0000\n",
            "Client 10: Raw Score = 0.3750, Normalized Score = 1.0000\n",
            "\n",
            "Cycle 60 Client Categorization:\n",
            "Category   | Clients         | Normalized Score Range    | Raw Score Range     \n",
            "--------------------------------------------------------------------------------\n",
            "Low        | [np.int64(1), np.int64(2), np.int64(9)] | 0.0000 to 0.2129        | 0.3738 to 0.3763\n",
            "Medium     | [np.int64(3), np.int64(4), np.int64(6), np.int64(7)] | 0.2129 to 0.7536        | 0.3767 to 0.3808\n",
            "High       | [np.int64(5), np.int64(8), np.int64(10)] | 0.7536 to 1.0000        | 0.3839 to 0.3862\n",
            "\n",
            "Statistics:\n",
            "Min raw score: 0.3738\n",
            "Max raw score: 0.3862\n",
            "Mean raw score: 0.3795\n",
            "Standard deviation: 0.0040\n",
            "--------------------------------------------------------------------------------\n",
            "\n",
            "Normalized Scores per Client:\n",
            "Client 1: Raw Score = 0.3763, Normalized Score = 0.2041\n",
            "Client 2: Raw Score = 0.3749, Normalized Score = 0.0919\n",
            "Client 3: Raw Score = 0.3802, Normalized Score = 0.5180\n",
            "Client 4: Raw Score = 0.3767, Normalized Score = 0.2392\n",
            "Client 5: Raw Score = 0.3844, Normalized Score = 0.8561\n",
            "Client 6: Raw Score = 0.3808, Normalized Score = 0.5711\n",
            "Client 7: Raw Score = 0.3781, Normalized Score = 0.3483\n",
            "Client 8: Raw Score = 0.3839, Normalized Score = 0.8144\n",
            "Client 9: Raw Score = 0.3738, Normalized Score = 0.0000\n",
            "Client 10: Raw Score = 0.3862, Normalized Score = 1.0000\n",
            "\n",
            "Cycle 70 Client Categorization:\n",
            "Category   | Clients         | Normalized Score Range    | Raw Score Range     \n",
            "--------------------------------------------------------------------------------\n",
            "Low        | [np.int64(1), np.int64(2), np.int64(9)] | 0.0000 to 0.0396        | 0.3809 to 0.3810\n",
            "Medium     | [np.int64(3), np.int64(4), np.int64(6), np.int64(7)] | 0.0396 to 0.6781        | 0.3820 to 0.3857\n",
            "High       | [np.int64(5), np.int64(8), np.int64(10)] | 0.6781 to 1.0000        | 0.3880 to 0.3905\n",
            "\n",
            "Statistics:\n",
            "Min raw score: 0.3809\n",
            "Max raw score: 0.3905\n",
            "Mean raw score: 0.3848\n",
            "Standard deviation: 0.0036\n",
            "--------------------------------------------------------------------------------\n",
            "\n",
            "Normalized Scores per Client:\n",
            "Client 1: Raw Score = 0.3810, Normalized Score = 0.0140\n",
            "Client 2: Raw Score = 0.3810, Normalized Score = 0.0153\n",
            "Client 3: Raw Score = 0.3852, Normalized Score = 0.4512\n",
            "Client 4: Raw Score = 0.3820, Normalized Score = 0.1127\n",
            "Client 5: Raw Score = 0.3905, Normalized Score = 1.0000\n",
            "Client 6: Raw Score = 0.3857, Normalized Score = 0.4982\n",
            "Client 7: Raw Score = 0.3830, Normalized Score = 0.2253\n",
            "Client 8: Raw Score = 0.3880, Normalized Score = 0.7381\n",
            "Client 9: Raw Score = 0.3809, Normalized Score = 0.0000\n",
            "Client 10: Raw Score = 0.3903, Normalized Score = 0.9755\n",
            "\n",
            "Cycle 80 Client Categorization:\n",
            "Category   | Clients         | Normalized Score Range    | Raw Score Range     \n",
            "--------------------------------------------------------------------------------\n",
            "Low        | [np.int64(1), np.int64(2), np.int64(4)] | 0.0000 to 0.1400        | 0.3829 to 0.3843\n",
            "Medium     | [np.int64(3), np.int64(6), np.int64(7), np.int64(9)] | 0.1400 to 0.5925        | 0.3845 to 0.3876\n",
            "High       | [np.int64(5), np.int64(8), np.int64(10)] | 0.5925 to 1.0000        | 0.3898 to 0.3936\n",
            "\n",
            "Statistics:\n",
            "Min raw score: 0.3829\n",
            "Max raw score: 0.3936\n",
            "Mean raw score: 0.3872\n",
            "Standard deviation: 0.0035\n",
            "--------------------------------------------------------------------------------\n",
            "\n",
            "Normalized Scores per Client:\n",
            "Client 1: Raw Score = 0.3829, Normalized Score = 0.0000\n",
            "Client 2: Raw Score = 0.3837, Normalized Score = 0.0709\n",
            "Client 3: Raw Score = 0.3876, Normalized Score = 0.4401\n",
            "Client 4: Raw Score = 0.3843, Normalized Score = 0.1355\n",
            "Client 5: Raw Score = 0.3936, Normalized Score = 1.0000\n",
            "Client 6: Raw Score = 0.3875, Normalized Score = 0.4338\n",
            "Client 7: Raw Score = 0.3855, Normalized Score = 0.2415\n",
            "Client 8: Raw Score = 0.3898, Normalized Score = 0.6432\n",
            "Client 9: Raw Score = 0.3845, Normalized Score = 0.1534\n",
            "Client 10: Raw Score = 0.3922, Normalized Score = 0.8649\n",
            "\n",
            "Cycle 90 Client Categorization:\n",
            "Category   | Clients         | Normalized Score Range    | Raw Score Range     \n",
            "--------------------------------------------------------------------------------\n",
            "Low        | [np.int64(1), np.int64(2), np.int64(4)] | 0.0000 to 0.1929        | 0.3837 to 0.3856\n",
            "Medium     | [np.int64(3), np.int64(6), np.int64(7), np.int64(9)] | 0.1929 to 0.5813        | 0.3864 to 0.3887\n",
            "High       | [np.int64(5), np.int64(8), np.int64(10)] | 0.5813 to 1.0000        | 0.3906 to 0.3947\n",
            "\n",
            "Statistics:\n",
            "Min raw score: 0.3837\n",
            "Max raw score: 0.3947\n",
            "Mean raw score: 0.3883\n",
            "Standard deviation: 0.0034\n",
            "--------------------------------------------------------------------------------\n",
            "\n",
            "Normalized Scores per Client:\n",
            "Client 1: Raw Score = 0.3837, Normalized Score = 0.0000\n",
            "Client 2: Raw Score = 0.3849, Normalized Score = 0.1114\n",
            "Client 3: Raw Score = 0.3887, Normalized Score = 0.4510\n",
            "Client 4: Raw Score = 0.3856, Normalized Score = 0.1764\n",
            "Client 5: Raw Score = 0.3947, Normalized Score = 1.0000\n",
            "Client 6: Raw Score = 0.3886, Normalized Score = 0.4450\n",
            "Client 7: Raw Score = 0.3865, Normalized Score = 0.2539\n",
            "Client 8: Raw Score = 0.3906, Normalized Score = 0.6247\n",
            "Client 9: Raw Score = 0.3864, Normalized Score = 0.2424\n",
            "Client 10: Raw Score = 0.3929, Normalized Score = 0.8324\n",
            "\n",
            "Cycle 100 Client Categorization:\n",
            "Category   | Clients         | Normalized Score Range    | Raw Score Range     \n",
            "--------------------------------------------------------------------------------\n",
            "Low        | [np.int64(1), np.int64(2), np.int64(4)] | 0.0000 to 0.2052        | 0.3841 to 0.3862\n",
            "Medium     | [np.int64(3), np.int64(6), np.int64(7), np.int64(9)] | 0.2052 to 0.5531        | 0.3871 to 0.3892\n",
            "High       | [np.int64(5), np.int64(8), np.int64(10)] | 0.5531 to 1.0000        | 0.3908 to 0.3955\n",
            "\n",
            "Statistics:\n",
            "Min raw score: 0.3841\n",
            "Max raw score: 0.3955\n",
            "Mean raw score: 0.3888\n",
            "Standard deviation: 0.0034\n",
            "--------------------------------------------------------------------------------\n",
            "\n",
            "Normalized Scores per Client:\n",
            "Client 1: Raw Score = 0.3841, Normalized Score = 0.0000\n",
            "Client 2: Raw Score = 0.3855, Normalized Score = 0.1281\n",
            "Client 3: Raw Score = 0.3892, Normalized Score = 0.4499\n",
            "Client 4: Raw Score = 0.3862, Normalized Score = 0.1862\n",
            "Client 5: Raw Score = 0.3955, Normalized Score = 1.0000\n",
            "Client 6: Raw Score = 0.3890, Normalized Score = 0.4302\n",
            "Client 7: Raw Score = 0.3871, Normalized Score = 0.2621\n",
            "Client 8: Raw Score = 0.3908, Normalized Score = 0.5875\n",
            "Client 9: Raw Score = 0.3875, Normalized Score = 0.2990\n",
            "Client 10: Raw Score = 0.3933, Normalized Score = 0.8102\n"
          ]
        }
      ],
      "source": [
        "# Initialize and run the federated learning process\n",
        "fed = Federated(global_model, local_model, cycles, n_clients, X_train, y_train,\n",
        "                enable_noise, client_index, feature_index, noise_value, change_percentage)\n",
        "\n",
        "# Run federated learning with client contribution evaluation\n",
        "global_model, mse_list, cycles_list, client_contributions = fed.fed_learn(X_test, y_test)\n",
        "\n",
        "\n",
        "\n",
        "# # Print detailed contribution metrics\n",
        "# print(\"\\nDetailed Client Metrics:\")\n",
        "# for i, metric in enumerate(fed.client_metrics_log):\n",
        "#     print(f\"Entry {i+1}: {metric}\")"
      ]
    },
    {
      "cell_type": "code",
      "execution_count": null,
      "metadata": {
        "id": "goG2MRRSBi1O",
        "colab": {
          "base_uri": "https://localhost:8080/",
          "height": 1000
        },
        "outputId": "ef72307c-f102-4640-ff1c-49f1379dca1c"
      },
      "outputs": [
        {
          "output_type": "display_data",
          "data": {
            "text/plain": [
              "<Figure size 1000x600 with 1 Axes>"
            ],
            "image/png": "[encoded data removed]"
          },
          "metadata": {}
        },
        {
          "output_type": "display_data",
          "data": {
            "text/plain": [
              "<Figure size 1000x600 with 1 Axes>"
            ],
            "image/png": "[encoded data removed]"
          },
          "metadata": {}
        }
      ],
      "source": [
        "# Visualize the results\n",
        "fed.visualize_client_contributions()"
      ]
    },
    {
      "cell_type": "code",
      "source": [
        "# fed.visualize_client_contributions_with_flagged(contribution_threshold=0)"
      ],
      "metadata": {
        "id": "YpZjWeYvpOPC"
      },
      "execution_count": null,
      "outputs": []
    },
    {
      "cell_type": "markdown",
      "metadata": {
        "id": "l7BzZdOYFjLu"
      },
      "source": [
        "***Fetching an object called Federated_Model with updated weights and biases from fed_learn function of the Federated Class***"
      ]
    },
    {
      "cell_type": "code",
      "execution_count": null,
      "metadata": {
        "id": "2E2OcQwS84Vd",
        "colab": {
          "base_uri": "https://localhost:8080/"
        },
        "outputId": "83fcbf79-29af-44bf-ed19-bdd79ff057e6"
      },
      "outputs": [
        {
          "output_type": "stream",
          "name": "stdout",
          "text": [
            "\n",
            "Cycle 10 Client Categorization:\n",
            "Category   | Clients         | Normalized Score Range    | Raw Score Range     \n",
            "--------------------------------------------------------------------------------\n",
            "Low        | [np.int64(1), np.int64(2), np.int64(4)] | 0.0000 to 0.2104        | 0.3843 to 0.3866\n",
            "Medium     | [np.int64(3), np.int64(6), np.int64(7), np.int64(9)] | 0.2104 to 0.5339        | 0.3872 to 0.3895\n",
            "High       | [np.int64(5), np.int64(8), np.int64(10)] | 0.5339 to 1.0000        | 0.3908 to 0.3959\n",
            "\n",
            "Statistics:\n",
            "Min raw score: 0.3843\n",
            "Max raw score: 0.3959\n",
            "Mean raw score: 0.3891\n",
            "Standard deviation: 0.0034\n",
            "--------------------------------------------------------------------------------\n",
            "\n",
            "Normalized Scores per Client:\n",
            "Client 1: Raw Score = 0.3843, Normalized Score = 0.0000\n",
            "Client 2: Raw Score = 0.3858, Normalized Score = 0.1316\n",
            "Client 3: Raw Score = 0.3895, Normalized Score = 0.4502\n",
            "Client 4: Raw Score = 0.3866, Normalized Score = 0.1984\n",
            "Client 5: Raw Score = 0.3959, Normalized Score = 1.0000\n",
            "Client 6: Raw Score = 0.3893, Normalized Score = 0.4264\n",
            "Client 7: Raw Score = 0.3872, Normalized Score = 0.2464\n",
            "Client 8: Raw Score = 0.3908, Normalized Score = 0.5619\n",
            "Client 9: Raw Score = 0.3880, Normalized Score = 0.3145\n",
            "Client 10: Raw Score = 0.3934, Normalized Score = 0.7824\n",
            "\n",
            "Cycle 20 Client Categorization:\n",
            "Category   | Clients         | Normalized Score Range    | Raw Score Range     \n",
            "--------------------------------------------------------------------------------\n",
            "Low        | [np.int64(1), np.int64(2), np.int64(4)] | 0.0000 to 0.2180        | 0.3844 to 0.3868\n",
            "Medium     | [np.int64(3), np.int64(6), np.int64(7), np.int64(9)] | 0.2180 to 0.5347        | 0.3873 to 0.3897\n",
            "High       | [np.int64(5), np.int64(8), np.int64(10)] | 0.5347 to 1.0000        | 0.3909 to 0.3959\n",
            "\n",
            "Statistics:\n",
            "Min raw score: 0.3844\n",
            "Max raw score: 0.3959\n",
            "Mean raw score: 0.3892\n",
            "Standard deviation: 0.0033\n",
            "--------------------------------------------------------------------------------\n",
            "\n",
            "Normalized Scores per Client:\n",
            "Client 1: Raw Score = 0.3844, Normalized Score = 0.0000\n",
            "Client 2: Raw Score = 0.3861, Normalized Score = 0.1429\n",
            "Client 3: Raw Score = 0.3897, Normalized Score = 0.4570\n",
            "Client 4: Raw Score = 0.3868, Normalized Score = 0.2083\n",
            "Client 5: Raw Score = 0.3959, Normalized Score = 1.0000\n",
            "Client 6: Raw Score = 0.3894, Normalized Score = 0.4360\n",
            "Client 7: Raw Score = 0.3873, Normalized Score = 0.2474\n",
            "Client 8: Raw Score = 0.3909, Normalized Score = 0.5606\n",
            "Client 9: Raw Score = 0.3883, Normalized Score = 0.3401\n",
            "Client 10: Raw Score = 0.3933, Normalized Score = 0.7734\n",
            "\n",
            "Cycle 30 Client Categorization:\n",
            "Category   | Clients         | Normalized Score Range    | Raw Score Range     \n",
            "--------------------------------------------------------------------------------\n",
            "Low        | [np.int64(1), np.int64(2), np.int64(4)] | 0.0000 to 0.2045        | 0.3846 to 0.3869\n",
            "Medium     | [np.int64(3), np.int64(6), np.int64(7), np.int64(9)] | 0.2045 to 0.5254        | 0.3870 to 0.3897\n",
            "High       | [np.int64(5), np.int64(8), np.int64(10)] | 0.5254 to 1.0000        | 0.3909 to 0.3961\n",
            "\n",
            "Statistics:\n",
            "Min raw score: 0.3846\n",
            "Max raw score: 0.3961\n",
            "Mean raw score: 0.3893\n",
            "Standard deviation: 0.0033\n",
            "--------------------------------------------------------------------------------\n",
            "\n",
            "Normalized Scores per Client:\n",
            "Client 1: Raw Score = 0.3846, Normalized Score = 0.0000\n",
            "Client 2: Raw Score = 0.3862, Normalized Score = 0.1409\n",
            "Client 3: Raw Score = 0.3897, Normalized Score = 0.4436\n",
            "Client 4: Raw Score = 0.3869, Normalized Score = 0.2025\n",
            "Client 5: Raw Score = 0.3961, Normalized Score = 1.0000\n",
            "Client 6: Raw Score = 0.3896, Normalized Score = 0.4389\n",
            "Client 7: Raw Score = 0.3870, Normalized Score = 0.2103\n",
            "Client 8: Raw Score = 0.3909, Normalized Score = 0.5526\n",
            "Client 9: Raw Score = 0.3883, Normalized Score = 0.3243\n",
            "Client 10: Raw Score = 0.3936, Normalized Score = 0.7859\n",
            "\n",
            "Cycle 40 Client Categorization:\n",
            "Category   | Clients         | Normalized Score Range    | Raw Score Range     \n",
            "--------------------------------------------------------------------------------\n",
            "Low        | [np.int64(1), np.int64(2), np.int64(4)] | 0.0000 to 0.2033        | 0.3847 to 0.3870\n",
            "Medium     | [np.int64(3), np.int64(6), np.int64(7), np.int64(9)] | 0.2033 to 0.5138        | 0.3872 to 0.3898\n",
            "High       | [np.int64(5), np.int64(8), np.int64(10)] | 0.5138 to 1.0000        | 0.3909 to 0.3962\n",
            "\n",
            "Statistics:\n",
            "Min raw score: 0.3847\n",
            "Max raw score: 0.3962\n",
            "Mean raw score: 0.3894\n",
            "Standard deviation: 0.0033\n",
            "--------------------------------------------------------------------------------\n",
            "\n",
            "Normalized Scores per Client:\n",
            "Client 1: Raw Score = 0.3847, Normalized Score = 0.0000\n",
            "Client 2: Raw Score = 0.3864, Normalized Score = 0.1408\n",
            "Client 3: Raw Score = 0.3898, Normalized Score = 0.4389\n",
            "Client 4: Raw Score = 0.3870, Normalized Score = 0.1998\n",
            "Client 5: Raw Score = 0.3962, Normalized Score = 1.0000\n",
            "Client 6: Raw Score = 0.3897, Normalized Score = 0.4351\n",
            "Client 7: Raw Score = 0.3872, Normalized Score = 0.2138\n",
            "Client 8: Raw Score = 0.3909, Normalized Score = 0.5388\n",
            "Client 9: Raw Score = 0.3885, Normalized Score = 0.3263\n",
            "Client 10: Raw Score = 0.3935, Normalized Score = 0.7666\n",
            "\n",
            "Cycle 50 Client Categorization:\n",
            "Category   | Clients         | Normalized Score Range    | Raw Score Range     \n",
            "--------------------------------------------------------------------------------\n",
            "Low        | [np.int64(1), np.int64(2), np.int64(7)] | 0.0000 to 0.2017        | 0.3848 to 0.3871\n",
            "Medium     | [np.int64(3), np.int64(4), np.int64(6), np.int64(9)] | 0.2017 to 0.5086        | 0.3872 to 0.3899\n",
            "High       | [np.int64(5), np.int64(8), np.int64(10)] | 0.5086 to 1.0000        | 0.3909 to 0.3963\n",
            "\n",
            "Statistics:\n",
            "Min raw score: 0.3848\n",
            "Max raw score: 0.3963\n",
            "Mean raw score: 0.3894\n",
            "Standard deviation: 0.0033\n",
            "--------------------------------------------------------------------------------\n",
            "\n",
            "Normalized Scores per Client:\n",
            "Client 1: Raw Score = 0.3848, Normalized Score = 0.0000\n",
            "Client 2: Raw Score = 0.3864, Normalized Score = 0.1431\n",
            "Client 3: Raw Score = 0.3898, Normalized Score = 0.4343\n",
            "Client 4: Raw Score = 0.3872, Normalized Score = 0.2117\n",
            "Client 5: Raw Score = 0.3963, Normalized Score = 1.0000\n",
            "Client 6: Raw Score = 0.3899, Normalized Score = 0.4431\n",
            "Client 7: Raw Score = 0.3871, Normalized Score = 0.1983\n",
            "Client 8: Raw Score = 0.3909, Normalized Score = 0.5304\n",
            "Client 9: Raw Score = 0.3886, Normalized Score = 0.3311\n",
            "Client 10: Raw Score = 0.3935, Normalized Score = 0.7574\n",
            "\n",
            "Cycle 60 Client Categorization:\n",
            "Category   | Clients         | Normalized Score Range    | Raw Score Range     \n",
            "--------------------------------------------------------------------------------\n",
            "Low        | [np.int64(1), np.int64(2), np.int64(7)] | 0.0000 to 0.2138        | 0.3848 to 0.3872\n",
            "Medium     | [np.int64(3), np.int64(4), np.int64(6), np.int64(9)] | 0.2138 to 0.5112        | 0.3872 to 0.3898\n",
            "High       | [np.int64(5), np.int64(8), np.int64(10)] | 0.5112 to 1.0000        | 0.3909 to 0.3963\n",
            "\n",
            "Statistics:\n",
            "Min raw score: 0.3848\n",
            "Max raw score: 0.3963\n",
            "Mean raw score: 0.3894\n",
            "Standard deviation: 0.0032\n",
            "--------------------------------------------------------------------------------\n",
            "\n",
            "Normalized Scores per Client:\n",
            "Client 1: Raw Score = 0.3848, Normalized Score = 0.0000\n",
            "Client 2: Raw Score = 0.3865, Normalized Score = 0.1522\n",
            "Client 3: Raw Score = 0.3898, Normalized Score = 0.4370\n",
            "Client 4: Raw Score = 0.3872, Normalized Score = 0.2156\n",
            "Client 5: Raw Score = 0.3963, Normalized Score = 1.0000\n",
            "Client 6: Raw Score = 0.3898, Normalized Score = 0.4397\n",
            "Client 7: Raw Score = 0.3872, Normalized Score = 0.2132\n",
            "Client 8: Raw Score = 0.3909, Normalized Score = 0.5350\n",
            "Client 9: Raw Score = 0.3887, Normalized Score = 0.3401\n",
            "Client 10: Raw Score = 0.3933, Normalized Score = 0.7435\n",
            "\n",
            "Cycle 70 Client Categorization:\n",
            "Category   | Clients         | Normalized Score Range    | Raw Score Range     \n",
            "--------------------------------------------------------------------------------\n",
            "Low        | [np.int64(1), np.int64(2), np.int64(7)] | 0.0000 to 0.2075        | 0.3848 to 0.3871\n",
            "Medium     | [np.int64(3), np.int64(4), np.int64(6), np.int64(9)] | 0.2075 to 0.5057        | 0.3873 to 0.3898\n",
            "High       | [np.int64(5), np.int64(8), np.int64(10)] | 0.5057 to 1.0000        | 0.3909 to 0.3963\n",
            "\n",
            "Statistics:\n",
            "Min raw score: 0.3848\n",
            "Max raw score: 0.3963\n",
            "Mean raw score: 0.3894\n",
            "Standard deviation: 0.0032\n",
            "--------------------------------------------------------------------------------\n",
            "\n",
            "Normalized Scores per Client:\n",
            "Client 1: Raw Score = 0.3848, Normalized Score = 0.0000\n",
            "Client 2: Raw Score = 0.3866, Normalized Score = 0.1532\n",
            "Client 3: Raw Score = 0.3898, Normalized Score = 0.4390\n",
            "Client 4: Raw Score = 0.3873, Normalized Score = 0.2170\n",
            "Client 5: Raw Score = 0.3963, Normalized Score = 1.0000\n",
            "Client 6: Raw Score = 0.3898, Normalized Score = 0.4341\n",
            "Client 7: Raw Score = 0.3871, Normalized Score = 0.2043\n",
            "Client 8: Raw Score = 0.3909, Normalized Score = 0.5280\n",
            "Client 9: Raw Score = 0.3887, Normalized Score = 0.3384\n",
            "Client 10: Raw Score = 0.3932, Normalized Score = 0.7324\n",
            "\n",
            "Cycle 80 Client Categorization:\n",
            "Category   | Clients         | Normalized Score Range    | Raw Score Range     \n",
            "--------------------------------------------------------------------------------\n",
            "Low        | [np.int64(1), np.int64(2), np.int64(7)] | 0.0000 to 0.2066        | 0.3848 to 0.3871\n",
            "Medium     | [np.int64(3), np.int64(4), np.int64(6), np.int64(9)] | 0.2066 to 0.5112        | 0.3872 to 0.3899\n",
            "High       | [np.int64(5), np.int64(8), np.int64(10)] | 0.5112 to 1.0000        | 0.3909 to 0.3962\n",
            "\n",
            "Statistics:\n",
            "Min raw score: 0.3848\n",
            "Max raw score: 0.3962\n",
            "Mean raw score: 0.3895\n",
            "Standard deviation: 0.0032\n",
            "--------------------------------------------------------------------------------\n",
            "\n",
            "Normalized Scores per Client:\n",
            "Client 1: Raw Score = 0.3848, Normalized Score = 0.0000\n",
            "Client 2: Raw Score = 0.3865, Normalized Score = 0.1532\n",
            "Client 3: Raw Score = 0.3898, Normalized Score = 0.4365\n",
            "Client 4: Raw Score = 0.3872, Normalized Score = 0.2149\n",
            "Client 5: Raw Score = 0.3962, Normalized Score = 1.0000\n",
            "Client 6: Raw Score = 0.3899, Normalized Score = 0.4499\n",
            "Client 7: Raw Score = 0.3871, Normalized Score = 0.2038\n",
            "Client 8: Raw Score = 0.3909, Normalized Score = 0.5316\n",
            "Client 9: Raw Score = 0.3887, Normalized Score = 0.3398\n",
            "Client 10: Raw Score = 0.3933, Normalized Score = 0.7489\n",
            "\n",
            "Cycle 90 Client Categorization:\n",
            "Category   | Clients         | Normalized Score Range    | Raw Score Range     \n",
            "--------------------------------------------------------------------------------\n",
            "Low        | [np.int64(1), np.int64(2), np.int64(7)] | 0.0000 to 0.2043        | 0.3848 to 0.3871\n",
            "Medium     | [np.int64(3), np.int64(4), np.int64(6), np.int64(9)] | 0.2043 to 0.5101        | 0.3873 to 0.3900\n",
            "High       | [np.int64(5), np.int64(8), np.int64(10)] | 0.5101 to 1.0000        | 0.3909 to 0.3963\n",
            "\n",
            "Statistics:\n",
            "Min raw score: 0.3848\n",
            "Max raw score: 0.3963\n",
            "Mean raw score: 0.3895\n",
            "Standard deviation: 0.0033\n",
            "--------------------------------------------------------------------------------\n",
            "\n",
            "Normalized Scores per Client:\n",
            "Client 1: Raw Score = 0.3848, Normalized Score = 0.0000\n",
            "Client 2: Raw Score = 0.3865, Normalized Score = 0.1517\n",
            "Client 3: Raw Score = 0.3897, Normalized Score = 0.4319\n",
            "Client 4: Raw Score = 0.3873, Normalized Score = 0.2161\n",
            "Client 5: Raw Score = 0.3963, Normalized Score = 1.0000\n",
            "Client 6: Raw Score = 0.3900, Normalized Score = 0.4518\n",
            "Client 7: Raw Score = 0.3871, Normalized Score = 0.2004\n",
            "Client 8: Raw Score = 0.3909, Normalized Score = 0.5295\n",
            "Client 9: Raw Score = 0.3887, Normalized Score = 0.3374\n",
            "Client 10: Raw Score = 0.3936, Normalized Score = 0.7631\n",
            "\n",
            "Cycle 100 Client Categorization:\n",
            "Category   | Clients         | Normalized Score Range    | Raw Score Range     \n",
            "--------------------------------------------------------------------------------\n",
            "Low        | [np.int64(1), np.int64(2), np.int64(7)] | 0.0000 to 0.2073        | 0.3848 to 0.3871\n",
            "Medium     | [np.int64(3), np.int64(4), np.int64(6), np.int64(9)] | 0.2073 to 0.5174        | 0.3872 to 0.3900\n",
            "High       | [np.int64(5), np.int64(8), np.int64(10)] | 0.5174 to 1.0000        | 0.3909 to 0.3962\n",
            "\n",
            "Statistics:\n",
            "Min raw score: 0.3848\n",
            "Max raw score: 0.3962\n",
            "Mean raw score: 0.3895\n",
            "Standard deviation: 0.0033\n",
            "--------------------------------------------------------------------------------\n",
            "\n",
            "Normalized Scores per Client:\n",
            "Client 1: Raw Score = 0.3848, Normalized Score = 0.0000\n",
            "Client 2: Raw Score = 0.3865, Normalized Score = 0.1509\n",
            "Client 3: Raw Score = 0.3897, Normalized Score = 0.4316\n",
            "Client 4: Raw Score = 0.3872, Normalized Score = 0.2109\n",
            "Client 5: Raw Score = 0.3962, Normalized Score = 1.0000\n",
            "Client 6: Raw Score = 0.3900, Normalized Score = 0.4600\n",
            "Client 7: Raw Score = 0.3871, Normalized Score = 0.2062\n",
            "Client 8: Raw Score = 0.3909, Normalized Score = 0.5366\n",
            "Client 9: Raw Score = 0.3887, Normalized Score = 0.3432\n",
            "Client 10: Raw Score = 0.3936, Normalized Score = 0.7721\n"
          ]
        }
      ],
      "source": [
        "Federated_model, mse_global, cycle_global, client_contributions = fed.fed_learn(X_test, y_test)"
      ]
    },
    {
      "cell_type": "code",
      "execution_count": null,
      "metadata": {
        "id": "wdsTbJ1-fs_G"
      },
      "outputs": [],
      "source": [
        "y_p = global_model.predict(X_test)"
      ]
    },
    {
      "cell_type": "markdown",
      "metadata": {
        "id": "pr2GFjkcp-XW"
      },
      "source": [
        "***Plotting the per cycle mse performance of our updated weight and bias***"
      ]
    },
    {
      "cell_type": "code",
      "execution_count": null,
      "metadata": {
        "id": "V-PU-9Jcp8Qk",
        "colab": {
          "base_uri": "https://localhost:8080/",
          "height": 472
        },
        "outputId": "f1b477f7-6a79-482e-c1c4-541730bf98e9"
      },
      "outputs": [
        {
          "output_type": "display_data",
          "data": {
            "text/plain": [
              "<Figure size 640x480 with 1 Axes>"
            ],
            "image/png": "[encoded data removed]"
          },
          "metadata": {}
        }
      ],
      "source": [
        "plt.plot(cycle_global, mse_global)\n",
        "plt.xlabel('cycles')\n",
        "plt.ylabel('MSE for federated model')\n",
        "plt.title('Training Loss across cycles')\n",
        "plt.show()"
      ]
    },
    {
      "cell_type": "markdown",
      "metadata": {
        "id": "fncPqaOTFuOz"
      },
      "source": [
        "***MSE of the Federated_Model***"
      ]
    },
    {
      "cell_type": "code",
      "execution_count": null,
      "metadata": {
        "id": "RjuCv00yEBFN",
        "colab": {
          "base_uri": "https://localhost:8080/"
        },
        "outputId": "f4670bab-efcf-4bde-eda8-8cefeafd97a1"
      },
      "outputs": [
        {
          "output_type": "execute_result",
          "data": {
            "text/plain": [
              "np.float64(0.07851390859191233)"
            ]
          },
          "metadata": {},
          "execution_count": 1120
        }
      ],
      "source": [
        "mse = Federated_model.test(X_test,y_test)\n",
        "mse"
      ]
    },
    {
      "cell_type": "markdown",
      "metadata": {
        "id": "AsEUxHp9I6lS"
      },
      "source": [
        "***R2 value of the Federated_Model***"
      ]
    },
    {
      "cell_type": "code",
      "execution_count": null,
      "metadata": {
        "id": "o59NEOb4WcWJ",
        "colab": {
          "base_uri": "https://localhost:8080/"
        },
        "outputId": "406e2c15-0e90-4178-924f-e1531c55c0b5"
      },
      "outputs": [
        {
          "output_type": "stream",
          "name": "stdout",
          "text": [
            "R-squared value of Federated Model: 0.9195\n"
          ]
        }
      ],
      "source": [
        "r2 = r2_score(y_test, y_p, multioutput='variance_weighted')\n",
        "print(f'R-squared value of Federated Model: {r2:.4f}')"
      ]
    },
    {
      "cell_type": "markdown",
      "metadata": {
        "id": "aHVgQAC-jW7y"
      },
      "source": [
        "#***using scikit learn for comparing r2 values***"
      ]
    },
    {
      "cell_type": "code",
      "execution_count": null,
      "metadata": {
        "id": "go3e5bYWjgyv"
      },
      "outputs": [],
      "source": [
        "from sklearn.model_selection import train_test_split\n",
        "xl_train, xl_test, yl_train, yl_test = train_test_split(x, y, test_size = .20, random_state = 1,)"
      ]
    },
    {
      "cell_type": "markdown",
      "metadata": {
        "id": "Q-uluk3GA5z4"
      },
      "source": [
        "#SGD LINEAR REGRESSION"
      ]
    },
    {
      "cell_type": "markdown",
      "metadata": {
        "id": "uqdoIFovFXxx"
      },
      "source": [
        "***Training the model using SGDRegressor Class of scikit-learn***"
      ]
    },
    {
      "cell_type": "code",
      "execution_count": null,
      "metadata": {
        "id": "qaUBjNTMmVNW",
        "colab": {
          "base_uri": "https://localhost:8080/",
          "height": 116
        },
        "outputId": "c7a4a30d-5821-4d89-dbd2-33115f75067e"
      },
      "outputs": [
        {
          "output_type": "stream",
          "name": "stderr",
          "text": [
            "/usr/local/lib/python3.11/dist-packages/sklearn/utils/validation.py:1408: DataConversionWarning: A column-vector y was passed when a 1d array was expected. Please change the shape of y to (n_samples, ), for example using ravel().\n",
            "  y = column_or_1d(y, warn=True)\n"
          ]
        },
        {
          "output_type": "execute_result",
          "data": {
            "text/plain": [
              "SGDRegressor(max_iter=50)"
            ],
            "text/html": [
              "<style>#sk-container-id-31 {\n",
              "  /* Definition of color scheme common for light and dark mode */\n",
              "  --sklearn-color-text: #000;\n",
              "  --sklearn-color-text-muted: #666;\n",
              "  --sklearn-color-line: gray;\n",
              "  /* Definition of color scheme for unfitted estimators */\n",
              "  --sklearn-color-unfitted-level-0: #fff5e6;\n",
              "  --sklearn-color-unfitted-level-1: #f6e4d2;\n",
              "  --sklearn-color-unfitted-level-2: #ffe0b3;\n",
              "  --sklearn-color-unfitted-level-3: chocolate;\n",
              "  /* Definition of color scheme for fitted estimators */\n",
              "  --sklearn-color-fitted-level-0: #f0f8ff;\n",
              "  --sklearn-color-fitted-level-1: #d4ebff;\n",
              "  --sklearn-color-fitted-level-2: #b3dbfd;\n",
              "  --sklearn-color-fitted-level-3: cornflowerblue;\n",
              "\n",
              "  /* Specific color for light theme */\n",
              "  --sklearn-color-text-on-default-background: var(--sg-text-color, var(--theme-code-foreground, var(--jp-content-font-color1, black)));\n",
              "  --sklearn-color-background: var(--sg-background-color, var(--theme-background, var(--jp-layout-color0, white)));\n",
              "  --sklearn-color-border-box: var(--sg-text-color, var(--theme-code-foreground, var(--jp-content-font-color1, black)));\n",
              "  --sklearn-color-icon: #696969;\n",
              "\n",
              "  @media (prefers-color-scheme: dark) {\n",
              "    /* Redefinition of color scheme for dark theme */\n",
              "    --sklearn-color-text-on-default-background: var(--sg-text-color, var(--theme-code-foreground, var(--jp-content-font-color1, white)));\n",
              "    --sklearn-color-background: var(--sg-background-color, var(--theme-background, var(--jp-layout-color0, #111)));\n",
              "    --sklearn-color-border-box: var(--sg-text-color, var(--theme-code-foreground, var(--jp-content-font-color1, white)));\n",
              "    --sklearn-color-icon: #878787;\n",
              "  }\n",
              "}\n",
              "\n",
              "#sk-container-id-31 {\n",
              "  color: var(--sklearn-color-text);\n",
              "}\n",
              "\n",
              "#sk-container-id-31 pre {\n",
              "  padding: 0;\n",
              "}\n",
              "\n",
              "#sk-container-id-31 input.sk-hidden--visually {\n",
              "  border: 0;\n",
              "  clip: rect(1px 1px 1px 1px);\n",
              "  clip: rect(1px, 1px, 1px, 1px);\n",
              "  height: 1px;\n",
              "  margin: -1px;\n",
              "  overflow: hidden;\n",
              "  padding: 0;\n",
              "  position: absolute;\n",
              "  width: 1px;\n",
              "}\n",
              "\n",
              "#sk-container-id-31 div.sk-dashed-wrapped {\n",
              "  border: 1px dashed var(--sklearn-color-line);\n",
              "  margin: 0 0.4em 0.5em 0.4em;\n",
              "  box-sizing: border-box;\n",
              "  padding-bottom: 0.4em;\n",
              "  background-color: var(--sklearn-color-background);\n",
              "}\n",
              "\n",
              "#sk-container-id-31 div.sk-container {\n",
              "  /* jupyter's `normalize.less` sets `[hidden] { display: none; }`\n",
              "     but bootstrap.min.css set `[hidden] { display: none !important; }`\n",
              "     so we also need the `!important` here to be able to override the\n",
              "     default hidden behavior on the sphinx rendered scikit-learn.org.\n",
              "     See: https://github.com/scikit-learn/scikit-learn/issues/21755 */\n",
              "  display: inline-block !important;\n",
              "  position: relative;\n",
              "}\n",
              "\n",
              "#sk-container-id-31 div.sk-text-repr-fallback {\n",
              "  display: none;\n",
              "}\n",
              "\n",
              "div.sk-parallel-item,\n",
              "div.sk-serial,\n",
              "div.sk-item {\n",
              "  /* draw centered vertical line to link estimators */\n",
              "  background-image: linear-gradient(var(--sklearn-color-text-on-default-background), var(--sklearn-color-text-on-default-background));\n",
              "  background-size: 2px 100%;\n",
              "  background-repeat: no-repeat;\n",
              "  background-position: center center;\n",
              "}\n",
              "\n",
              "/* Parallel-specific style estimator block */\n",
              "\n",
              "#sk-container-id-31 div.sk-parallel-item::after {\n",
              "  content: \"\";\n",
              "  width: 100%;\n",
              "  border-bottom: 2px solid var(--sklearn-color-text-on-default-background);\n",
              "  flex-grow: 1;\n",
              "}\n",
              "\n",
              "#sk-container-id-31 div.sk-parallel {\n",
              "  display: flex;\n",
              "  align-items: stretch;\n",
              "  justify-content: center;\n",
              "  background-color: var(--sklearn-color-background);\n",
              "  position: relative;\n",
              "}\n",
              "\n",
              "#sk-container-id-31 div.sk-parallel-item {\n",
              "  display: flex;\n",
              "  flex-direction: column;\n",
              "}\n",
              "\n",
              "#sk-container-id-31 div.sk-parallel-item:first-child::after {\n",
              "  align-self: flex-end;\n",
              "  width: 50%;\n",
              "}\n",
              "\n",
              "#sk-container-id-31 div.sk-parallel-item:last-child::after {\n",
              "  align-self: flex-start;\n",
              "  width: 50%;\n",
              "}\n",
              "\n",
              "#sk-container-id-31 div.sk-parallel-item:only-child::after {\n",
              "  width: 0;\n",
              "}\n",
              "\n",
              "/* Serial-specific style estimator block */\n",
              "\n",
              "#sk-container-id-31 div.sk-serial {\n",
              "  display: flex;\n",
              "  flex-direction: column;\n",
              "  align-items: center;\n",
              "  background-color: var(--sklearn-color-background);\n",
              "  padding-right: 1em;\n",
              "  padding-left: 1em;\n",
              "}\n",
              "\n",
              "\n",
              "/* Toggleable style: style used for estimator/Pipeline/ColumnTransformer box that is\n",
              "clickable and can be expanded/collapsed.\n",
              "- Pipeline and ColumnTransformer use this feature and define the default style\n",
              "- Estimators will overwrite some part of the style using the `sk-estimator` class\n",
              "*/\n",
              "\n",
              "/* Pipeline and ColumnTransformer style (default) */\n",
              "\n",
              "#sk-container-id-31 div.sk-toggleable {\n",
              "  /* Default theme specific background. It is overwritten whether we have a\n",
              "  specific estimator or a Pipeline/ColumnTransformer */\n",
              "  background-color: var(--sklearn-color-background);\n",
              "}\n",
              "\n",
              "/* Toggleable label */\n",
              "#sk-container-id-31 label.sk-toggleable__label {\n",
              "  cursor: pointer;\n",
              "  display: flex;\n",
              "  width: 100%;\n",
              "  margin-bottom: 0;\n",
              "  padding: 0.5em;\n",
              "  box-sizing: border-box;\n",
              "  text-align: center;\n",
              "  align-items: start;\n",
              "  justify-content: space-between;\n",
              "  gap: 0.5em;\n",
              "}\n",
              "\n",
              "#sk-container-id-31 label.sk-toggleable__label .caption {\n",
              "  font-size: 0.6rem;\n",
              "  font-weight: lighter;\n",
              "  color: var(--sklearn-color-text-muted);\n",
              "}\n",
              "\n",
              "#sk-container-id-31 label.sk-toggleable__label-arrow:before {\n",
              "  /* Arrow on the left of the label */\n",
              "  content: \"▸\";\n",
              "  float: left;\n",
              "  margin-right: 0.25em;\n",
              "  color: var(--sklearn-color-icon);\n",
              "}\n",
              "\n",
              "#sk-container-id-31 label.sk-toggleable__label-arrow:hover:before {\n",
              "  color: var(--sklearn-color-text);\n",
              "}\n",
              "\n",
              "/* Toggleable content - dropdown */\n",
              "\n",
              "#sk-container-id-31 div.sk-toggleable__content {\n",
              "  max-height: 0;\n",
              "  max-width: 0;\n",
              "  overflow: hidden;\n",
              "  text-align: left;\n",
              "  /* unfitted */\n",
              "  background-color: var(--sklearn-color-unfitted-level-0);\n",
              "}\n",
              "\n",
              "#sk-container-id-31 div.sk-toggleable__content.fitted {\n",
              "  /* fitted */\n",
              "  background-color: var(--sklearn-color-fitted-level-0);\n",
              "}\n",
              "\n",
              "#sk-container-id-31 div.sk-toggleable__content pre {\n",
              "  margin: 0.2em;\n",
              "  border-radius: 0.25em;\n",
              "  color: var(--sklearn-color-text);\n",
              "  /* unfitted */\n",
              "  background-color: var(--sklearn-color-unfitted-level-0);\n",
              "}\n",
              "\n",
              "#sk-container-id-31 div.sk-toggleable__content.fitted pre {\n",
              "  /* unfitted */\n",
              "  background-color: var(--sklearn-color-fitted-level-0);\n",
              "}\n",
              "\n",
              "#sk-container-id-31 input.sk-toggleable__control:checked~div.sk-toggleable__content {\n",
              "  /* Expand drop-down */\n",
              "  max-height: 200px;\n",
              "  max-width: 100%;\n",
              "  overflow: auto;\n",
              "}\n",
              "\n",
              "#sk-container-id-31 input.sk-toggleable__control:checked~label.sk-toggleable__label-arrow:before {\n",
              "  content: \"▾\";\n",
              "}\n",
              "\n",
              "/* Pipeline/ColumnTransformer-specific style */\n",
              "\n",
              "#sk-container-id-31 div.sk-label input.sk-toggleable__control:checked~label.sk-toggleable__label {\n",
              "  color: var(--sklearn-color-text);\n",
              "  background-color: var(--sklearn-color-unfitted-level-2);\n",
              "}\n",
              "\n",
              "#sk-container-id-31 div.sk-label.fitted input.sk-toggleable__control:checked~label.sk-toggleable__label {\n",
              "  background-color: var(--sklearn-color-fitted-level-2);\n",
              "}\n",
              "\n",
              "/* Estimator-specific style */\n",
              "\n",
              "/* Colorize estimator box */\n",
              "#sk-container-id-31 div.sk-estimator input.sk-toggleable__control:checked~label.sk-toggleable__label {\n",
              "  /* unfitted */\n",
              "  background-color: var(--sklearn-color-unfitted-level-2);\n",
              "}\n",
              "\n",
              "#sk-container-id-31 div.sk-estimator.fitted input.sk-toggleable__control:checked~label.sk-toggleable__label {\n",
              "  /* fitted */\n",
              "  background-color: var(--sklearn-color-fitted-level-2);\n",
              "}\n",
              "\n",
              "#sk-container-id-31 div.sk-label label.sk-toggleable__label,\n",
              "#sk-container-id-31 div.sk-label label {\n",
              "  /* The background is the default theme color */\n",
              "  color: var(--sklearn-color-text-on-default-background);\n",
              "}\n",
              "\n",
              "/* On hover, darken the color of the background */\n",
              "#sk-container-id-31 div.sk-label:hover label.sk-toggleable__label {\n",
              "  color: var(--sklearn-color-text);\n",
              "  background-color: var(--sklearn-color-unfitted-level-2);\n",
              "}\n",
              "\n",
              "/* Label box, darken color on hover, fitted */\n",
              "#sk-container-id-31 div.sk-label.fitted:hover label.sk-toggleable__label.fitted {\n",
              "  color: var(--sklearn-color-text);\n",
              "  background-color: var(--sklearn-color-fitted-level-2);\n",
              "}\n",
              "\n",
              "/* Estimator label */\n",
              "\n",
              "#sk-container-id-31 div.sk-label label {\n",
              "  font-family: monospace;\n",
              "  font-weight: bold;\n",
              "  display: inline-block;\n",
              "  line-height: 1.2em;\n",
              "}\n",
              "\n",
              "#sk-container-id-31 div.sk-label-container {\n",
              "  text-align: center;\n",
              "}\n",
              "\n",
              "/* Estimator-specific */\n",
              "#sk-container-id-31 div.sk-estimator {\n",
              "  font-family: monospace;\n",
              "  border: 1px dotted var(--sklearn-color-border-box);\n",
              "  border-radius: 0.25em;\n",
              "  box-sizing: border-box;\n",
              "  margin-bottom: 0.5em;\n",
              "  /* unfitted */\n",
              "  background-color: var(--sklearn-color-unfitted-level-0);\n",
              "}\n",
              "\n",
              "#sk-container-id-31 div.sk-estimator.fitted {\n",
              "  /* fitted */\n",
              "  background-color: var(--sklearn-color-fitted-level-0);\n",
              "}\n",
              "\n",
              "/* on hover */\n",
              "#sk-container-id-31 div.sk-estimator:hover {\n",
              "  /* unfitted */\n",
              "  background-color: var(--sklearn-color-unfitted-level-2);\n",
              "}\n",
              "\n",
              "#sk-container-id-31 div.sk-estimator.fitted:hover {\n",
              "  /* fitted */\n",
              "  background-color: var(--sklearn-color-fitted-level-2);\n",
              "}\n",
              "\n",
              "/* Specification for estimator info (e.g. \"i\" and \"?\") */\n",
              "\n",
              "/* Common style for \"i\" and \"?\" */\n",
              "\n",
              ".sk-estimator-doc-link,\n",
              "a:link.sk-estimator-doc-link,\n",
              "a:visited.sk-estimator-doc-link {\n",
              "  float: right;\n",
              "  font-size: smaller;\n",
              "  line-height: 1em;\n",
              "  font-family: monospace;\n",
              "  background-color: var(--sklearn-color-background);\n",
              "  border-radius: 1em;\n",
              "  height: 1em;\n",
              "  width: 1em;\n",
              "  text-decoration: none !important;\n",
              "  margin-left: 0.5em;\n",
              "  text-align: center;\n",
              "  /* unfitted */\n",
              "  border: var(--sklearn-color-unfitted-level-1) 1pt solid;\n",
              "  color: var(--sklearn-color-unfitted-level-1);\n",
              "}\n",
              "\n",
              ".sk-estimator-doc-link.fitted,\n",
              "a:link.sk-estimator-doc-link.fitted,\n",
              "a:visited.sk-estimator-doc-link.fitted {\n",
              "  /* fitted */\n",
              "  border: var(--sklearn-color-fitted-level-1) 1pt solid;\n",
              "  color: var(--sklearn-color-fitted-level-1);\n",
              "}\n",
              "\n",
              "/* On hover */\n",
              "div.sk-estimator:hover .sk-estimator-doc-link:hover,\n",
              ".sk-estimator-doc-link:hover,\n",
              "div.sk-label-container:hover .sk-estimator-doc-link:hover,\n",
              ".sk-estimator-doc-link:hover {\n",
              "  /* unfitted */\n",
              "  background-color: var(--sklearn-color-unfitted-level-3);\n",
              "  color: var(--sklearn-color-background);\n",
              "  text-decoration: none;\n",
              "}\n",
              "\n",
              "div.sk-estimator.fitted:hover .sk-estimator-doc-link.fitted:hover,\n",
              ".sk-estimator-doc-link.fitted:hover,\n",
              "div.sk-label-container:hover .sk-estimator-doc-link.fitted:hover,\n",
              ".sk-estimator-doc-link.fitted:hover {\n",
              "  /* fitted */\n",
              "  background-color: var(--sklearn-color-fitted-level-3);\n",
              "  color: var(--sklearn-color-background);\n",
              "  text-decoration: none;\n",
              "}\n",
              "\n",
              "/* Span, style for the box shown on hovering the info icon */\n",
              ".sk-estimator-doc-link span {\n",
              "  display: none;\n",
              "  z-index: 9999;\n",
              "  position: relative;\n",
              "  font-weight: normal;\n",
              "  right: .2ex;\n",
              "  padding: .5ex;\n",
              "  margin: .5ex;\n",
              "  width: min-content;\n",
              "  min-width: 20ex;\n",
              "  max-width: 50ex;\n",
              "  color: var(--sklearn-color-text);\n",
              "  box-shadow: 2pt 2pt 4pt #999;\n",
              "  /* unfitted */\n",
              "  background: var(--sklearn-color-unfitted-level-0);\n",
              "  border: .5pt solid var(--sklearn-color-unfitted-level-3);\n",
              "}\n",
              "\n",
              ".sk-estimator-doc-link.fitted span {\n",
              "  /* fitted */\n",
              "  background: var(--sklearn-color-fitted-level-0);\n",
              "  border: var(--sklearn-color-fitted-level-3);\n",
              "}\n",
              "\n",
              ".sk-estimator-doc-link:hover span {\n",
              "  display: block;\n",
              "}\n",
              "\n",
              "/* \"?\"-specific style due to the `<a>` HTML tag */\n",
              "\n",
              "#sk-container-id-31 a.estimator_doc_link {\n",
              "  float: right;\n",
              "  font-size: 1rem;\n",
              "  line-height: 1em;\n",
              "  font-family: monospace;\n",
              "  background-color: var(--sklearn-color-background);\n",
              "  border-radius: 1rem;\n",
              "  height: 1rem;\n",
              "  width: 1rem;\n",
              "  text-decoration: none;\n",
              "  /* unfitted */\n",
              "  color: var(--sklearn-color-unfitted-level-1);\n",
              "  border: var(--sklearn-color-unfitted-level-1) 1pt solid;\n",
              "}\n",
              "\n",
              "#sk-container-id-31 a.estimator_doc_link.fitted {\n",
              "  /* fitted */\n",
              "  border: var(--sklearn-color-fitted-level-1) 1pt solid;\n",
              "  color: var(--sklearn-color-fitted-level-1);\n",
              "}\n",
              "\n",
              "/* On hover */\n",
              "#sk-container-id-31 a.estimator_doc_link:hover {\n",
              "  /* unfitted */\n",
              "  background-color: var(--sklearn-color-unfitted-level-3);\n",
              "  color: var(--sklearn-color-background);\n",
              "  text-decoration: none;\n",
              "}\n",
              "\n",
              "#sk-container-id-31 a.estimator_doc_link.fitted:hover {\n",
              "  /* fitted */\n",
              "  background-color: var(--sklearn-color-fitted-level-3);\n",
              "}\n",
              "</style><div id=\"sk-container-id-31\" class=\"sk-top-container\"><div class=\"sk-text-repr-fallback\"><pre>SGDRegressor(max_iter=50)</pre><b>In a Jupyter environment, please rerun this cell to show the HTML representation or trust the notebook. <br />On GitHub, the HTML representation is unable to render, please try loading this page with nbviewer.org.</b></div><div class=\"sk-container\" hidden><div class=\"sk-item\"><div class=\"sk-estimator fitted sk-toggleable\"><input class=\"sk-toggleable__control sk-hidden--visually\" id=\"sk-estimator-id-31\" type=\"checkbox\" checked><label for=\"sk-estimator-id-31\" class=\"sk-toggleable__label fitted sk-toggleable__label-arrow\"><div><div>SGDRegressor</div></div><div><a class=\"sk-estimator-doc-link fitted\" rel=\"noreferrer\" target=\"_blank\" href=\"https://scikit-learn.org/1.6/modules/generated/sklearn.linear_model.SGDRegressor.html\">?<span>Documentation for SGDRegressor</span></a><span class=\"sk-estimator-doc-link fitted\">i<span>Fitted</span></span></div></label><div class=\"sk-toggleable__content fitted\"><pre>SGDRegressor(max_iter=50)</pre></div> </div></div></div></div>"
            ]
          },
          "metadata": {},
          "execution_count": 1123
        }
      ],
      "source": [
        "from sklearn.linear_model import SGDRegressor\n",
        "reg =SGDRegressor(max_iter=50, tol=1e-3)\n",
        "reg.fit(x, y)"
      ]
    },
    {
      "cell_type": "code",
      "execution_count": null,
      "metadata": {
        "id": "FAd91E9ArGrw"
      },
      "outputs": [],
      "source": [
        "ys_p = reg.predict(xl_test)"
      ]
    },
    {
      "cell_type": "markdown",
      "metadata": {
        "id": "GuE2_VeorxdS"
      },
      "source": [
        "***Mean Squared Error values of the SGDRegressor class of scikit learn***"
      ]
    },
    {
      "cell_type": "code",
      "execution_count": null,
      "metadata": {
        "id": "K2JLntWtroJS",
        "colab": {
          "base_uri": "https://localhost:8080/"
        },
        "outputId": "48c8c039-9fd7-4043-cf27-ca5ba568d0bb"
      },
      "outputs": [
        {
          "output_type": "execute_result",
          "data": {
            "text/plain": [
              "0.08463249925614112"
            ]
          },
          "metadata": {},
          "execution_count": 1125
        }
      ],
      "source": [
        "mean_squared_error(yl_test, ys_p)"
      ]
    },
    {
      "cell_type": "markdown",
      "metadata": {
        "id": "2YEZHnGTJUOd"
      },
      "source": [
        "***R2 values of the SGDRegressor class of scikit learn***"
      ]
    },
    {
      "cell_type": "code",
      "execution_count": null,
      "metadata": {
        "id": "86fmsxkFrSAz",
        "colab": {
          "base_uri": "https://localhost:8080/"
        },
        "outputId": "1fd5e6e2-89ee-449e-f7b0-a75c29f2ea84"
      },
      "outputs": [
        {
          "output_type": "stream",
          "name": "stdout",
          "text": [
            "0.9215392928858065\n"
          ]
        }
      ],
      "source": [
        "from sklearn.metrics import r2_score\n",
        "print(r2_score(yl_test, ys_p, multioutput='variance_weighted') )\n",
        "# print(r2_score(yl_train,reg.predict(xl_train), multioutput='variance_weighted'))"
      ]
    },
    {
      "cell_type": "markdown",
      "metadata": {
        "id": "__GhTFnrBM-d"
      },
      "source": [
        "# LINEAR REGRESSION GRADIENT DESCENT"
      ]
    },
    {
      "cell_type": "markdown",
      "metadata": {
        "id": "eOJiAW8hFsAi"
      },
      "source": [
        "***Training the model using LinearRegression Class of scikit-learn***"
      ]
    },
    {
      "cell_type": "code",
      "execution_count": null,
      "metadata": {
        "id": "ui9jQoHRjqpC",
        "colab": {
          "base_uri": "https://localhost:8080/",
          "height": 80
        },
        "outputId": "bd74dc13-c20e-41cf-bb8a-67381281c5ef"
      },
      "outputs": [
        {
          "output_type": "execute_result",
          "data": {
            "text/plain": [
              "LinearRegression()"
            ],
            "text/html": [
              "<style>#sk-container-id-32 {\n",
              "  /* Definition of color scheme common for light and dark mode */\n",
              "  --sklearn-color-text: #000;\n",
              "  --sklearn-color-text-muted: #666;\n",
              "  --sklearn-color-line: gray;\n",
              "  /* Definition of color scheme for unfitted estimators */\n",
              "  --sklearn-color-unfitted-level-0: #fff5e6;\n",
              "  --sklearn-color-unfitted-level-1: #f6e4d2;\n",
              "  --sklearn-color-unfitted-level-2: #ffe0b3;\n",
              "  --sklearn-color-unfitted-level-3: chocolate;\n",
              "  /* Definition of color scheme for fitted estimators */\n",
              "  --sklearn-color-fitted-level-0: #f0f8ff;\n",
              "  --sklearn-color-fitted-level-1: #d4ebff;\n",
              "  --sklearn-color-fitted-level-2: #b3dbfd;\n",
              "  --sklearn-color-fitted-level-3: cornflowerblue;\n",
              "\n",
              "  /* Specific color for light theme */\n",
              "  --sklearn-color-text-on-default-background: var(--sg-text-color, var(--theme-code-foreground, var(--jp-content-font-color1, black)));\n",
              "  --sklearn-color-background: var(--sg-background-color, var(--theme-background, var(--jp-layout-color0, white)));\n",
              "  --sklearn-color-border-box: var(--sg-text-color, var(--theme-code-foreground, var(--jp-content-font-color1, black)));\n",
              "  --sklearn-color-icon: #696969;\n",
              "\n",
              "  @media (prefers-color-scheme: dark) {\n",
              "    /* Redefinition of color scheme for dark theme */\n",
              "    --sklearn-color-text-on-default-background: var(--sg-text-color, var(--theme-code-foreground, var(--jp-content-font-color1, white)));\n",
              "    --sklearn-color-background: var(--sg-background-color, var(--theme-background, var(--jp-layout-color0, #111)));\n",
              "    --sklearn-color-border-box: var(--sg-text-color, var(--theme-code-foreground, var(--jp-content-font-color1, white)));\n",
              "    --sklearn-color-icon: #878787;\n",
              "  }\n",
              "}\n",
              "\n",
              "#sk-container-id-32 {\n",
              "  color: var(--sklearn-color-text);\n",
              "}\n",
              "\n",
              "#sk-container-id-32 pre {\n",
              "  padding: 0;\n",
              "}\n",
              "\n",
              "#sk-container-id-32 input.sk-hidden--visually {\n",
              "  border: 0;\n",
              "  clip: rect(1px 1px 1px 1px);\n",
              "  clip: rect(1px, 1px, 1px, 1px);\n",
              "  height: 1px;\n",
              "  margin: -1px;\n",
              "  overflow: hidden;\n",
              "  padding: 0;\n",
              "  position: absolute;\n",
              "  width: 1px;\n",
              "}\n",
              "\n",
              "#sk-container-id-32 div.sk-dashed-wrapped {\n",
              "  border: 1px dashed var(--sklearn-color-line);\n",
              "  margin: 0 0.4em 0.5em 0.4em;\n",
              "  box-sizing: border-box;\n",
              "  padding-bottom: 0.4em;\n",
              "  background-color: var(--sklearn-color-background);\n",
              "}\n",
              "\n",
              "#sk-container-id-32 div.sk-container {\n",
              "  /* jupyter's `normalize.less` sets `[hidden] { display: none; }`\n",
              "     but bootstrap.min.css set `[hidden] { display: none !important; }`\n",
              "     so we also need the `!important` here to be able to override the\n",
              "     default hidden behavior on the sphinx rendered scikit-learn.org.\n",
              "     See: https://github.com/scikit-learn/scikit-learn/issues/21755 */\n",
              "  display: inline-block !important;\n",
              "  position: relative;\n",
              "}\n",
              "\n",
              "#sk-container-id-32 div.sk-text-repr-fallback {\n",
              "  display: none;\n",
              "}\n",
              "\n",
              "div.sk-parallel-item,\n",
              "div.sk-serial,\n",
              "div.sk-item {\n",
              "  /* draw centered vertical line to link estimators */\n",
              "  background-image: linear-gradient(var(--sklearn-color-text-on-default-background), var(--sklearn-color-text-on-default-background));\n",
              "  background-size: 2px 100%;\n",
              "  background-repeat: no-repeat;\n",
              "  background-position: center center;\n",
              "}\n",
              "\n",
              "/* Parallel-specific style estimator block */\n",
              "\n",
              "#sk-container-id-32 div.sk-parallel-item::after {\n",
              "  content: \"\";\n",
              "  width: 100%;\n",
              "  border-bottom: 2px solid var(--sklearn-color-text-on-default-background);\n",
              "  flex-grow: 1;\n",
              "}\n",
              "\n",
              "#sk-container-id-32 div.sk-parallel {\n",
              "  display: flex;\n",
              "  align-items: stretch;\n",
              "  justify-content: center;\n",
              "  background-color: var(--sklearn-color-background);\n",
              "  position: relative;\n",
              "}\n",
              "\n",
              "#sk-container-id-32 div.sk-parallel-item {\n",
              "  display: flex;\n",
              "  flex-direction: column;\n",
              "}\n",
              "\n",
              "#sk-container-id-32 div.sk-parallel-item:first-child::after {\n",
              "  align-self: flex-end;\n",
              "  width: 50%;\n",
              "}\n",
              "\n",
              "#sk-container-id-32 div.sk-parallel-item:last-child::after {\n",
              "  align-self: flex-start;\n",
              "  width: 50%;\n",
              "}\n",
              "\n",
              "#sk-container-id-32 div.sk-parallel-item:only-child::after {\n",
              "  width: 0;\n",
              "}\n",
              "\n",
              "/* Serial-specific style estimator block */\n",
              "\n",
              "#sk-container-id-32 div.sk-serial {\n",
              "  display: flex;\n",
              "  flex-direction: column;\n",
              "  align-items: center;\n",
              "  background-color: var(--sklearn-color-background);\n",
              "  padding-right: 1em;\n",
              "  padding-left: 1em;\n",
              "}\n",
              "\n",
              "\n",
              "/* Toggleable style: style used for estimator/Pipeline/ColumnTransformer box that is\n",
              "clickable and can be expanded/collapsed.\n",
              "- Pipeline and ColumnTransformer use this feature and define the default style\n",
              "- Estimators will overwrite some part of the style using the `sk-estimator` class\n",
              "*/\n",
              "\n",
              "/* Pipeline and ColumnTransformer style (default) */\n",
              "\n",
              "#sk-container-id-32 div.sk-toggleable {\n",
              "  /* Default theme specific background. It is overwritten whether we have a\n",
              "  specific estimator or a Pipeline/ColumnTransformer */\n",
              "  background-color: var(--sklearn-color-background);\n",
              "}\n",
              "\n",
              "/* Toggleable label */\n",
              "#sk-container-id-32 label.sk-toggleable__label {\n",
              "  cursor: pointer;\n",
              "  display: flex;\n",
              "  width: 100%;\n",
              "  margin-bottom: 0;\n",
              "  padding: 0.5em;\n",
              "  box-sizing: border-box;\n",
              "  text-align: center;\n",
              "  align-items: start;\n",
              "  justify-content: space-between;\n",
              "  gap: 0.5em;\n",
              "}\n",
              "\n",
              "#sk-container-id-32 label.sk-toggleable__label .caption {\n",
              "  font-size: 0.6rem;\n",
              "  font-weight: lighter;\n",
              "  color: var(--sklearn-color-text-muted);\n",
              "}\n",
              "\n",
              "#sk-container-id-32 label.sk-toggleable__label-arrow:before {\n",
              "  /* Arrow on the left of the label */\n",
              "  content: \"▸\";\n",
              "  float: left;\n",
              "  margin-right: 0.25em;\n",
              "  color: var(--sklearn-color-icon);\n",
              "}\n",
              "\n",
              "#sk-container-id-32 label.sk-toggleable__label-arrow:hover:before {\n",
              "  color: var(--sklearn-color-text);\n",
              "}\n",
              "\n",
              "/* Toggleable content - dropdown */\n",
              "\n",
              "#sk-container-id-32 div.sk-toggleable__content {\n",
              "  max-height: 0;\n",
              "  max-width: 0;\n",
              "  overflow: hidden;\n",
              "  text-align: left;\n",
              "  /* unfitted */\n",
              "  background-color: var(--sklearn-color-unfitted-level-0);\n",
              "}\n",
              "\n",
              "#sk-container-id-32 div.sk-toggleable__content.fitted {\n",
              "  /* fitted */\n",
              "  background-color: var(--sklearn-color-fitted-level-0);\n",
              "}\n",
              "\n",
              "#sk-container-id-32 div.sk-toggleable__content pre {\n",
              "  margin: 0.2em;\n",
              "  border-radius: 0.25em;\n",
              "  color: var(--sklearn-color-text);\n",
              "  /* unfitted */\n",
              "  background-color: var(--sklearn-color-unfitted-level-0);\n",
              "}\n",
              "\n",
              "#sk-container-id-32 div.sk-toggleable__content.fitted pre {\n",
              "  /* unfitted */\n",
              "  background-color: var(--sklearn-color-fitted-level-0);\n",
              "}\n",
              "\n",
              "#sk-container-id-32 input.sk-toggleable__control:checked~div.sk-toggleable__content {\n",
              "  /* Expand drop-down */\n",
              "  max-height: 200px;\n",
              "  max-width: 100%;\n",
              "  overflow: auto;\n",
              "}\n",
              "\n",
              "#sk-container-id-32 input.sk-toggleable__control:checked~label.sk-toggleable__label-arrow:before {\n",
              "  content: \"▾\";\n",
              "}\n",
              "\n",
              "/* Pipeline/ColumnTransformer-specific style */\n",
              "\n",
              "#sk-container-id-32 div.sk-label input.sk-toggleable__control:checked~label.sk-toggleable__label {\n",
              "  color: var(--sklearn-color-text);\n",
              "  background-color: var(--sklearn-color-unfitted-level-2);\n",
              "}\n",
              "\n",
              "#sk-container-id-32 div.sk-label.fitted input.sk-toggleable__control:checked~label.sk-toggleable__label {\n",
              "  background-color: var(--sklearn-color-fitted-level-2);\n",
              "}\n",
              "\n",
              "/* Estimator-specific style */\n",
              "\n",
              "/* Colorize estimator box */\n",
              "#sk-container-id-32 div.sk-estimator input.sk-toggleable__control:checked~label.sk-toggleable__label {\n",
              "  /* unfitted */\n",
              "  background-color: var(--sklearn-color-unfitted-level-2);\n",
              "}\n",
              "\n",
              "#sk-container-id-32 div.sk-estimator.fitted input.sk-toggleable__control:checked~label.sk-toggleable__label {\n",
              "  /* fitted */\n",
              "  background-color: var(--sklearn-color-fitted-level-2);\n",
              "}\n",
              "\n",
              "#sk-container-id-32 div.sk-label label.sk-toggleable__label,\n",
              "#sk-container-id-32 div.sk-label label {\n",
              "  /* The background is the default theme color */\n",
              "  color: var(--sklearn-color-text-on-default-background);\n",
              "}\n",
              "\n",
              "/* On hover, darken the color of the background */\n",
              "#sk-container-id-32 div.sk-label:hover label.sk-toggleable__label {\n",
              "  color: var(--sklearn-color-text);\n",
              "  background-color: var(--sklearn-color-unfitted-level-2);\n",
              "}\n",
              "\n",
              "/* Label box, darken color on hover, fitted */\n",
              "#sk-container-id-32 div.sk-label.fitted:hover label.sk-toggleable__label.fitted {\n",
              "  color: var(--sklearn-color-text);\n",
              "  background-color: var(--sklearn-color-fitted-level-2);\n",
              "}\n",
              "\n",
              "/* Estimator label */\n",
              "\n",
              "#sk-container-id-32 div.sk-label label {\n",
              "  font-family: monospace;\n",
              "  font-weight: bold;\n",
              "  display: inline-block;\n",
              "  line-height: 1.2em;\n",
              "}\n",
              "\n",
              "#sk-container-id-32 div.sk-label-container {\n",
              "  text-align: center;\n",
              "}\n",
              "\n",
              "/* Estimator-specific */\n",
              "#sk-container-id-32 div.sk-estimator {\n",
              "  font-family: monospace;\n",
              "  border: 1px dotted var(--sklearn-color-border-box);\n",
              "  border-radius: 0.25em;\n",
              "  box-sizing: border-box;\n",
              "  margin-bottom: 0.5em;\n",
              "  /* unfitted */\n",
              "  background-color: var(--sklearn-color-unfitted-level-0);\n",
              "}\n",
              "\n",
              "#sk-container-id-32 div.sk-estimator.fitted {\n",
              "  /* fitted */\n",
              "  background-color: var(--sklearn-color-fitted-level-0);\n",
              "}\n",
              "\n",
              "/* on hover */\n",
              "#sk-container-id-32 div.sk-estimator:hover {\n",
              "  /* unfitted */\n",
              "  background-color: var(--sklearn-color-unfitted-level-2);\n",
              "}\n",
              "\n",
              "#sk-container-id-32 div.sk-estimator.fitted:hover {\n",
              "  /* fitted */\n",
              "  background-color: var(--sklearn-color-fitted-level-2);\n",
              "}\n",
              "\n",
              "/* Specification for estimator info (e.g. \"i\" and \"?\") */\n",
              "\n",
              "/* Common style for \"i\" and \"?\" */\n",
              "\n",
              ".sk-estimator-doc-link,\n",
              "a:link.sk-estimator-doc-link,\n",
              "a:visited.sk-estimator-doc-link {\n",
              "  float: right;\n",
              "  font-size: smaller;\n",
              "  line-height: 1em;\n",
              "  font-family: monospace;\n",
              "  background-color: var(--sklearn-color-background);\n",
              "  border-radius: 1em;\n",
              "  height: 1em;\n",
              "  width: 1em;\n",
              "  text-decoration: none !important;\n",
              "  margin-left: 0.5em;\n",
              "  text-align: center;\n",
              "  /* unfitted */\n",
              "  border: var(--sklearn-color-unfitted-level-1) 1pt solid;\n",
              "  color: var(--sklearn-color-unfitted-level-1);\n",
              "}\n",
              "\n",
              ".sk-estimator-doc-link.fitted,\n",
              "a:link.sk-estimator-doc-link.fitted,\n",
              "a:visited.sk-estimator-doc-link.fitted {\n",
              "  /* fitted */\n",
              "  border: var(--sklearn-color-fitted-level-1) 1pt solid;\n",
              "  color: var(--sklearn-color-fitted-level-1);\n",
              "}\n",
              "\n",
              "/* On hover */\n",
              "div.sk-estimator:hover .sk-estimator-doc-link:hover,\n",
              ".sk-estimator-doc-link:hover,\n",
              "div.sk-label-container:hover .sk-estimator-doc-link:hover,\n",
              ".sk-estimator-doc-link:hover {\n",
              "  /* unfitted */\n",
              "  background-color: var(--sklearn-color-unfitted-level-3);\n",
              "  color: var(--sklearn-color-background);\n",
              "  text-decoration: none;\n",
              "}\n",
              "\n",
              "div.sk-estimator.fitted:hover .sk-estimator-doc-link.fitted:hover,\n",
              ".sk-estimator-doc-link.fitted:hover,\n",
              "div.sk-label-container:hover .sk-estimator-doc-link.fitted:hover,\n",
              ".sk-estimator-doc-link.fitted:hover {\n",
              "  /* fitted */\n",
              "  background-color: var(--sklearn-color-fitted-level-3);\n",
              "  color: var(--sklearn-color-background);\n",
              "  text-decoration: none;\n",
              "}\n",
              "\n",
              "/* Span, style for the box shown on hovering the info icon */\n",
              ".sk-estimator-doc-link span {\n",
              "  display: none;\n",
              "  z-index: 9999;\n",
              "  position: relative;\n",
              "  font-weight: normal;\n",
              "  right: .2ex;\n",
              "  padding: .5ex;\n",
              "  margin: .5ex;\n",
              "  width: min-content;\n",
              "  min-width: 20ex;\n",
              "  max-width: 50ex;\n",
              "  color: var(--sklearn-color-text);\n",
              "  box-shadow: 2pt 2pt 4pt #999;\n",
              "  /* unfitted */\n",
              "  background: var(--sklearn-color-unfitted-level-0);\n",
              "  border: .5pt solid var(--sklearn-color-unfitted-level-3);\n",
              "}\n",
              "\n",
              ".sk-estimator-doc-link.fitted span {\n",
              "  /* fitted */\n",
              "  background: var(--sklearn-color-fitted-level-0);\n",
              "  border: var(--sklearn-color-fitted-level-3);\n",
              "}\n",
              "\n",
              ".sk-estimator-doc-link:hover span {\n",
              "  display: block;\n",
              "}\n",
              "\n",
              "/* \"?\"-specific style due to the `<a>` HTML tag */\n",
              "\n",
              "#sk-container-id-32 a.estimator_doc_link {\n",
              "  float: right;\n",
              "  font-size: 1rem;\n",
              "  line-height: 1em;\n",
              "  font-family: monospace;\n",
              "  background-color: var(--sklearn-color-background);\n",
              "  border-radius: 1rem;\n",
              "  height: 1rem;\n",
              "  width: 1rem;\n",
              "  text-decoration: none;\n",
              "  /* unfitted */\n",
              "  color: var(--sklearn-color-unfitted-level-1);\n",
              "  border: var(--sklearn-color-unfitted-level-1) 1pt solid;\n",
              "}\n",
              "\n",
              "#sk-container-id-32 a.estimator_doc_link.fitted {\n",
              "  /* fitted */\n",
              "  border: var(--sklearn-color-fitted-level-1) 1pt solid;\n",
              "  color: var(--sklearn-color-fitted-level-1);\n",
              "}\n",
              "\n",
              "/* On hover */\n",
              "#sk-container-id-32 a.estimator_doc_link:hover {\n",
              "  /* unfitted */\n",
              "  background-color: var(--sklearn-color-unfitted-level-3);\n",
              "  color: var(--sklearn-color-background);\n",
              "  text-decoration: none;\n",
              "}\n",
              "\n",
              "#sk-container-id-32 a.estimator_doc_link.fitted:hover {\n",
              "  /* fitted */\n",
              "  background-color: var(--sklearn-color-fitted-level-3);\n",
              "}\n",
              "</style><div id=\"sk-container-id-32\" class=\"sk-top-container\"><div class=\"sk-text-repr-fallback\"><pre>LinearRegression()</pre><b>In a Jupyter environment, please rerun this cell to show the HTML representation or trust the notebook. <br />On GitHub, the HTML representation is unable to render, please try loading this page with nbviewer.org.</b></div><div class=\"sk-container\" hidden><div class=\"sk-item\"><div class=\"sk-estimator fitted sk-toggleable\"><input class=\"sk-toggleable__control sk-hidden--visually\" id=\"sk-estimator-id-32\" type=\"checkbox\" checked><label for=\"sk-estimator-id-32\" class=\"sk-toggleable__label fitted sk-toggleable__label-arrow\"><div><div>LinearRegression</div></div><div><a class=\"sk-estimator-doc-link fitted\" rel=\"noreferrer\" target=\"_blank\" href=\"https://scikit-learn.org/1.6/modules/generated/sklearn.linear_model.LinearRegression.html\">?<span>Documentation for LinearRegression</span></a><span class=\"sk-estimator-doc-link fitted\">i<span>Fitted</span></span></div></label><div class=\"sk-toggleable__content fitted\"><pre>LinearRegression()</pre></div> </div></div></div></div>"
            ]
          },
          "metadata": {},
          "execution_count": 1127
        }
      ],
      "source": [
        "from sklearn.linear_model import LinearRegression\n",
        "model1 = LinearRegression()\n",
        "model1.fit(xl_train, yl_train)"
      ]
    },
    {
      "cell_type": "code",
      "execution_count": null,
      "metadata": {
        "id": "REApHMITj8UI"
      },
      "outputs": [],
      "source": [
        "yl_p = model1.predict(xl_test)"
      ]
    },
    {
      "cell_type": "markdown",
      "metadata": {
        "id": "Aq2KUH4Cr3hW"
      },
      "source": [
        "***Mean Squared Error values of the LinearRegression class of scikit learn***"
      ]
    },
    {
      "cell_type": "code",
      "execution_count": null,
      "metadata": {
        "id": "yTmZpY7FrCZi",
        "colab": {
          "base_uri": "https://localhost:8080/"
        },
        "outputId": "b5af8151-3587-4620-e043-9f95260e7dda"
      },
      "outputs": [
        {
          "output_type": "execute_result",
          "data": {
            "text/plain": [
              "0.08457400260257629"
            ]
          },
          "metadata": {},
          "execution_count": 1129
        }
      ],
      "source": [
        "mean_squared_error(yl_test, yl_p)"
      ]
    },
    {
      "cell_type": "markdown",
      "metadata": {
        "id": "vFnZPZ-HJelq"
      },
      "source": [
        "***R2 values of the LinearRegression class of scikit learn***"
      ]
    },
    {
      "cell_type": "code",
      "execution_count": null,
      "metadata": {
        "id": "o2CfrvFajtN_",
        "colab": {
          "base_uri": "https://localhost:8080/"
        },
        "outputId": "860f10a1-7686-4b24-ce98-611b774babd0"
      },
      "outputs": [
        {
          "output_type": "stream",
          "name": "stdout",
          "text": [
            "0.9215935236936268\n"
          ]
        }
      ],
      "source": [
        "from sklearn.metrics import r2_score\n",
        "print(r2_score(yl_test, yl_p, multioutput='variance_weighted') )\n",
        "# print(r2_score(yl_train,model1.predict(xl_train), multioutput='variance_weighted'))"
      ]
    },
    {
      "cell_type": "code",
      "execution_count": null,
      "metadata": {
        "id": "CFxZkntj1X54",
        "colab": {
          "base_uri": "https://localhost:8080/"
        },
        "outputId": "6b59d770-5f99-4566-fa01-95cede60a5a7"
      },
      "outputs": [
        {
          "output_type": "stream",
          "name": "stdout",
          "text": [
            "0.1996048923611224\n",
            "0.965450194171044\n"
          ]
        }
      ],
      "source": [
        "print(median_absolute_error(y_test,Federated_model.predict(X_test)))\n",
        "print(median_absolute_error(y_test,ys_p))"
      ]
    },
    {
      "cell_type": "markdown",
      "metadata": {
        "id": "eCTVSN2p1odn"
      },
      "source": [
        "# **Results**\n",
        "\n",
        "\n",
        "\n"
      ]
    },
    {
      "cell_type": "markdown",
      "metadata": {
        "id": "tO8x_fSZ0bON"
      },
      "source": [
        "***Comparing predicted values of Federated_Model & sklearn_functions with real values***"
      ]
    },
    {
      "cell_type": "code",
      "execution_count": null,
      "metadata": {
        "id": "k3tNUKekFMWC"
      },
      "outputs": [],
      "source": [
        "def unscale(y,y_pred,y_sk,y_sgd):\n",
        "  y = (y*y_std)+y_mean\n",
        "  y_pred = (y_pred*y_std)+y_mean\n",
        "  y_sk = (y_sk*y_std)+y_mean\n",
        "  y_sgd = (y_sgd*y_std)+y_mean\n",
        "  return y,y_pred,y_sk,y_sgd"
      ]
    },
    {
      "cell_type": "code",
      "execution_count": null,
      "metadata": {
        "id": "I3qHa3SXx1Gx"
      },
      "outputs": [],
      "source": [
        "def compare(Fed_mod,x,y,y_sk,y_sgd,index):\n",
        "  y_pred = Federated_model.predict(x)\n",
        "  y,y_pred,y_sk,y_sgd = unscale(y,y_pred,y_sk,y_sgd)\n",
        "  result = np.column_stack((y,y_pred,y_sk,y_sgd))\n",
        "  result_df = pd.DataFrame(result,columns = ['Real','Predicted','skl_linear','skl_SGD'])\n",
        "  print(result_df.iloc[index])\n"
      ]
    },
    {
      "cell_type": "code",
      "execution_count": null,
      "metadata": {
        "id": "jmpigIHPzCNB",
        "colab": {
          "base_uri": "https://localhost:8080/"
        },
        "outputId": "f6e2f329-2a7f-4d90-d184-9a1e5cecc365"
      },
      "outputs": [
        {
          "output_type": "stream",
          "name": "stdout",
          "text": [
            "Real          1.629984e+06\n",
            "Predicted     1.681607e+06\n",
            "skl_linear    6.574497e+05\n",
            "skl_SGD       6.600531e+05\n",
            "Name: 100, dtype: float64\n"
          ]
        }
      ],
      "source": [
        "index = 100\n",
        "compare(Federated_model,X_test,y_test,yl_p,ys_p,index)"
      ]
    },
    {
      "cell_type": "markdown",
      "metadata": {
        "id": "Jkba2AJrL-1v"
      },
      "source": [
        "***Comparing median absolute error of our Federated_model and SGDRegressor of sklearn library***"
      ]
    },
    {
      "cell_type": "markdown",
      "metadata": {
        "id": "zj0X5hib8UtA"
      },
      "source": [
        "# **Comparing number of communicaton cycles to reach a Target r2 score**"
      ]
    },
    {
      "cell_type": "code",
      "execution_count": null,
      "metadata": {
        "id": "sRCcQeG0708T",
        "colab": {
          "base_uri": "https://localhost:8080/"
        },
        "outputId": "5fea540a-a52a-490b-934c-7de296c00afc"
      },
      "outputs": [
        {
          "output_type": "stream",
          "name": "stdout",
          "text": [
            "Average R2 Score after 100 iterations: 0.92\n"
          ]
        }
      ],
      "source": [
        "n = 100\n",
        "r2_scores = []\n",
        "\n",
        "for _ in range(n):\n",
        "    model2 = LinearRegression()\n",
        "    model2.fit(X_train, y_train)\n",
        "    yl_p = model1.predict(X_test)\n",
        "    tr2 = r2_score(y_test, yl_p, multioutput='variance_weighted')\n",
        "    r2_scores.append(tr2)\n",
        "#     print(f\"R2 Score: {tr2:.2f}\")\n",
        "\n",
        "average_r2 = np.mean(r2_scores)\n",
        "print(f\"Average R2 Score after {n} iterations: {average_r2:.2f}\")"
      ]
    },
    {
      "cell_type": "code",
      "execution_count": null,
      "metadata": {
        "id": "5gBhO3nI9Wdj"
      },
      "outputs": [],
      "source": [
        "# learning_rate = 0.001\n",
        "# n_clients = 20\n",
        "# epoch = 10\n",
        "# local_batch = 20\n",
        "# cycles = 1\n",
        "\n",
        "# enable_noise = True\n",
        "# client_index = 2\n",
        "# feature_index = 1\n",
        "# noise_value = 5\n",
        "# change_percentage = 0.5\n",
        "\n",
        "# target_r2_score = 0.90\n",
        "\n",
        "# while True:\n",
        "#     num_features = X_train.shape[1]\n",
        "#     w = np.ones((num_features, 1))\n",
        "#     b = 0\n",
        "#     local_model1 = Regressor(w, b, local_batch, learning_rate, epoch)\n",
        "#     global_model1 = Regressor(w, b, 0, 0, 0)\n",
        "#     fed1 = Federated(global_model1, local_model1, cycles, n_clients, X_train, y_train, enable_noise,\n",
        "#                      client_index, feature_index, noise_value, change_percentage)\n",
        "#     Federated_model1, mse_global1, cycle_global1 = fed1.fed_learn()\n",
        "#     yx_p = global_model1.predict(X_test)\n",
        "#     r_2x = r2_score(y_test, yx_p, multioutput='variance_weighted')\n",
        "#     print(f\"R2 score after {cycles} cycles: {r_2x}\")\n",
        "\n",
        "#     if r_2x >= target_r2_score:\n",
        "#         break\n",
        "#     cycles += 1\n"
      ]
    },
    {
      "cell_type": "code",
      "execution_count": null,
      "metadata": {
        "id": "e3yWrVn4-h62",
        "colab": {
          "base_uri": "https://localhost:8080/"
        },
        "outputId": "eb59b761-8e73-47d9-9e8e-38b5735dc4c4"
      },
      "outputs": [
        {
          "output_type": "stream",
          "name": "stdout",
          "text": [
            "Table 1:\n",
            "\n",
            "   Client  Epoch  Batch  Cycles  SpeedUp\n",
            "0     1.0    5.0    5.0  3219.0     1.00\n",
            "1    10.0    5.0    5.0   127.0    24.64\n",
            "2    20.0   10.0   10.0    39.0    82.54\n",
            "3    50.0   15.0   15.0     9.0   357.67\n",
            "4   100.0   20.0   20.0     3.0  1073.00\n",
            "\n",
            "Table 2:\n",
            "LEARNING RATE = 0.001, CLIENTS = 20 , EPOCHS = 10\n",
            "\n",
            "   Batch  Cycles  SpeedUp\n",
            "0      5      35        1\n",
            "1     10      35        1\n",
            "2     15      36        1\n",
            "3     20      36        1\n",
            "\n",
            "Table 3:\n",
            "LEARNING RATE = 0.001, CLIENTS = 20 , BATCHES = 10\n",
            "\n",
            "   Epoch  Cycles  SpeedUp\n",
            "0      5      73        1\n",
            "1     10      36        2\n",
            "2     15      25        3\n",
            "3     20      18        4\n",
            "\n",
            "Table 4:\n",
            "LEARNING RATE = 0.001, BATCHES = 10 , EPOCHS = 10\n",
            "\n",
            "   Clients  Cycles  SpeedUp\n",
            "0        1    1642        1\n",
            "1       10      75       21\n",
            "2       20      35       46\n",
            "3       55      14      117\n",
            "4      100       7      234\n"
          ]
        }
      ],
      "source": [
        "r2_score(yl_test, ys_p, multioutput='variance_weighted')\n",
        "array = np.array([[1, 5, 5, 3219, 1],\n",
        "                  [10, 5, 5, 127, 24.64],\n",
        "                  [20, 10, 10, 39, 82.54],\n",
        "                  [50, 15, 15, 9, 357.67],\n",
        "                  [100, 20, 20, 3, 1073]])\n",
        "\n",
        "column_names = ['Client', 'Epoch', 'Batch', 'Cycles', 'SpeedUp']\n",
        "\n",
        "table = pd.DataFrame(array, columns=column_names)\n",
        "print(\"Table 1:\\n\")\n",
        "print(table)\n",
        "\n",
        "array1 = np.array([[5, 35, 1],\n",
        "                   [10, 35, 1],\n",
        "                   [15, 36, 1],\n",
        "                   [20, 36, 1]])\n",
        "\n",
        "column_names1 = ['Batch', 'Cycles', 'SpeedUp']\n",
        "\n",
        "table1 = pd.DataFrame(array1, columns=column_names1)\n",
        "print(\"\\nTable 2:\\nLEARNING RATE = 0.001, CLIENTS = 20 , EPOCHS = 10\\n\")\n",
        "print(table1)\n",
        "\n",
        "array2 = np.array([[5, 73, 1],\n",
        "                   [10, 36, 2],\n",
        "                   [15, 25, 3],\n",
        "                   [20, 18, 4]])\n",
        "\n",
        "column_names2 = ['Epoch', 'Cycles', 'SpeedUp']\n",
        "\n",
        "table2 = pd.DataFrame(array2, columns=column_names2)\n",
        "print(\"\\nTable 3:\\nLEARNING RATE = 0.001, CLIENTS = 20 , BATCHES = 10\\n\")\n",
        "print(table2)\n",
        "\n",
        "array3 = np.array([[1, 1642, 1],\n",
        "                   [10, 75, 21],\n",
        "                   [20, 35, 46],\n",
        "                   [55, 14, 117],\n",
        "                   [100, 7, 234]])\n",
        "\n",
        "column_names3 = ['Clients', 'Cycles', 'SpeedUp']\n",
        "\n",
        "table3 = pd.DataFrame(array3, columns=column_names3)\n",
        "print(\"\\nTable 4:\\nLEARNING RATE = 0.001, BATCHES = 10 , EPOCHS = 10\\n\")\n",
        "print(table3)"
      ]
    },
    {
      "cell_type": "code",
      "execution_count": null,
      "metadata": {
        "id": "Qu2DFpiJwBIC",
        "colab": {
          "base_uri": "https://localhost:8080/"
        },
        "outputId": "df18fe63-9b3b-4042-e386-3b03db37eb4b"
      },
      "outputs": [
        {
          "output_type": "stream",
          "name": "stdout",
          "text": [
            "0.9195021079550478\n"
          ]
        }
      ],
      "source": [
        "from sklearn.linear_model import LinearRegression\n",
        "from sklearn.metrics import r2_score\n",
        "model1 = LinearRegression()\n",
        "model1.fit(X_train, y_train)\n",
        "yl_p = model1.predict(X_test)\n",
        "target = r2_score(y_test, yl_p, multioutput='variance_weighted')\n",
        "print(target)"
      ]
    },
    {
      "cell_type": "code",
      "execution_count": null,
      "metadata": {
        "id": "NhRi_qvlYRms"
      },
      "outputs": [],
      "source": []
    }
  ],
  "metadata": {
    "colab": {
      "provenance": []
    },
    "kernelspec": {
      "display_name": "Python 3",
      "name": "python3"
    },
    "language_info": {
      "name": "python"
    }
  },
  "nbformat": 4,
  "nbformat_minor": 0
}